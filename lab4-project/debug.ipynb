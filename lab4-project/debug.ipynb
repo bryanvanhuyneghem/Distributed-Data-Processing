{
 "cells": [
  {
   "cell_type": "markdown",
   "metadata": {},
   "source": [
    "# Debug helpers\n",
    "\n",
    "This notebook contains a bunch of scripts that can help debug some issues."
   ]
  },
  {
   "cell_type": "code",
   "execution_count": 1,
   "metadata": {
    "tags": []
   },
   "outputs": [
    {
     "output_type": "stream",
     "name": "stdout",
     "text": [
      "Requirement already satisfied: kafka-python in /opt/conda/lib/python3.8/site-packages (2.0.2)\n"
     ]
    }
   ],
   "source": [
    "%%bash\n",
    "# Ensure the required Python 3 dependencies are installed.\n",
    "python3 -m pip install kafka-python"
   ]
  },
  {
   "cell_type": "markdown",
   "metadata": {},
   "source": [
    "## Show the last 10 messages on a Kafka topic"
   ]
  },
  {
   "cell_type": "code",
   "execution_count": 34,
   "metadata": {
    "tags": []
   },
   "outputs": [
    {
     "output_type": "stream",
     "name": "stdout",
     "text": [
      "Last offset: 603\nRAW MESSAGE VALUE: b'{\"date\":\"2016-01-06\",\"hour\":5,\"window\":{\"start\":\"2016-01-06T05:00:00.000Z\",\"end\":\"2016-01-06T06:00:00.000Z\"},\"numCalls\":5,\"historicalDate\":\"2016-01-05\",\"historicalHour\":5,\"historicalNumCalls\":12,\"hasMoreCalls\":false}'\nRECODED JSON: {\n    \"date\": \"2016-01-06\",\n    \"hour\": 5,\n    \"window\": {\n        \"start\": \"2016-01-06T05:00:00.000Z\",\n        \"end\": \"2016-01-06T06:00:00.000Z\"\n    },\n    \"numCalls\": 5,\n    \"historicalDate\": \"2016-01-05\",\n    \"historicalHour\": 5,\n    \"historicalNumCalls\": 12,\n    \"hasMoreCalls\": false\n}\nTIMESTAMP: 2020-12-03 15:48:07.309000\n\nRAW MESSAGE VALUE: b'{\"date\":\"2016-01-06\",\"hour\":6,\"window\":{\"start\":\"2016-01-06T06:00:00.000Z\",\"end\":\"2016-01-06T07:00:00.000Z\"},\"numCalls\":10,\"historicalDate\":\"2016-01-05\",\"historicalHour\":6,\"historicalNumCalls\":14,\"hasMoreCalls\":false}'\nRECODED JSON: {\n    \"date\": \"2016-01-06\",\n    \"hour\": 6,\n    \"window\": {\n        \"start\": \"2016-01-06T06:00:00.000Z\",\n        \"end\": \"2016-01-06T07:00:00.000Z\"\n    },\n    \"numCalls\": 10,\n    \"historicalDate\": \"2016-01-05\",\n    \"historicalHour\": 6,\n    \"historicalNumCalls\": 14,\n    \"hasMoreCalls\": false\n}\nTIMESTAMP: 2020-12-03 15:48:07.309000\n\nRAW MESSAGE VALUE: b'{\"date\":\"2016-01-06\",\"hour\":7,\"window\":{\"start\":\"2016-01-06T07:00:00.000Z\",\"end\":\"2016-01-06T08:00:00.000Z\"},\"numCalls\":29,\"historicalDate\":\"2016-01-05\",\"historicalHour\":7,\"historicalNumCalls\":30,\"hasMoreCalls\":false}'\nRECODED JSON: {\n    \"date\": \"2016-01-06\",\n    \"hour\": 7,\n    \"window\": {\n        \"start\": \"2016-01-06T07:00:00.000Z\",\n        \"end\": \"2016-01-06T08:00:00.000Z\"\n    },\n    \"numCalls\": 29,\n    \"historicalDate\": \"2016-01-05\",\n    \"historicalHour\": 7,\n    \"historicalNumCalls\": 30,\n    \"hasMoreCalls\": false\n}\nTIMESTAMP: 2020-12-03 15:48:07.309000\n\nRAW MESSAGE VALUE: b'{\"date\":\"2016-01-06\",\"hour\":8,\"window\":{\"start\":\"2016-01-06T08:00:00.000Z\",\"end\":\"2016-01-06T09:00:00.000Z\"},\"numCalls\":24,\"historicalDate\":\"2016-01-05\",\"historicalHour\":8,\"historicalNumCalls\":32,\"hasMoreCalls\":false}'\nRECODED JSON: {\n    \"date\": \"2016-01-06\",\n    \"hour\": 8,\n    \"window\": {\n        \"start\": \"2016-01-06T08:00:00.000Z\",\n        \"end\": \"2016-01-06T09:00:00.000Z\"\n    },\n    \"numCalls\": 24,\n    \"historicalDate\": \"2016-01-05\",\n    \"historicalHour\": 8,\n    \"historicalNumCalls\": 32,\n    \"hasMoreCalls\": false\n}\nTIMESTAMP: 2020-12-03 15:48:07.309000\n\nRAW MESSAGE VALUE: b'{\"date\":\"2016-01-06\",\"hour\":9,\"window\":{\"start\":\"2016-01-06T09:00:00.000Z\",\"end\":\"2016-01-06T10:00:00.000Z\"},\"numCalls\":31,\"historicalDate\":\"2016-01-05\",\"historicalHour\":9,\"historicalNumCalls\":31,\"hasMoreCalls\":false}'\nRECODED JSON: {\n    \"date\": \"2016-01-06\",\n    \"hour\": 9,\n    \"window\": {\n        \"start\": \"2016-01-06T09:00:00.000Z\",\n        \"end\": \"2016-01-06T10:00:00.000Z\"\n    },\n    \"numCalls\": 31,\n    \"historicalDate\": \"2016-01-05\",\n    \"historicalHour\": 9,\n    \"historicalNumCalls\": 31,\n    \"hasMoreCalls\": false\n}\nTIMESTAMP: 2020-12-03 15:48:07.309000\n\nRAW MESSAGE VALUE: b'{\"date\":\"2016-01-06\",\"hour\":10,\"window\":{\"start\":\"2016-01-06T10:00:00.000Z\",\"end\":\"2016-01-06T11:00:00.000Z\"},\"numCalls\":22,\"historicalDate\":\"2016-01-05\",\"historicalHour\":10,\"historicalNumCalls\":19,\"hasMoreCalls\":true}'\nRECODED JSON: {\n    \"date\": \"2016-01-06\",\n    \"hour\": 10,\n    \"window\": {\n        \"start\": \"2016-01-06T10:00:00.000Z\",\n        \"end\": \"2016-01-06T11:00:00.000Z\"\n    },\n    \"numCalls\": 22,\n    \"historicalDate\": \"2016-01-05\",\n    \"historicalHour\": 10,\n    \"historicalNumCalls\": 19,\n    \"hasMoreCalls\": true\n}\nTIMESTAMP: 2020-12-03 15:48:07.309000\n\nRAW MESSAGE VALUE: b'{\"date\":\"2016-01-06\",\"hour\":11,\"window\":{\"start\":\"2016-01-06T11:00:00.000Z\",\"end\":\"2016-01-06T12:00:00.000Z\"},\"numCalls\":17,\"historicalDate\":\"2016-01-05\",\"historicalHour\":11,\"historicalNumCalls\":20,\"hasMoreCalls\":false}'\nRECODED JSON: {\n    \"date\": \"2016-01-06\",\n    \"hour\": 11,\n    \"window\": {\n        \"start\": \"2016-01-06T11:00:00.000Z\",\n        \"end\": \"2016-01-06T12:00:00.000Z\"\n    },\n    \"numCalls\": 17,\n    \"historicalDate\": \"2016-01-05\",\n    \"historicalHour\": 11,\n    \"historicalNumCalls\": 20,\n    \"hasMoreCalls\": false\n}\nTIMESTAMP: 2020-12-03 15:48:07.310000\n\nRAW MESSAGE VALUE: b'{\"date\":\"2016-01-06\",\"hour\":12,\"window\":{\"start\":\"2016-01-06T12:00:00.000Z\",\"end\":\"2016-01-06T13:00:00.000Z\"},\"numCalls\":30,\"historicalDate\":\"2016-01-05\",\"historicalHour\":12,\"historicalNumCalls\":37,\"hasMoreCalls\":false}'\nRECODED JSON: {\n    \"date\": \"2016-01-06\",\n    \"hour\": 12,\n    \"window\": {\n        \"start\": \"2016-01-06T12:00:00.000Z\",\n        \"end\": \"2016-01-06T13:00:00.000Z\"\n    },\n    \"numCalls\": 30,\n    \"historicalDate\": \"2016-01-05\",\n    \"historicalHour\": 12,\n    \"historicalNumCalls\": 37,\n    \"hasMoreCalls\": false\n}\nTIMESTAMP: 2020-12-03 15:48:07.310000\n\nRAW MESSAGE VALUE: b'{\"date\":\"2016-01-06\",\"hour\":13,\"window\":{\"start\":\"2016-01-06T13:00:00.000Z\",\"end\":\"2016-01-06T14:00:00.000Z\"},\"numCalls\":27,\"historicalDate\":\"2016-01-05\",\"historicalHour\":13,\"historicalNumCalls\":37,\"hasMoreCalls\":false}'\nRECODED JSON: {\n    \"date\": \"2016-01-06\",\n    \"hour\": 13,\n    \"window\": {\n        \"start\": \"2016-01-06T13:00:00.000Z\",\n        \"end\": \"2016-01-06T14:00:00.000Z\"\n    },\n    \"numCalls\": 27,\n    \"historicalDate\": \"2016-01-05\",\n    \"historicalHour\": 13,\n    \"historicalNumCalls\": 37,\n    \"hasMoreCalls\": false\n}\nTIMESTAMP: 2020-12-03 15:48:07.310000\n\nRAW MESSAGE VALUE: b'{\"date\":\"2016-01-06\",\"hour\":14,\"window\":{\"start\":\"2016-01-06T14:00:00.000Z\",\"end\":\"2016-01-06T15:00:00.000Z\"},\"numCalls\":26,\"historicalDate\":\"2016-01-05\",\"historicalHour\":14,\"historicalNumCalls\":27,\"hasMoreCalls\":false}'\nRECODED JSON: {\n    \"date\": \"2016-01-06\",\n    \"hour\": 14,\n    \"window\": {\n        \"start\": \"2016-01-06T14:00:00.000Z\",\n        \"end\": \"2016-01-06T15:00:00.000Z\"\n    },\n    \"numCalls\": 26,\n    \"historicalDate\": \"2016-01-05\",\n    \"historicalHour\": 14,\n    \"historicalNumCalls\": 27,\n    \"hasMoreCalls\": false\n}\nTIMESTAMP: 2020-12-03 15:48:07.311000\n\n"
     ]
    }
   ],
   "source": [
    "import json\n",
    "from datetime import datetime\n",
    "\n",
    "from kafka import KafkaConsumer, TopicPartition\n",
    "\n",
    "client = \"localhost:9092\"\n",
    "consumer = KafkaConsumer(bootstrap_servers=['localhost:9092'],\n",
    "                         enable_auto_commit=False,\n",
    "                         auto_offset_reset='latest')\n",
    "\n",
    "#\n",
    "#  CHANGE THIS TO THE TOPIC YOU WANT TO DEBUG\n",
    "#\n",
    "topic = 'ingest-cleaned-oef2'\n",
    "\n",
    "\n",
    "tp = TopicPartition(topic,0)\n",
    "consumer.assign([tp])\n",
    "\n",
    "consumer.seek_to_end(tp)\n",
    "lastOffset = consumer.position(tp)\n",
    "print(f\"Last offset: {lastOffset}\")\n",
    "\n",
    "tailOffset = lastOffset - 10\n",
    "if tailOffset < 0:\n",
    "    print(\"Topic has no messages!\")\n",
    "else :\n",
    "    consumer.seek(tp, tailOffset)    \n",
    "\n",
    "    for message in consumer:\n",
    "        print(f\"RAW MESSAGE VALUE: {message.value}\")\n",
    "        try:\n",
    "            m_obj = json.loads(message.value)\n",
    "            print(\"RECODED JSON:\", json.dumps(m_obj, indent=4))\n",
    "        except:\n",
    "            print(\"FAILED to decode message\")\n",
    "        ts = message.timestamp\n",
    "        ts = datetime.fromtimestamp(ts/1000.0)\n",
    "        print(f\"TIMESTAMP: {ts}\")\n",
    "        print()\n",
    "        if message.offset >= lastOffset - 1:\n",
    "                break"
   ]
  },
  {
   "cell_type": "markdown",
   "metadata": {},
   "source": [
    "## Follow a Kafka topic\n",
    "\n",
    "This script prints the content of messages of a Kafka topic when they get produced."
   ]
  },
  {
   "cell_type": "code",
   "execution_count": 6,
   "metadata": {},
   "outputs": [
    {
     "output_type": "stream",
     "name": "stdout",
     "text": [
      "RAW MESSAGE VALUE: b'{\"date\":\"2015-12-13\",\"hour\":6,\"window\":{\"start\":\"2015-12-13T06:00:00.000Z\",\"end\":\"2015-12-13T07:00:00.000Z\"},\"numCalls\":8,\"historicalDate\":\"2015-12-12\",\"historicalHour\":6,\"historicalNumCalls\":3,\"hasMoreCalls\":true}'\nDECODED MESSAGE VALUE: {'date': '2015-12-13', 'hour': 6, 'window': {'start': '2015-12-13T06:00:00.000Z', 'end': '2015-12-13T07:00:00.000Z'}, 'numCalls': 8, 'historicalDate': '2015-12-12', 'historicalHour': 6, 'historicalNumCalls': 3, 'hasMoreCalls': True}\nTIMESTAMP: 2020-12-03 14:02:25.913000\n\nRAW MESSAGE VALUE: b'{\"date\":\"2015-12-13\",\"hour\":7,\"window\":{\"start\":\"2015-12-13T07:00:00.000Z\",\"end\":\"2015-12-13T08:00:00.000Z\"},\"numCalls\":13,\"historicalDate\":\"2015-12-12\",\"historicalHour\":7,\"historicalNumCalls\":14,\"hasMoreCalls\":false}'\nDECODED MESSAGE VALUE: {'date': '2015-12-13', 'hour': 7, 'window': {'start': '2015-12-13T07:00:00.000Z', 'end': '2015-12-13T08:00:00.000Z'}, 'numCalls': 13, 'historicalDate': '2015-12-12', 'historicalHour': 7, 'historicalNumCalls': 14, 'hasMoreCalls': False}\nTIMESTAMP: 2020-12-03 14:02:25.914000\n\nRAW MESSAGE VALUE: b'{\"date\":\"2015-12-13\",\"hour\":8,\"window\":{\"start\":\"2015-12-13T08:00:00.000Z\",\"end\":\"2015-12-13T09:00:00.000Z\"},\"numCalls\":14,\"historicalDate\":\"2015-12-12\",\"historicalHour\":8,\"historicalNumCalls\":5,\"hasMoreCalls\":true}'\nDECODED MESSAGE VALUE: {'date': '2015-12-13', 'hour': 8, 'window': {'start': '2015-12-13T08:00:00.000Z', 'end': '2015-12-13T09:00:00.000Z'}, 'numCalls': 14, 'historicalDate': '2015-12-12', 'historicalHour': 8, 'historicalNumCalls': 5, 'hasMoreCalls': True}\nTIMESTAMP: 2020-12-03 14:02:25.914000\n\nRAW MESSAGE VALUE: b'{\"date\":\"2015-12-13\",\"hour\":9,\"window\":{\"start\":\"2015-12-13T09:00:00.000Z\",\"end\":\"2015-12-13T10:00:00.000Z\"},\"numCalls\":11,\"historicalDate\":\"2015-12-12\",\"historicalHour\":9,\"historicalNumCalls\":12,\"hasMoreCalls\":false}'\nDECODED MESSAGE VALUE: {'date': '2015-12-13', 'hour': 9, 'window': {'start': '2015-12-13T09:00:00.000Z', 'end': '2015-12-13T10:00:00.000Z'}, 'numCalls': 11, 'historicalDate': '2015-12-12', 'historicalHour': 9, 'historicalNumCalls': 12, 'hasMoreCalls': False}\nTIMESTAMP: 2020-12-03 14:02:25.915000\n\n"
     ]
    },
    {
     "output_type": "error",
     "ename": "KeyboardInterrupt",
     "evalue": "",
     "traceback": [
      "\u001b[0;31m---------------------------------------------------------------------------\u001b[0m",
      "\u001b[0;31mKeyboardInterrupt\u001b[0m                         Traceback (most recent call last)",
      "\u001b[0;32m<ipython-input-6-091ebbcbfe66>\u001b[0m in \u001b[0;36m<module>\u001b[0;34m\u001b[0m\n\u001b[1;32m     20\u001b[0m \u001b[0mloper\u001b[0m\u001b[0;34m=\u001b[0m\u001b[0;36m0\u001b[0m\u001b[0;34m\u001b[0m\u001b[0;34m\u001b[0m\u001b[0m\n\u001b[1;32m     21\u001b[0m \u001b[0mprint\u001b[0m\u001b[0;34m(\u001b[0m\u001b[0;34mf\"START LISTENING ON '{topic}'\"\u001b[0m\u001b[0;34m)\u001b[0m\u001b[0;34m\u001b[0m\u001b[0;34m\u001b[0m\u001b[0m\n\u001b[0;32m---> 22\u001b[0;31m \u001b[0;32mfor\u001b[0m \u001b[0mmessage\u001b[0m \u001b[0;32min\u001b[0m \u001b[0mconsumer\u001b[0m\u001b[0;34m:\u001b[0m\u001b[0;34m\u001b[0m\u001b[0;34m\u001b[0m\u001b[0m\n\u001b[0m\u001b[1;32m     23\u001b[0m     \u001b[0mloper\u001b[0m \u001b[0;34m=\u001b[0m \u001b[0mloper\u001b[0m\u001b[0;34m+\u001b[0m\u001b[0;36m1\u001b[0m\u001b[0;34m\u001b[0m\u001b[0;34m\u001b[0m\u001b[0m\n\u001b[1;32m     24\u001b[0m     \u001b[0;32mif\u001b[0m \u001b[0mi\u001b[0m \u001b[0;34m>\u001b[0m \u001b[0;36m5\u001b[0m\u001b[0;34m:\u001b[0m\u001b[0;34m\u001b[0m\u001b[0;34m\u001b[0m\u001b[0m\n",
      "\u001b[0;32m/opt/conda/lib/python3.8/site-packages/kafka/consumer/group.py\u001b[0m in \u001b[0;36m__next__\u001b[0;34m(self)\u001b[0m\n\u001b[1;32m   1191\u001b[0m             \u001b[0;32mreturn\u001b[0m \u001b[0mself\u001b[0m\u001b[0;34m.\u001b[0m\u001b[0mnext_v1\u001b[0m\u001b[0;34m(\u001b[0m\u001b[0;34m)\u001b[0m\u001b[0;34m\u001b[0m\u001b[0;34m\u001b[0m\u001b[0m\n\u001b[1;32m   1192\u001b[0m         \u001b[0;32melse\u001b[0m\u001b[0;34m:\u001b[0m\u001b[0;34m\u001b[0m\u001b[0;34m\u001b[0m\u001b[0m\n\u001b[0;32m-> 1193\u001b[0;31m             \u001b[0;32mreturn\u001b[0m \u001b[0mself\u001b[0m\u001b[0;34m.\u001b[0m\u001b[0mnext_v2\u001b[0m\u001b[0;34m(\u001b[0m\u001b[0;34m)\u001b[0m\u001b[0;34m\u001b[0m\u001b[0;34m\u001b[0m\u001b[0m\n\u001b[0m\u001b[1;32m   1194\u001b[0m \u001b[0;34m\u001b[0m\u001b[0m\n\u001b[1;32m   1195\u001b[0m     \u001b[0;32mdef\u001b[0m \u001b[0mnext_v2\u001b[0m\u001b[0;34m(\u001b[0m\u001b[0mself\u001b[0m\u001b[0;34m)\u001b[0m\u001b[0;34m:\u001b[0m\u001b[0;34m\u001b[0m\u001b[0;34m\u001b[0m\u001b[0m\n",
      "\u001b[0;32m/opt/conda/lib/python3.8/site-packages/kafka/consumer/group.py\u001b[0m in \u001b[0;36mnext_v2\u001b[0;34m(self)\u001b[0m\n\u001b[1;32m   1199\u001b[0m                 \u001b[0mself\u001b[0m\u001b[0;34m.\u001b[0m\u001b[0m_iterator\u001b[0m \u001b[0;34m=\u001b[0m \u001b[0mself\u001b[0m\u001b[0;34m.\u001b[0m\u001b[0m_message_generator_v2\u001b[0m\u001b[0;34m(\u001b[0m\u001b[0;34m)\u001b[0m\u001b[0;34m\u001b[0m\u001b[0;34m\u001b[0m\u001b[0m\n\u001b[1;32m   1200\u001b[0m             \u001b[0;32mtry\u001b[0m\u001b[0;34m:\u001b[0m\u001b[0;34m\u001b[0m\u001b[0;34m\u001b[0m\u001b[0m\n\u001b[0;32m-> 1201\u001b[0;31m                 \u001b[0;32mreturn\u001b[0m \u001b[0mnext\u001b[0m\u001b[0;34m(\u001b[0m\u001b[0mself\u001b[0m\u001b[0;34m.\u001b[0m\u001b[0m_iterator\u001b[0m\u001b[0;34m)\u001b[0m\u001b[0;34m\u001b[0m\u001b[0;34m\u001b[0m\u001b[0m\n\u001b[0m\u001b[1;32m   1202\u001b[0m             \u001b[0;32mexcept\u001b[0m \u001b[0mStopIteration\u001b[0m\u001b[0;34m:\u001b[0m\u001b[0;34m\u001b[0m\u001b[0;34m\u001b[0m\u001b[0m\n\u001b[1;32m   1203\u001b[0m                 \u001b[0mself\u001b[0m\u001b[0;34m.\u001b[0m\u001b[0m_iterator\u001b[0m \u001b[0;34m=\u001b[0m \u001b[0;32mNone\u001b[0m\u001b[0;34m\u001b[0m\u001b[0;34m\u001b[0m\u001b[0m\n",
      "\u001b[0;32m/opt/conda/lib/python3.8/site-packages/kafka/consumer/group.py\u001b[0m in \u001b[0;36m_message_generator_v2\u001b[0;34m(self)\u001b[0m\n\u001b[1;32m   1114\u001b[0m     \u001b[0;32mdef\u001b[0m \u001b[0m_message_generator_v2\u001b[0m\u001b[0;34m(\u001b[0m\u001b[0mself\u001b[0m\u001b[0;34m)\u001b[0m\u001b[0;34m:\u001b[0m\u001b[0;34m\u001b[0m\u001b[0;34m\u001b[0m\u001b[0m\n\u001b[1;32m   1115\u001b[0m         \u001b[0mtimeout_ms\u001b[0m \u001b[0;34m=\u001b[0m \u001b[0;36m1000\u001b[0m \u001b[0;34m*\u001b[0m \u001b[0;34m(\u001b[0m\u001b[0mself\u001b[0m\u001b[0;34m.\u001b[0m\u001b[0m_consumer_timeout\u001b[0m \u001b[0;34m-\u001b[0m \u001b[0mtime\u001b[0m\u001b[0;34m.\u001b[0m\u001b[0mtime\u001b[0m\u001b[0;34m(\u001b[0m\u001b[0;34m)\u001b[0m\u001b[0;34m)\u001b[0m\u001b[0;34m\u001b[0m\u001b[0;34m\u001b[0m\u001b[0m\n\u001b[0;32m-> 1116\u001b[0;31m         \u001b[0mrecord_map\u001b[0m \u001b[0;34m=\u001b[0m \u001b[0mself\u001b[0m\u001b[0;34m.\u001b[0m\u001b[0mpoll\u001b[0m\u001b[0;34m(\u001b[0m\u001b[0mtimeout_ms\u001b[0m\u001b[0;34m=\u001b[0m\u001b[0mtimeout_ms\u001b[0m\u001b[0;34m,\u001b[0m \u001b[0mupdate_offsets\u001b[0m\u001b[0;34m=\u001b[0m\u001b[0;32mFalse\u001b[0m\u001b[0;34m)\u001b[0m\u001b[0;34m\u001b[0m\u001b[0;34m\u001b[0m\u001b[0m\n\u001b[0m\u001b[1;32m   1117\u001b[0m         \u001b[0;32mfor\u001b[0m \u001b[0mtp\u001b[0m\u001b[0;34m,\u001b[0m \u001b[0mrecords\u001b[0m \u001b[0;32min\u001b[0m \u001b[0msix\u001b[0m\u001b[0;34m.\u001b[0m\u001b[0miteritems\u001b[0m\u001b[0;34m(\u001b[0m\u001b[0mrecord_map\u001b[0m\u001b[0;34m)\u001b[0m\u001b[0;34m:\u001b[0m\u001b[0;34m\u001b[0m\u001b[0;34m\u001b[0m\u001b[0m\n\u001b[1;32m   1118\u001b[0m             \u001b[0;31m# Generators are stateful, and it is possible that the tp / records\u001b[0m\u001b[0;34m\u001b[0m\u001b[0;34m\u001b[0m\u001b[0;34m\u001b[0m\u001b[0m\n",
      "\u001b[0;32m/opt/conda/lib/python3.8/site-packages/kafka/consumer/group.py\u001b[0m in \u001b[0;36mpoll\u001b[0;34m(self, timeout_ms, max_records, update_offsets)\u001b[0m\n\u001b[1;32m    653\u001b[0m         \u001b[0mremaining\u001b[0m \u001b[0;34m=\u001b[0m \u001b[0mtimeout_ms\u001b[0m\u001b[0;34m\u001b[0m\u001b[0;34m\u001b[0m\u001b[0m\n\u001b[1;32m    654\u001b[0m         \u001b[0;32mwhile\u001b[0m \u001b[0;32mTrue\u001b[0m\u001b[0;34m:\u001b[0m\u001b[0;34m\u001b[0m\u001b[0;34m\u001b[0m\u001b[0m\n\u001b[0;32m--> 655\u001b[0;31m             \u001b[0mrecords\u001b[0m \u001b[0;34m=\u001b[0m \u001b[0mself\u001b[0m\u001b[0;34m.\u001b[0m\u001b[0m_poll_once\u001b[0m\u001b[0;34m(\u001b[0m\u001b[0mremaining\u001b[0m\u001b[0;34m,\u001b[0m \u001b[0mmax_records\u001b[0m\u001b[0;34m,\u001b[0m \u001b[0mupdate_offsets\u001b[0m\u001b[0;34m=\u001b[0m\u001b[0mupdate_offsets\u001b[0m\u001b[0;34m)\u001b[0m\u001b[0;34m\u001b[0m\u001b[0;34m\u001b[0m\u001b[0m\n\u001b[0m\u001b[1;32m    656\u001b[0m             \u001b[0;32mif\u001b[0m \u001b[0mrecords\u001b[0m\u001b[0;34m:\u001b[0m\u001b[0;34m\u001b[0m\u001b[0;34m\u001b[0m\u001b[0m\n\u001b[1;32m    657\u001b[0m                 \u001b[0;32mreturn\u001b[0m \u001b[0mrecords\u001b[0m\u001b[0;34m\u001b[0m\u001b[0;34m\u001b[0m\u001b[0m\n",
      "\u001b[0;32m/opt/conda/lib/python3.8/site-packages/kafka/consumer/group.py\u001b[0m in \u001b[0;36m_poll_once\u001b[0;34m(self, timeout_ms, max_records, update_offsets)\u001b[0m\n\u001b[1;32m    700\u001b[0m \u001b[0;34m\u001b[0m\u001b[0m\n\u001b[1;32m    701\u001b[0m         \u001b[0mtimeout_ms\u001b[0m \u001b[0;34m=\u001b[0m \u001b[0mmin\u001b[0m\u001b[0;34m(\u001b[0m\u001b[0mtimeout_ms\u001b[0m\u001b[0;34m,\u001b[0m \u001b[0mself\u001b[0m\u001b[0;34m.\u001b[0m\u001b[0m_coordinator\u001b[0m\u001b[0;34m.\u001b[0m\u001b[0mtime_to_next_poll\u001b[0m\u001b[0;34m(\u001b[0m\u001b[0;34m)\u001b[0m \u001b[0;34m*\u001b[0m \u001b[0;36m1000\u001b[0m\u001b[0;34m)\u001b[0m\u001b[0;34m\u001b[0m\u001b[0;34m\u001b[0m\u001b[0m\n\u001b[0;32m--> 702\u001b[0;31m         \u001b[0mself\u001b[0m\u001b[0;34m.\u001b[0m\u001b[0m_client\u001b[0m\u001b[0;34m.\u001b[0m\u001b[0mpoll\u001b[0m\u001b[0;34m(\u001b[0m\u001b[0mtimeout_ms\u001b[0m\u001b[0;34m=\u001b[0m\u001b[0mtimeout_ms\u001b[0m\u001b[0;34m)\u001b[0m\u001b[0;34m\u001b[0m\u001b[0;34m\u001b[0m\u001b[0m\n\u001b[0m\u001b[1;32m    703\u001b[0m         \u001b[0;31m# after the long poll, we should check whether the group needs to rebalance\u001b[0m\u001b[0;34m\u001b[0m\u001b[0;34m\u001b[0m\u001b[0;34m\u001b[0m\u001b[0m\n\u001b[1;32m    704\u001b[0m         \u001b[0;31m# prior to returning data so that the group can stabilize faster\u001b[0m\u001b[0;34m\u001b[0m\u001b[0;34m\u001b[0m\u001b[0;34m\u001b[0m\u001b[0m\n",
      "\u001b[0;32m/opt/conda/lib/python3.8/site-packages/kafka/client_async.py\u001b[0m in \u001b[0;36mpoll\u001b[0;34m(self, timeout_ms, future)\u001b[0m\n\u001b[1;32m    600\u001b[0m                     \u001b[0mtimeout\u001b[0m \u001b[0;34m=\u001b[0m \u001b[0mmax\u001b[0m\u001b[0;34m(\u001b[0m\u001b[0;36m0\u001b[0m\u001b[0;34m,\u001b[0m \u001b[0mtimeout\u001b[0m\u001b[0;34m)\u001b[0m  \u001b[0;31m# avoid negative timeouts\u001b[0m\u001b[0;34m\u001b[0m\u001b[0;34m\u001b[0m\u001b[0m\n\u001b[1;32m    601\u001b[0m \u001b[0;34m\u001b[0m\u001b[0m\n\u001b[0;32m--> 602\u001b[0;31m                 \u001b[0mself\u001b[0m\u001b[0;34m.\u001b[0m\u001b[0m_poll\u001b[0m\u001b[0;34m(\u001b[0m\u001b[0mtimeout\u001b[0m \u001b[0;34m/\u001b[0m \u001b[0;36m1000\u001b[0m\u001b[0;34m)\u001b[0m\u001b[0;34m\u001b[0m\u001b[0;34m\u001b[0m\u001b[0m\n\u001b[0m\u001b[1;32m    603\u001b[0m \u001b[0;34m\u001b[0m\u001b[0m\n\u001b[1;32m    604\u001b[0m             \u001b[0;31m# called without the lock to avoid deadlock potential\u001b[0m\u001b[0;34m\u001b[0m\u001b[0;34m\u001b[0m\u001b[0;34m\u001b[0m\u001b[0m\n",
      "\u001b[0;32m/opt/conda/lib/python3.8/site-packages/kafka/client_async.py\u001b[0m in \u001b[0;36m_poll\u001b[0;34m(self, timeout)\u001b[0m\n\u001b[1;32m    632\u001b[0m \u001b[0;34m\u001b[0m\u001b[0m\n\u001b[1;32m    633\u001b[0m         \u001b[0mstart_select\u001b[0m \u001b[0;34m=\u001b[0m \u001b[0mtime\u001b[0m\u001b[0;34m.\u001b[0m\u001b[0mtime\u001b[0m\u001b[0;34m(\u001b[0m\u001b[0;34m)\u001b[0m\u001b[0;34m\u001b[0m\u001b[0;34m\u001b[0m\u001b[0m\n\u001b[0;32m--> 634\u001b[0;31m         \u001b[0mready\u001b[0m \u001b[0;34m=\u001b[0m \u001b[0mself\u001b[0m\u001b[0;34m.\u001b[0m\u001b[0m_selector\u001b[0m\u001b[0;34m.\u001b[0m\u001b[0mselect\u001b[0m\u001b[0;34m(\u001b[0m\u001b[0mtimeout\u001b[0m\u001b[0;34m)\u001b[0m\u001b[0;34m\u001b[0m\u001b[0;34m\u001b[0m\u001b[0m\n\u001b[0m\u001b[1;32m    635\u001b[0m         \u001b[0mend_select\u001b[0m \u001b[0;34m=\u001b[0m \u001b[0mtime\u001b[0m\u001b[0;34m.\u001b[0m\u001b[0mtime\u001b[0m\u001b[0;34m(\u001b[0m\u001b[0;34m)\u001b[0m\u001b[0;34m\u001b[0m\u001b[0;34m\u001b[0m\u001b[0m\n\u001b[1;32m    636\u001b[0m         \u001b[0;32mif\u001b[0m \u001b[0mself\u001b[0m\u001b[0;34m.\u001b[0m\u001b[0m_sensors\u001b[0m\u001b[0;34m:\u001b[0m\u001b[0;34m\u001b[0m\u001b[0;34m\u001b[0m\u001b[0m\n",
      "\u001b[0;32m/opt/conda/lib/python3.8/selectors.py\u001b[0m in \u001b[0;36mselect\u001b[0;34m(self, timeout)\u001b[0m\n\u001b[1;32m    466\u001b[0m             \u001b[0mready\u001b[0m \u001b[0;34m=\u001b[0m \u001b[0;34m[\u001b[0m\u001b[0;34m]\u001b[0m\u001b[0;34m\u001b[0m\u001b[0;34m\u001b[0m\u001b[0m\n\u001b[1;32m    467\u001b[0m             \u001b[0;32mtry\u001b[0m\u001b[0;34m:\u001b[0m\u001b[0;34m\u001b[0m\u001b[0;34m\u001b[0m\u001b[0m\n\u001b[0;32m--> 468\u001b[0;31m                 \u001b[0mfd_event_list\u001b[0m \u001b[0;34m=\u001b[0m \u001b[0mself\u001b[0m\u001b[0;34m.\u001b[0m\u001b[0m_selector\u001b[0m\u001b[0;34m.\u001b[0m\u001b[0mpoll\u001b[0m\u001b[0;34m(\u001b[0m\u001b[0mtimeout\u001b[0m\u001b[0;34m,\u001b[0m \u001b[0mmax_ev\u001b[0m\u001b[0;34m)\u001b[0m\u001b[0;34m\u001b[0m\u001b[0;34m\u001b[0m\u001b[0m\n\u001b[0m\u001b[1;32m    469\u001b[0m             \u001b[0;32mexcept\u001b[0m \u001b[0mInterruptedError\u001b[0m\u001b[0;34m:\u001b[0m\u001b[0;34m\u001b[0m\u001b[0;34m\u001b[0m\u001b[0m\n\u001b[1;32m    470\u001b[0m                 \u001b[0;32mreturn\u001b[0m \u001b[0mready\u001b[0m\u001b[0;34m\u001b[0m\u001b[0;34m\u001b[0m\u001b[0m\n",
      "\u001b[0;31mKeyboardInterrupt\u001b[0m: "
     ]
    }
   ],
   "source": [
    "import json\n",
    "from datetime import datetime\n",
    "from IPython.display import clear_output\n",
    "\n",
    "from kafka import KafkaConsumer, TopicPartition\n",
    "\n",
    "client = \"localhost:9092\"\n",
    "consumer = KafkaConsumer(bootstrap_servers=['localhost:9092'],\n",
    "                         enable_auto_commit=False,\n",
    "                         auto_offset_reset='latest')\n",
    "\n",
    "#\n",
    "#  CHANGE THIS TO THE TOPIC YOU WANT TO DEBUG\n",
    "#\n",
    "topic = 'ingest-cleaned-oef2'\n",
    "\n",
    "consumer.subscribe(topic)\n",
    "\n",
    "i = 0\n",
    "loper=0\n",
    "print(f\"START LISTENING ON '{topic}'\")\n",
    "for message in consumer:\n",
    "    loper = loper+1\n",
    "    if i > 5:\n",
    "        clear_output()\n",
    "        i = 0\n",
    "    i = i+1\n",
    "    print(f\"RAW MESSAGE VALUE: {message.value}\")\n",
    "    try:\n",
    "        m_obj = json.loads(message.value)\n",
    "        print(\"DECODED MESSAGE VALUE:\", m_obj)\n",
    "    except:\n",
    "        print(\"FAILED to decode message\")\n",
    "    ts = message.timestamp\n",
    "    ts = datetime.fromtimestamp(ts/1000.0)\n",
    "    print(f\"TIMESTAMP: {ts}\")\n",
    "    print()\n",
    "print(\"Number of entries on kafka topic:\", loper)"
   ]
  },
  {
   "cell_type": "markdown",
   "metadata": {},
   "source": [
    "## Delete a Kafka topic"
   ]
  },
  {
   "cell_type": "code",
   "execution_count": 25,
   "metadata": {},
   "outputs": [
    {
     "output_type": "execute_result",
     "data": {
      "text/plain": [
       "DeleteTopicsResponse_v0(topic_error_codes=[(topic='ingest-test', error_code=0)])"
      ]
     },
     "metadata": {},
     "execution_count": 25
    }
   ],
   "source": [
    "from kafka.admin import KafkaAdminClient, NewTopic\n",
    "from kafka.errors import TopicAlreadyExistsError\n",
    "\n",
    "#\n",
    "#  CHANGE THIS TO THE TOPIC YOU WANT TO DELETE\n",
    "#\n",
    "topic = 'ingest-test'\n",
    "\n",
    "admin_client = KafkaAdminClient(bootstrap_servers=\"localhost:9092\")\n",
    "admin_client.delete_topics([topic])"
   ]
  },
  {
   "cell_type": "code",
   "execution_count": null,
   "metadata": {},
   "outputs": [],
   "source": []
  }
 ],
 "metadata": {
  "kernelspec": {
   "display_name": "Python 3",
   "language": "python",
   "name": "python3"
  },
  "language_info": {
   "codemirror_mode": {
    "name": "ipython",
    "version": 3
   },
   "file_extension": ".py",
   "mimetype": "text/x-python",
   "name": "python",
   "nbconvert_exporter": "python",
   "pygments_lexer": "ipython3",
   "version": "3.8.6-final"
  },
  "toc": {
   "base_numbering": 1,
   "nav_menu": {},
   "number_sections": true,
   "sideBar": true,
   "skip_h1_title": false,
   "title_cell": "Table of Contents",
   "title_sidebar": "Contents",
   "toc_cell": false,
   "toc_position": {},
   "toc_section_display": true,
   "toc_window_display": false
  }
 },
 "nbformat": 4,
 "nbformat_minor": 2
}