{
 "metadata": {
  "language_info": {
   "codemirror_mode": {
    "name": "ipython",
    "version": 3
   },
   "file_extension": ".py",
   "mimetype": "text/x-python",
   "name": "python",
   "nbconvert_exporter": "python",
   "pygments_lexer": "ipython3",
   "version": "3.8.6-final"
  },
  "orig_nbformat": 2,
  "kernelspec": {
   "name": "python3",
   "display_name": "Python 3"
  }
 },
 "nbformat": 4,
 "nbformat_minor": 2,
 "cells": [
  {
   "source": [
    "# Endpoint API"
   ],
   "cell_type": "markdown",
   "metadata": {}
  },
  {
   "source": [
    "This notebook simulates the API endpoint. The endpoint receives HTTP POST requests, checks if the JSON is valid and then puts the result on the Kafka topic <code>ingest</code>."
   ],
   "cell_type": "markdown",
   "metadata": {}
  },
  {
   "cell_type": "code",
   "execution_count": 1,
   "metadata": {},
   "outputs": [
    {
     "output_type": "stream",
     "name": "stdout",
     "text": [
      "Requirement already satisfied: kafka-python in /opt/conda/lib/python3.8/site-packages (2.0.2)\nRequirement already satisfied: flask in /opt/conda/lib/python3.8/site-packages (1.1.2)\nRequirement already satisfied: click>=5.1 in /opt/conda/lib/python3.8/site-packages (from flask) (7.1.2)\nRequirement already satisfied: Jinja2>=2.10.1 in /opt/conda/lib/python3.8/site-packages (from flask) (2.11.2)\nRequirement already satisfied: itsdangerous>=0.24 in /opt/conda/lib/python3.8/site-packages (from flask) (1.1.0)\nRequirement already satisfied: Werkzeug>=0.15 in /opt/conda/lib/python3.8/site-packages (from flask) (1.0.1)\nRequirement already satisfied: MarkupSafe>=0.23 in /opt/conda/lib/python3.8/site-packages (from Jinja2>=2.10.1->flask) (1.1.1)\n"
     ]
    }
   ],
   "source": [
    "%%bash\n",
    "# Install the required Python 3 dependencies\n",
    "python3 -m pip install kafka-python flask"
   ]
  },
  {
   "cell_type": "code",
   "execution_count": 2,
   "metadata": {},
   "outputs": [
    {
     "output_type": "stream",
     "name": "stderr",
     "text": [
      "127.0.0.1 - - [03/Dec/2020 15:38:07] \"\u001b[37mPOST /nineoneone HTTP/1.1\u001b[0m\" 200 -\n",
      "127.0.0.1 - - [03/Dec/2020 15:38:07] \"\u001b[37mPOST /nineoneone HTTP/1.1\u001b[0m\" 200 -\n",
      "127.0.0.1 - - [03/Dec/2020 15:38:07] \"\u001b[37mPOST /nineoneone HTTP/1.1\u001b[0m\" 200 -\n",
      "127.0.0.1 - - [03/Dec/2020 15:38:07] \"\u001b[37mPOST /nineoneone HTTP/1.1\u001b[0m\" 200 -\n"
     ]
    }
   ],
   "source": [
    "import json\n",
    "from flask import Flask, request\n",
    "from kafka import KafkaProducer\n",
    "from IPython.display import clear_output\n",
    "\n",
    "producer = KafkaProducer(\n",
    "    bootstrap_servers= ['localhost:9092'],\n",
    "    value_serializer = lambda v: json.dumps(v).encode('utf-8')\n",
    ")\n",
    "\n",
    "i = 0\n",
    "\n",
    "app = Flask(__name__)\n",
    "\n",
    "@app.route('/nineoneone', methods=['POST'])\n",
    "def nineoneone():\n",
    "    global i\n",
    "    if i > 5:\n",
    "        clear_output()\n",
    "        i = 0\n",
    "    i = i+1\n",
    "    \n",
    "    rjson = request.json\n",
    "\n",
    "    # Check if JSON is valid\n",
    "    if not rjson:\n",
    "        return (\n",
    "            json.dumps({'success':False, 'message' : 'could not decode json'}),\n",
    "            400,\n",
    "            {'ContentType':'application/json'}      \n",
    "        )\n",
    "\n",
    "    # Producer puts data on Kafka topic 'ingest'\n",
    "    producer.send('ingest-test', rjson).get(timeout=30)\n",
    "    return (\n",
    "        json.dumps({'success': True}),\n",
    "        200,\n",
    "        {'ContentType': 'application/json'}     \n",
    "    )\n",
    "\n",
    "# Run the app on localhost\n",
    "app.run(host='0.0.0.0')\n"
   ]
  },
  {
   "cell_type": "code",
   "execution_count": null,
   "metadata": {},
   "outputs": [],
   "source": []
  }
 ]
}