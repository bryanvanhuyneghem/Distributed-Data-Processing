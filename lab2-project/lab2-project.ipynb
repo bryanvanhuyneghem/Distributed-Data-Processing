{
 "cells": [
  {
   "source": [
    "# GDV - Lab 2 - Project Student Submission\n",
    "\n",
    "---------------"
   ],
   "cell_type": "markdown",
   "metadata": {}
  },
  {
   "source": [
    "## Authors: Bryan Van Huyneghem & Anoek Strumane (group 8)"
   ],
   "cell_type": "markdown",
   "metadata": {}
  },
  {
   "cell_type": "markdown",
   "metadata": {},
   "source": [
    "## 1. Preprocessing of the CoViD dataset"
   ]
  },
  {
   "cell_type": "markdown",
   "metadata": {},
   "source": [
    "The CoViD dataset comes as many csv files, one for each day, that have to be combined into one dataframe. We will first load all csv files into dataframes using pandas and afterwards merge these into one large dataframe."
   ]
  },
  {
   "cell_type": "markdown",
   "metadata": {},
   "source": [
    "## 1.1 Initial csv header exploration"
   ]
  },
  {
   "cell_type": "markdown",
   "metadata": {},
   "source": [
    "Upon exploring the csv files and interpreting their columns, it becomes apparent:\n",
    "* that not all csv files have the same (amount of) columns;\n",
    "* that certain columns have names that closely resemble each other, e.g. **Country_Region** and **Country/Region**;\n",
    "* that certain columns only appear to have entries for certain countries, e.g. **FIPS** (Federal Information Processing Standards ([source](https://en.wikipedia.org/wiki/Federal_Information_Processing_Standards))) is a column unique to entries related to the U.S., however the FIPS of 250.0 relates to France;\n",
    "* that countries that have data on multiple of their provinces have a column named **Combined_Key**, which combines data from three comlumns, i.e. **Admin2**, **Province_State** and **Country_Region** into one column. \n",
    "\n",
    "Closer inspection reveals: \n",
    "\n",
    "* that the csv files use **Province/State** , **Country/Region**, **Last Update**, **Latitude** and **Longitude** rather than **Province_State**, **Country_Region**, **Last_Update**, **Lat** and **Long_** until *03-24-2020*;\n",
    "* **Incidence_Rate** and **Case-Fatality_Ratio** are added from *05-29-2020* and onwards. No csv file before this date contains these columns;\n",
    "* *Mainland China* turns into *China* in later csv files, but these two inidicate the same region. Thus, *Mainland China* needs to be changed to *China*.\n",
    "* the column **Last Update** uses different timestamps than **Last_Update**. We will have to parse the former dates into the same format as entries for **Last_Update**. \n",
    "\n",
    "Thus, it makes sense to first import all csv files until 03-24-2020 and change their column names appropriately, so that they match the column names of all other csv files."
   ]
  },
  {
   "cell_type": "markdown",
   "metadata": {},
   "source": [
    "## 1.2 Preprocessing"
   ]
  },
  {
   "cell_type": "markdown",
   "metadata": {},
   "source": [
    "We should first note that we have chosen to append all data to each other, because this will allow us to easily group by regions. Alternatively, we could have use a multi index, using the **Country_Region**, **Province_State** and **Admin2** as indices, which would result in a row for every unique location in the dataset and a column for every date. This could be interesting for time series analysis, but we have opted to instead stick to our initial approach of appending information. This results in one column for the data, i.e. **Last_Update**."
   ]
  },
  {
   "cell_type": "code",
   "execution_count": 1,
   "metadata": {},
   "outputs": [],
   "source": [
    "from pyspark import SparkContext, SparkConf\n",
    "from pyspark.sql import SparkSession\n",
    "from pyspark.sql.types import DoubleType\n",
    "from pyspark.sql import functions as F\n",
    "from pyspark.sql.window import Window\n",
    "import glob\n",
    "import operator\n",
    "\n",
    "conf = SparkConf().setAppName(\"test\").setMaster(\"local\")\n",
    "sc = SparkContext(conf=conf)\n"
   ]
  },
  {
   "cell_type": "code",
   "execution_count": 2,
   "metadata": {},
   "outputs": [],
   "source": [
    "spark = SparkSession(sc)"
   ]
  },
  {
   "source": [
    "We detect how many csv files our dataset has."
   ],
   "cell_type": "markdown",
   "metadata": {}
  },
  {
   "cell_type": "code",
   "execution_count": 3,
   "metadata": {
    "tags": []
   },
   "outputs": [
    {
     "output_type": "stream",
     "name": "stdout",
     "text": "Total amount of csv files: 294\n"
    }
   ],
   "source": [
    "all_files = glob.glob(\"csse_covid_19_daily_reports/*.csv\")\n",
    "print(\"Total amount of csv files:\", len(all_files))\n",
    "all_files.sort()"
   ]
  },
  {
   "cell_type": "code",
   "execution_count": 4,
   "metadata": {
    "tags": []
   },
   "outputs": [],
   "source": [
    "type_1_file_names = []\n",
    "type_2_file_names = []\n",
    "type_3_file_names = []\n",
    "type = 1\n",
    "\n",
    "for file_name in all_files:\n",
    "    if file_name == \"csse_covid_19_daily_reports/03-22-2020.csv\":\n",
    "        type = 2\n",
    "    elif file_name == \"csse_covid_19_daily_reports/05-29-2020.csv\":\n",
    "        type = 3\n",
    "    if type == 1:\n",
    "        type_1_file_names.append(file_name)\n",
    "    elif type == 2:\n",
    "        type_2_file_names.append(file_name)\n",
    "    else:\n",
    "        type_3_file_names.append(file_name)\n"
   ]
  },
  {
   "cell_type": "markdown",
   "metadata": {},
   "source": [
    "### 1.2.1 Preprocessing the initial csv files"
   ]
  },
  {
   "cell_type": "code",
   "execution_count": 5,
   "metadata": {
    "tags": []
   },
   "outputs": [
    {
     "output_type": "stream",
     "name": "stdout",
     "text": "+--------------+--------------+-------------------+---------+------+---------+--------+---------+\n|Province/State|Country/Region|        Last Update|Confirmed|Deaths|Recovered|Latitude|Longitude|\n+--------------+--------------+-------------------+---------+------+---------+--------+---------+\n|         Hubei|         China|2020-03-21T10:13:08|    67800|  3139|    58946| 30.9756| 112.2707|\n|          null|         Italy|2020-03-21T17:43:03|    53578|  4825|     6072| 41.8719|  12.5674|\n|          null|         Spain|2020-03-21T13:13:30|    25374|  1375|     2125| 40.4637|  -3.7492|\n|          null|       Germany|2020-03-21T20:43:02|    22213|    84|      233| 51.1657|  10.4515|\n|          null|          Iran|2020-03-21T11:13:12|    20610|  1556|     7635| 32.4279|   53.688|\n|        France|        France|2020-03-21T20:43:02|    14282|   562|       12| 46.2276|   2.2137|\n|      New York|            US|2020-03-21T22:43:04|    11710|    60|        0| 42.1657| -74.9481|\n|          null|  Korea, South|2020-03-21T11:13:12|     8799|   102|     1540| 35.9078| 127.7669|\n|          null|   Switzerland|2020-03-21T20:43:02|     6575|    75|       15| 46.8182|   8.2275|\n|United Kingdom|United Kingdom|2020-03-21T20:43:03|     5018|   233|       65| 55.3781|   -3.436|\n|   Netherlands|   Netherlands|2020-03-21T14:43:04|     3631|   136|        2| 52.1326|   5.2913|\n|          null|       Belgium|2020-03-21T11:13:12|     2815|    67|      263| 50.5039|   4.4699|\n|          null|       Austria|2020-03-21T14:43:03|     2814|     8|        9| 47.5162|  14.5501|\n|          null|        Norway|2020-03-21T17:13:07|     2118|     7|        1|  60.472|   8.4689|\n|    Washington|            US|2020-03-21T22:43:04|     1793|    94|        0| 47.4009|-121.4905|\n|          null|        Sweden|2020-03-21T14:43:03|     1763|    20|       16| 60.1282|  18.6435|\n|     Guangdong|         China|2020-03-21T12:43:08|     1400|     8|     1325| 23.3417| 113.4244|\n|    California|            US|2020-03-21T22:43:04|     1364|    24|        0| 36.1162|-119.6816|\n|    New Jersey|            US|2020-03-21T19:43:03|     1327|    16|        0| 40.2989|  -74.521|\n|       Denmark|       Denmark|2020-03-21T12:43:08|     1326|    13|        1| 56.2639|   9.5018|\n+--------------+--------------+-------------------+---------+------+---------+--------+---------+\nonly showing top 20 rows\n\n"
    }
   ],
   "source": [
    "df_first = spark.read.format(\"csv\").option(\"header\", \"true\").option(\"inferschema\", \"true\").load(type_1_file_names) \n",
    "\n",
    "df_first.show()"
   ]
  },
  {
   "cell_type": "markdown",
   "metadata": {},
   "source": [
    "We must appropriately rename the columns for convenient's sake during the appends: \n",
    "* **Province/State** ==> **Province_State**\n",
    "* **Country/Region** ==> **Country_Region**\n",
    "* **Latitude** remains the same\n",
    "* **Longitude** remains the same\n",
    "* **Last Update** ==> **Last_Update**"
   ]
  },
  {
   "cell_type": "code",
   "execution_count": 6,
   "metadata": {
    "tags": []
   },
   "outputs": [
    {
     "output_type": "stream",
     "name": "stdout",
     "text": "+--------------+--------------+-------------------+---------+------+---------+--------+---------+\n|Province_State|Country_Region|        Last_Update|Confirmed|Deaths|Recovered|Latitude|Longitude|\n+--------------+--------------+-------------------+---------+------+---------+--------+---------+\n|         Hubei|         China|2020-03-21T10:13:08|    67800|  3139|    58946| 30.9756| 112.2707|\n|          null|         Italy|2020-03-21T17:43:03|    53578|  4825|     6072| 41.8719|  12.5674|\n|          null|         Spain|2020-03-21T13:13:30|    25374|  1375|     2125| 40.4637|  -3.7492|\n|          null|       Germany|2020-03-21T20:43:02|    22213|    84|      233| 51.1657|  10.4515|\n|          null|          Iran|2020-03-21T11:13:12|    20610|  1556|     7635| 32.4279|   53.688|\n|        France|        France|2020-03-21T20:43:02|    14282|   562|       12| 46.2276|   2.2137|\n|      New York|            US|2020-03-21T22:43:04|    11710|    60|        0| 42.1657| -74.9481|\n|          null|  Korea, South|2020-03-21T11:13:12|     8799|   102|     1540| 35.9078| 127.7669|\n|          null|   Switzerland|2020-03-21T20:43:02|     6575|    75|       15| 46.8182|   8.2275|\n|United Kingdom|United Kingdom|2020-03-21T20:43:03|     5018|   233|       65| 55.3781|   -3.436|\n|   Netherlands|   Netherlands|2020-03-21T14:43:04|     3631|   136|        2| 52.1326|   5.2913|\n|          null|       Belgium|2020-03-21T11:13:12|     2815|    67|      263| 50.5039|   4.4699|\n|          null|       Austria|2020-03-21T14:43:03|     2814|     8|        9| 47.5162|  14.5501|\n|          null|        Norway|2020-03-21T17:13:07|     2118|     7|        1|  60.472|   8.4689|\n|    Washington|            US|2020-03-21T22:43:04|     1793|    94|        0| 47.4009|-121.4905|\n|          null|        Sweden|2020-03-21T14:43:03|     1763|    20|       16| 60.1282|  18.6435|\n|     Guangdong|         China|2020-03-21T12:43:08|     1400|     8|     1325| 23.3417| 113.4244|\n|    California|            US|2020-03-21T22:43:04|     1364|    24|        0| 36.1162|-119.6816|\n|    New Jersey|            US|2020-03-21T19:43:03|     1327|    16|        0| 40.2989|  -74.521|\n|       Denmark|       Denmark|2020-03-21T12:43:08|     1326|    13|        1| 56.2639|   9.5018|\n+--------------+--------------+-------------------+---------+------+---------+--------+---------+\nonly showing top 20 rows\n\n"
    }
   ],
   "source": [
    "df_first = df_first.withColumnRenamed(\"Province/State\", \"Province_State\").withColumnRenamed(\"Country/Region\", \"Country_Region\").withColumnRenamed(\"Last Update\", \"Last_Update\")\n",
    "df_first.show()"
   ]
  },
  {
   "cell_type": "markdown",
   "metadata": {
    "tags": []
   },
   "source": [
    "The entries in the column **Last_Update** must be parsed correctly to the format that is used in the csv files that have not yet been handled.\n",
    "\n",
    "There are two formats:\n",
    "* e.g. *1/22/2020 17:00*\n",
    "* e.g. *2020-02-25T15:23:04*\n",
    "\n",
    "These must be converted to the format:\n",
    "* e.g. *2020-03-23 23:19:34*"
   ]
  },
  {
   "cell_type": "code",
   "execution_count": 7,
   "metadata": {
    "tags": []
   },
   "outputs": [
    {
     "output_type": "stream",
     "name": "stdout",
     "text": "+--------------+--------------+-------------------+---------+------+---------+--------+---------+\n|Province_State|Country_Region|        Last_Update|Confirmed|Deaths|Recovered|Latitude|Longitude|\n+--------------+--------------+-------------------+---------+------+---------+--------+---------+\n|         Hubei|         China|2020-03-21 10:13:08|    67800|  3139|    58946| 30.9756| 112.2707|\n|          null|         Italy|2020-03-21 17:43:03|    53578|  4825|     6072| 41.8719|  12.5674|\n|          null|         Spain|2020-03-21 13:13:30|    25374|  1375|     2125| 40.4637|  -3.7492|\n|          null|       Germany|2020-03-21 20:43:02|    22213|    84|      233| 51.1657|  10.4515|\n|          null|          Iran|2020-03-21 11:13:12|    20610|  1556|     7635| 32.4279|   53.688|\n|        France|        France|2020-03-21 20:43:02|    14282|   562|       12| 46.2276|   2.2137|\n|      New York|            US|2020-03-21 22:43:04|    11710|    60|        0| 42.1657| -74.9481|\n|          null|  Korea, South|2020-03-21 11:13:12|     8799|   102|     1540| 35.9078| 127.7669|\n|          null|   Switzerland|2020-03-21 20:43:02|     6575|    75|       15| 46.8182|   8.2275|\n|United Kingdom|United Kingdom|2020-03-21 20:43:03|     5018|   233|       65| 55.3781|   -3.436|\n|   Netherlands|   Netherlands|2020-03-21 14:43:04|     3631|   136|        2| 52.1326|   5.2913|\n|          null|       Belgium|2020-03-21 11:13:12|     2815|    67|      263| 50.5039|   4.4699|\n|          null|       Austria|2020-03-21 14:43:03|     2814|     8|        9| 47.5162|  14.5501|\n|          null|        Norway|2020-03-21 17:13:07|     2118|     7|        1|  60.472|   8.4689|\n|    Washington|            US|2020-03-21 22:43:04|     1793|    94|        0| 47.4009|-121.4905|\n|          null|        Sweden|2020-03-21 14:43:03|     1763|    20|       16| 60.1282|  18.6435|\n|     Guangdong|         China|2020-03-21 12:43:08|     1400|     8|     1325| 23.3417| 113.4244|\n|    California|            US|2020-03-21 22:43:04|     1364|    24|        0| 36.1162|-119.6816|\n|    New Jersey|            US|2020-03-21 19:43:03|     1327|    16|        0| 40.2989|  -74.521|\n|       Denmark|       Denmark|2020-03-21 12:43:08|     1326|    13|        1| 56.2639|   9.5018|\n+--------------+--------------+-------------------+---------+------+---------+--------+---------+\nonly showing top 20 rows\n\n"
    }
   ],
   "source": [
    "df_first = df_first.withColumn(\"Last_Update\", F.to_timestamp(df_first[\"Last_Update\"]))\n",
    "df_first.show()"
   ]
  },
  {
   "cell_type": "markdown",
   "metadata": {},
   "source": [
    "Lastly, the remaining csv files contain the column **Active** being the active cases at the time of the **Last_Update** and **Case_Fatality_Ratio** being the ratio of deaths per cases so far. We calculate the **Active** values for the first csv files by subtracting **Deaths** and **Recovered** from **Confirmed**. **Case_Fatality_Ratio** is then calculated by dividing **Deaths** by **Confirmed**."
   ]
  },
  {
   "cell_type": "code",
   "execution_count": 8,
   "metadata": {
    "tags": []
   },
   "outputs": [
    {
     "output_type": "stream",
     "name": "stdout",
     "text": "+--------------+--------------+-------------------+---------+------+---------+--------+---------+-------+--------------------+\n|Province_State|Country_Region|        Last_Update|Confirmed|Deaths|Recovered|Latitude|Longitude| Active| Case_Fatality_Ratio|\n+--------------+--------------+-------------------+---------+------+---------+--------+---------+-------+--------------------+\n|         Hubei|         China|2020-03-21 10:13:08|    67800|  3139|    58946| 30.9756| 112.2707| 5715.0|0.046297935103244835|\n|          null|         Italy|2020-03-21 17:43:03|    53578|  4825|     6072| 41.8719|  12.5674|42681.0|  0.0900556198439658|\n|          null|         Spain|2020-03-21 13:13:30|    25374|  1375|     2125| 40.4637|  -3.7492|21874.0| 0.05418932765823284|\n|          null|       Germany|2020-03-21 20:43:02|    22213|    84|      233| 51.1657|  10.4515|21896.0|0.003781569351280...|\n|          null|          Iran|2020-03-21 11:13:12|    20610|  1556|     7635| 32.4279|   53.688|11419.0|  0.0754973313925279|\n|        France|        France|2020-03-21 20:43:02|    14282|   562|       12| 46.2276|   2.2137|13708.0| 0.03935023106007562|\n|      New York|            US|2020-03-21 22:43:04|    11710|    60|        0| 42.1657| -74.9481|11650.0|0.005123825789923143|\n|          null|  Korea, South|2020-03-21 11:13:12|     8799|   102|     1540| 35.9078| 127.7669| 7157.0|0.011592226389362428|\n|          null|   Switzerland|2020-03-21 20:43:02|     6575|    75|       15| 46.8182|   8.2275| 6485.0|0.011406844106463879|\n|United Kingdom|United Kingdom|2020-03-21 20:43:03|     5018|   233|       65| 55.3781|   -3.436| 4720.0|0.046432841769629335|\n|   Netherlands|   Netherlands|2020-03-21 14:43:04|     3631|   136|        2| 52.1326|   5.2913| 3493.0| 0.03745524648857064|\n|          null|       Belgium|2020-03-21 11:13:12|     2815|    67|      263| 50.5039|   4.4699| 2485.0|0.023801065719360567|\n|          null|       Austria|2020-03-21 14:43:03|     2814|     8|        9| 47.5162|  14.5501| 2797.0|0.002842928216062...|\n|          null|        Norway|2020-03-21 17:13:07|     2118|     7|        1|  60.472|   8.4689| 2110.0|0.003305004721435...|\n|    Washington|            US|2020-03-21 22:43:04|     1793|    94|        0| 47.4009|-121.4905| 1699.0| 0.05242610150585611|\n|          null|        Sweden|2020-03-21 14:43:03|     1763|    20|       16| 60.1282|  18.6435| 1727.0|0.011344299489506523|\n|     Guangdong|         China|2020-03-21 12:43:08|     1400|     8|     1325| 23.3417| 113.4244|   67.0|0.005714285714285714|\n|    California|            US|2020-03-21 22:43:04|     1364|    24|        0| 36.1162|-119.6816| 1340.0|0.017595307917888565|\n|    New Jersey|            US|2020-03-21 19:43:03|     1327|    16|        0| 40.2989|  -74.521| 1311.0|0.012057272042200452|\n|       Denmark|       Denmark|2020-03-21 12:43:08|     1326|    13|        1| 56.2639|   9.5018| 1312.0| 0.00980392156862745|\n+--------------+--------------+-------------------+---------+------+---------+--------+---------+-------+--------------------+\nonly showing top 20 rows\n\n"
    }
   ],
   "source": [
    "df_first = df_first.withColumn(\"Active\", df_first[\"Confirmed\"] - df_first[\"Deaths\"] - df_first[\"Recovered\"])\n",
    "df_first = df_first.withColumn(\"Case_Fatality_Ratio\", df_first[\"Deaths\"]/df_first[\"Confirmed\"])\n",
    "df_first.show()"
   ]
  },
  {
   "cell_type": "markdown",
   "metadata": {
    "tags": []
   },
   "source": [
    "### 1.2.2 Preprocessing the remaining csv files"
   ]
  },
  {
   "cell_type": "markdown",
   "metadata": {},
   "source": [
    "We then append all the remaining csv files into one dataframe. It should be noted that the columns **Incidence_rate** and **Case_Fatality_Ratio** have only been added to the dataset since the 29th of May 2020. The second column can be calculated using the given data but since the population per country is not given, the first cannot. Therefore, if the column **Incidence_rate** is needed, only entries between May 29 and the current day will be heald into account."
   ]
  },
  {
   "cell_type": "code",
   "execution_count": 9,
   "metadata": {
    "tags": []
   },
   "outputs": [
    {
     "output_type": "stream",
     "name": "stdout",
     "text": "+-----+---------+--------------+--------------+-------------------+-----------------+-------------------+---------+------+---------+------+--------------------+\n| FIPS|   Admin2|Province_State|Country_Region|        Last_Update|              Lat|              Long_|Confirmed|Deaths|Recovered|Active|        Combined_Key|\n+-----+---------+--------------+--------------+-------------------+-----------------+-------------------+---------+------+---------+------+--------------------+\n|45001|Abbeville|South Carolina|            US|2020-05-29 02:32:50|      34.22333378|       -82.46170658|       37|     0|        0|    37|Abbeville, South ...|\n|22001|   Acadia|     Louisiana|            US|2020-05-29 02:32:50|       30.2950649|       -92.41419698|      401|    22|        0|   379|Acadia, Louisiana...|\n|51001| Accomack|      Virginia|            US|2020-05-29 02:32:50|      37.76707161|       -75.63234615|      807|    12|        0|   795|Accomack, Virgini...|\n|16001|      Ada|         Idaho|            US|2020-05-29 02:32:50|       43.4526575|-116.24155159999998|      803|    22|        0|   781|      Ada, Idaho, US|\n|19001|    Adair|          Iowa|            US|2020-05-29 02:32:50|      41.33075609|       -94.47105874|        8|     0|        0|     8|     Adair, Iowa, US|\n|21001|    Adair|      Kentucky|            US|2020-05-29 02:32:50|      37.10459774|       -85.28129668|       96|    19|        0|    77| Adair, Kentucky, US|\n|29001|    Adair|      Missouri|            US|2020-05-29 02:32:50|      40.19058551|       -92.60078167|       49|     0|        0|    49| Adair, Missouri, US|\n|40001|    Adair|      Oklahoma|            US|2020-05-29 02:32:50|      35.88494195|       -94.65859267|       84|     3|        0|    81| Adair, Oklahoma, US|\n| 8001|    Adams|      Colorado|            US|2020-05-29 02:32:50|      39.87432092|       -104.3362578|     3070|   118|        0|  2952| Adams, Colorado, US|\n|16003|    Adams|         Idaho|            US|2020-05-29 02:32:50|      44.89333571|       -116.4545247|        3|     0|        0|     3|    Adams, Idaho, US|\n|17001|    Adams|      Illinois|            US|2020-05-29 02:32:50|      39.98815591|       -91.18786813|       44|     1|        0|    43| Adams, Illinois, US|\n|18001|    Adams|       Indiana|            US|2020-05-29 02:32:50|       40.7457653|       -84.93671406|       13|     1|        0|    12|  Adams, Indiana, US|\n|19003|    Adams|          Iowa|            US|2020-05-29 02:32:50|      41.02903567|       -94.69932645|        7|     0|        0|     7|     Adams, Iowa, US|\n|28001|    Adams|   Mississippi|            US|2020-05-29 02:32:50|      31.47669768|       -91.35326037|      190|    15|        0|   175|Adams, Mississipp...|\n|31001|    Adams|      Nebraska|            US|2020-05-29 02:32:50|40.52449420000001|       -98.50117804|      265|    11|        0|   254| Adams, Nebraska, US|\n|39001|    Adams|          Ohio|            US|2020-05-29 02:32:50|      38.84541072|        -83.4718964|        8|     1|        0|     7|     Adams, Ohio, US|\n|42001|    Adams|  Pennsylvania|            US|2020-05-29 02:32:50|      39.87140411|       -77.21610347|      240|     7|        0|   233|Adams, Pennsylvan...|\n|53001|    Adams|    Washington|            US|2020-05-29 02:32:50|      46.98299757|       -118.5601734|       54|     0|        0|    54|Adams, Washington...|\n|55001|    Adams|     Wisconsin|            US|2020-05-29 02:32:50|      43.96974651|       -89.76782777|        4|     1|        0|     3|Adams, Wisconsin, US|\n|50001|  Addison|       Vermont|            US|2020-05-29 02:32:50|      44.03217337|       -73.14130877|       62|     2|        0|    60|Addison, Vermont, US|\n+-----+---------+--------------+--------------+-------------------+-----------------+-------------------+---------+------+---------+------+--------------------+\nonly showing top 20 rows\n\n"
    }
   ],
   "source": [
    "df_second = spark.read.format(\"csv\").option(\"header\", \"true\").option(\"inferschema\", \"true\").load(type_2_file_names) \n",
    "df_second.show()"
   ]
  },
  {
   "cell_type": "markdown",
   "metadata": {
    "tags": []
   },
   "source": [
    "First the column **Case-Fatality_Ratio** is calculated and added to these entries, being entries between March 20th and May 28th. "
   ]
  },
  {
   "cell_type": "code",
   "execution_count": 10,
   "metadata": {
    "tags": []
   },
   "outputs": [
    {
     "output_type": "stream",
     "name": "stdout",
     "text": "+-----+---------+--------------+--------------+-------------------+-----------------+-------------------+---------+------+---------+------+--------------------+--------------------+\n| FIPS|   Admin2|Province_State|Country_Region|        Last_Update|              Lat|              Long_|Confirmed|Deaths|Recovered|Active|        Combined_Key| Case_Fatality_Ratio|\n+-----+---------+--------------+--------------+-------------------+-----------------+-------------------+---------+------+---------+------+--------------------+--------------------+\n|45001|Abbeville|South Carolina|            US|2020-05-29 02:32:50|      34.22333378|       -82.46170658|       37|     0|        0|    37|Abbeville, South ...|                 0.0|\n|22001|   Acadia|     Louisiana|            US|2020-05-29 02:32:50|       30.2950649|       -92.41419698|      401|    22|        0|   379|Acadia, Louisiana...| 0.05486284289276808|\n|51001| Accomack|      Virginia|            US|2020-05-29 02:32:50|      37.76707161|       -75.63234615|      807|    12|        0|   795|Accomack, Virgini...| 0.01486988847583643|\n|16001|      Ada|         Idaho|            US|2020-05-29 02:32:50|       43.4526575|-116.24155159999998|      803|    22|        0|   781|      Ada, Idaho, US|  0.0273972602739726|\n|19001|    Adair|          Iowa|            US|2020-05-29 02:32:50|      41.33075609|       -94.47105874|        8|     0|        0|     8|     Adair, Iowa, US|                 0.0|\n|21001|    Adair|      Kentucky|            US|2020-05-29 02:32:50|      37.10459774|       -85.28129668|       96|    19|        0|    77| Adair, Kentucky, US| 0.19791666666666666|\n|29001|    Adair|      Missouri|            US|2020-05-29 02:32:50|      40.19058551|       -92.60078167|       49|     0|        0|    49| Adair, Missouri, US|                 0.0|\n|40001|    Adair|      Oklahoma|            US|2020-05-29 02:32:50|      35.88494195|       -94.65859267|       84|     3|        0|    81| Adair, Oklahoma, US| 0.03571428571428571|\n| 8001|    Adams|      Colorado|            US|2020-05-29 02:32:50|      39.87432092|       -104.3362578|     3070|   118|        0|  2952| Adams, Colorado, US|0.038436482084690554|\n|16003|    Adams|         Idaho|            US|2020-05-29 02:32:50|      44.89333571|       -116.4545247|        3|     0|        0|     3|    Adams, Idaho, US|                 0.0|\n|17001|    Adams|      Illinois|            US|2020-05-29 02:32:50|      39.98815591|       -91.18786813|       44|     1|        0|    43| Adams, Illinois, US|0.022727272727272728|\n|18001|    Adams|       Indiana|            US|2020-05-29 02:32:50|       40.7457653|       -84.93671406|       13|     1|        0|    12|  Adams, Indiana, US| 0.07692307692307693|\n|19003|    Adams|          Iowa|            US|2020-05-29 02:32:50|      41.02903567|       -94.69932645|        7|     0|        0|     7|     Adams, Iowa, US|                 0.0|\n|28001|    Adams|   Mississippi|            US|2020-05-29 02:32:50|      31.47669768|       -91.35326037|      190|    15|        0|   175|Adams, Mississipp...| 0.07894736842105263|\n|31001|    Adams|      Nebraska|            US|2020-05-29 02:32:50|40.52449420000001|       -98.50117804|      265|    11|        0|   254| Adams, Nebraska, US| 0.04150943396226415|\n|39001|    Adams|          Ohio|            US|2020-05-29 02:32:50|      38.84541072|        -83.4718964|        8|     1|        0|     7|     Adams, Ohio, US|               0.125|\n|42001|    Adams|  Pennsylvania|            US|2020-05-29 02:32:50|      39.87140411|       -77.21610347|      240|     7|        0|   233|Adams, Pennsylvan...|0.029166666666666667|\n|53001|    Adams|    Washington|            US|2020-05-29 02:32:50|      46.98299757|       -118.5601734|       54|     0|        0|    54|Adams, Washington...|                 0.0|\n|55001|    Adams|     Wisconsin|            US|2020-05-29 02:32:50|      43.96974651|       -89.76782777|        4|     1|        0|     3|Adams, Wisconsin, US|                0.25|\n|50001|  Addison|       Vermont|            US|2020-05-29 02:32:50|      44.03217337|       -73.14130877|       62|     2|        0|    60|Addison, Vermont, US| 0.03225806451612903|\n+-----+---------+--------------+--------------+-------------------+-----------------+-------------------+---------+------+---------+------+--------------------+--------------------+\nonly showing top 20 rows\n\n"
    }
   ],
   "source": [
    "df_second = df_second.withColumn(\"Case_Fatality_Ratio\", df_second[\"Deaths\"]/df_second[\"Confirmed\"])\n",
    "df_second.show()"
   ]
  },
  {
   "cell_type": "markdown",
   "metadata": {},
   "source": [
    "The last type of csv files is then loaded into a dataframe."
   ]
  },
  {
   "cell_type": "code",
   "execution_count": 11,
   "metadata": {
    "tags": []
   },
   "outputs": [
    {
     "output_type": "stream",
     "name": "stdout",
     "text": "+----+------+--------------------+-------------------+-------------------+---------+----------+---------+------+---------+------+--------------------+------------------+-------------------+\n|FIPS|Admin2|      Province_State|     Country_Region|        Last_Update|      Lat|     Long_|Confirmed|Deaths|Recovered|Active|        Combined_Key|     Incident_Rate|Case_Fatality_Ratio|\n+----+------+--------------------+-------------------+-------------------+---------+----------+---------+------+---------+------+--------------------+------------------+-------------------+\n|null|  null|                null|        Afghanistan|2020-11-11 05:25:30| 33.93911| 67.709953|    42463|  1577|    34954|  5932|         Afghanistan|109.07991172806463| 3.7138214445517272|\n|null|  null|                null|            Albania|2020-11-11 05:25:30|  41.1533|   20.1683|    25294|   579|    12353| 12362|             Albania| 878.9352977969282| 2.2890804143275085|\n|null|  null|                null|            Algeria|2020-11-11 05:25:30|  28.0339|    1.6596|    63446|  2077|    42626| 18743|             Algeria| 144.6852700858221| 3.2736500330990133|\n|null|  null|                null|            Andorra|2020-11-11 05:25:30|  42.5063|    1.5218|     5477|    75|     4405|   997|             Andorra|7088.5912120623825| 1.3693627898484573|\n|null|  null|                null|             Angola|2020-11-11 05:25:30| -11.2027|   17.8739|    12816|   308|     6036|  6472|              Angola| 38.99438780210762|  2.403245942571785|\n|null|  null|                null|Antigua and Barbuda|2020-11-11 05:25:30|  17.0608|  -61.7964|      131|     3|      122|     6| Antigua and Barbuda|133.77175067396453| 2.2900763358778624|\n|null|  null|                null|          Argentina|2020-11-11 05:25:30| -38.4161|  -63.6167|  1262476| 34183|  1081897|146396|           Argentina| 2793.349475991972|  2.707615827944452|\n|null|  null|                null|            Armenia|2020-11-11 05:25:30|  40.0691|   45.0382|   108687|  1609|    66835| 40243|             Armenia| 3667.850733354167| 1.4803978396680375|\n|null|  null|Australian Capita...|          Australia|2020-11-11 05:25:30| -35.4735|  149.0124|      114|     3|      111|     0|Australian Capita...|26.629292221443592| 2.6315789473684212|\n|null|  null|     New South Wales|          Australia|2020-11-11 05:25:30| -33.8688|  151.2093|     4469|    53|     3156|  1260|New South Wales, ...|55.050505050505045| 1.1859476392929067|\n|null|  null|  Northern Territory|          Australia|2020-11-11 05:25:30| -12.4634|  130.8456|       41|     0|       33|     8|Northern Territor...|16.693811074918568|                0.0|\n|null|  null|          Queensland|          Australia|2020-11-11 05:25:30| -27.4698|  153.0251|     1179|     6|     1163|    10|Queensland, Austr...| 23.04760043006549| 0.5089058524173028|\n|null|  null|     South Australia|          Australia|2020-11-11 05:25:30| -34.9285|  138.6007|      517|     4|      495|    18|South Australia, ...|29.433532593225163| 0.7736943907156673|\n|null|  null|            Tasmania|          Australia|2020-11-11 05:25:30| -42.8821|  147.3272|      230|    13|      217|     0| Tasmania, Australia| 42.95051353874883| 5.6521739130434785|\n|null|  null|            Victoria|          Australia|2020-11-11 05:25:30| -37.8136|  144.9631|    20345|   819|    19522|     4| Victoria, Australia| 306.8673735652121|   4.02555910543131|\n|null|  null|   Western Australia|          Australia|2020-11-11 05:25:30| -31.9505|  115.8605|      776|     9|      757|    10|Western Australia...|29.498973618185964| 1.1597938144329898|\n|null|  null|                null|            Austria|2020-11-11 05:25:30|  47.5162|   14.5501|   164866|  1499|    98663| 64704|             Austria|  1830.54272517321| 0.9092232479710796|\n|null|  null|                null|         Azerbaijan|2020-11-11 05:25:30|  40.1431|   47.5769|    67392|   867|    50009| 16516|          Azerbaijan|  664.669462752147|  1.286502849002849|\n|null|  null|                null|            Bahamas|2020-11-11 05:25:30|25.025885|-78.035889|     7012|   154|     5035|  1823|             Bahamas|1783.0987061599806| 2.1962350256702794|\n|null|  null|                null|            Bahrain|2020-11-11 05:25:30|  26.0275|     50.55|    83811|   331|    81415|  2065|             Bahrain| 4925.472339580261|0.39493622555511804|\n+----+------+--------------------+-------------------+-------------------+---------+----------+---------+------+---------+------+--------------------+------------------+-------------------+\nonly showing top 20 rows\n\n"
    }
   ],
   "source": [
    "df_third = spark.read.format(\"csv\").option(\"header\", \"true\").option(\"inferschema\", \"true\").load(type_3_file_names) \n",
    "df_third.show()"
   ]
  },
  {
   "cell_type": "markdown",
   "metadata": {},
   "source": [
    "Only the columns listed in the first type of dataframe, excluding **Longitude** and **Latitude**, and **Incidence_Rate** from the third type are kept. A copy of the third dataframe is kept for when **Incidence_Rate** is needed."
   ]
  },
  {
   "cell_type": "code",
   "execution_count": 12,
   "metadata": {},
   "outputs": [],
   "source": [
    "df_first = df_first.select(\"Province_State\", \"Country_Region\", \"Last_Update\", \"Confirmed\", \"Deaths\", \"Recovered\", \"Active\", \"Case_Fatality_Ratio\")\n",
    "df_second = df_second.select(\"Province_State\", \"Country_Region\", \"Last_Update\", \"Confirmed\", \"Deaths\", \"Recovered\", \"Active\", \"Case_Fatality_Ratio\")\n",
    "df_third_2 = df_third.select(\"Province_State\", \"Country_Region\", \"Last_Update\", \"Confirmed\", \"Deaths\", \"Recovered\", \"Active\", \"Case_Fatality_Ratio\")\n",
    "df_with_incidence = df_third.select(\"Province_State\", \"Country_Region\", \"Last_Update\", \"Confirmed\", \"Deaths\", \"Recovered\", \"Active\", \"Case_Fatality_Ratio\", \"Incident_Rate\")"
   ]
  },
  {
   "cell_type": "markdown",
   "metadata": {},
   "source": [
    "The last step of the preprocessing is combining all the dataframes to form a single one. We also rename 3 main countries such that we can later correctly access their data during a merge."
   ]
  },
  {
   "cell_type": "code",
   "execution_count": 13,
   "metadata": {
    "tags": []
   },
   "outputs": [
    {
     "output_type": "stream",
     "name": "stdout",
     "text": "+--------------+--------------+-------------------+---------+------+---------+-------+--------------------+\n|Province_State|Country_Region|        Last_Update|Confirmed|Deaths|Recovered| Active| Case_Fatality_Ratio|\n+--------------+--------------+-------------------+---------+------+---------+-------+--------------------+\n|         Hubei|         China|2020-03-21 10:13:08|    67800|  3139|    58946| 5715.0|0.046297935103244835|\n|          null|         Italy|2020-03-21 17:43:03|    53578|  4825|     6072|42681.0|  0.0900556198439658|\n|          null|         Spain|2020-03-21 13:13:30|    25374|  1375|     2125|21874.0| 0.05418932765823284|\n|          null|       Germany|2020-03-21 20:43:02|    22213|    84|      233|21896.0|0.003781569351280...|\n|          null|          Iran|2020-03-21 11:13:12|    20610|  1556|     7635|11419.0|  0.0754973313925279|\n|        France|        France|2020-03-21 20:43:02|    14282|   562|       12|13708.0| 0.03935023106007562|\n|      New York|            US|2020-03-21 22:43:04|    11710|    60|        0|11650.0|0.005123825789923143|\n|          null|   South Korea|2020-03-21 11:13:12|     8799|   102|     1540| 7157.0|0.011592226389362428|\n|          null|   Switzerland|2020-03-21 20:43:02|     6575|    75|       15| 6485.0|0.011406844106463879|\n|United Kingdom|United Kingdom|2020-03-21 20:43:03|     5018|   233|       65| 4720.0|0.046432841769629335|\n|   Netherlands|   Netherlands|2020-03-21 14:43:04|     3631|   136|        2| 3493.0| 0.03745524648857064|\n|          null|       Belgium|2020-03-21 11:13:12|     2815|    67|      263| 2485.0|0.023801065719360567|\n|          null|       Austria|2020-03-21 14:43:03|     2814|     8|        9| 2797.0|0.002842928216062...|\n|          null|        Norway|2020-03-21 17:13:07|     2118|     7|        1| 2110.0|0.003305004721435...|\n|    Washington|            US|2020-03-21 22:43:04|     1793|    94|        0| 1699.0| 0.05242610150585611|\n|          null|        Sweden|2020-03-21 14:43:03|     1763|    20|       16| 1727.0|0.011344299489506523|\n|     Guangdong|         China|2020-03-21 12:43:08|     1400|     8|     1325|   67.0|0.005714285714285714|\n|    California|            US|2020-03-21 22:43:04|     1364|    24|        0| 1340.0|0.017595307917888565|\n|    New Jersey|            US|2020-03-21 19:43:03|     1327|    16|        0| 1311.0|0.012057272042200452|\n|       Denmark|       Denmark|2020-03-21 12:43:08|     1326|    13|        1| 1312.0| 0.00980392156862745|\n+--------------+--------------+-------------------+---------+------+---------+-------+--------------------+\nonly showing top 20 rows\n\n"
    }
   ],
   "source": [
    "_df = df_first.union(df_second)\n",
    "df = _df.union(df_third_2)\n",
    "\n",
    "df = df.withColumn(\"Country_Region\", F.when(df[\"Country_Region\"] == \"Mainland China\", \"China\").otherwise(df[\"Country_Region\"]))\n",
    "df = df.withColumn(\"Country_Region\", F.when(df[\"Country_Region\"] == \"Korea, South\", \"South Korea\").otherwise(df[\"Country_Region\"]))\n",
    "df = df.withColumn(\"Country_Region\", F.when(df[\"Country_Region\"] == \"UK\", \"United Kingdom\").otherwise(df[\"Country_Region\"]))\n",
    "\n",
    "df.show()"
   ]
  },
  {
   "source": [
    "## 1.3 Assignment"
   ],
   "cell_type": "markdown",
   "metadata": {}
  },
  {
   "source": [
    "We are to create a dashboard (textually, so not graphs) from our data. There are several assignments that we must complete:\n",
    "* We must track which countries are doing a good job of tracking cases (deaths/cases ratio). (section 1.3.1)\n",
    "* We must determine which countries have good healthcare. (section 1.3.2)\n",
    "* We must detect which countries are doing a good job of containing outbreaks (incidence). (section 1.3.3)\n",
    "* We must analyze whether the situation between the final entry for a country and 7 days prior has improved or declined, based on a previous indicator. In this case, we have chosen to do so based on indidence, i.e. how good are they managing indicence vs. 7 days ago. (section 1.3.4)\n",
    "\n",
    "For each assignment, we will look at the 10 best and 10 worst countries. It is important to remain critical. Certain countries may appear in these top-10s due to underreported or statistically irrelevant figures. Thus, we will access these top 10s and make adjustments if needed. "
   ],
   "cell_type": "markdown",
   "metadata": {}
  },
  {
   "cell_type": "markdown",
   "metadata": {},
   "source": [
    "### 1.3.1 Quality of tracking (deaths per cases ratio)"
   ]
  },
  {
   "source": [
    "In this section, we determine the average and standard deviation of the _Case Fatality Ratio_. We will use both these metrics in our analysis of which countries are doing a good job of tracking cases and which are doing a poor job. \n",
    "\n",
    "During EDA, we noticed that certain _Country_Regions_ reported more than others. Thus, we will count the number of _updates_ they have made, as well as how many _Province_States_ each country has. We divide these into each other and what we are left with is a _Count_ figure that tells us how frequently each country has made updates. The idea here is to detect which countries could be considered outliers that should be omitted. Indeed, the table below immediately shows us that certain _Country_Regions_ have very low counts. One reason could be that they were originally counted separately, such as North Ireland, but were later incorporated into the figures of another _Country_Region_. We set a cut-off at 100 days, meaning every country with less than 100 updates (daily) will not be considered. Exploration of the excluded countries showed that these were indeed regions such as North Korea, Northern Ireland, Eritrea and Jersey. Given the low amount of information on these regions, we cannot perform meaningful analysis on them. Thus, we excluded them.\n",
    "\n",
    "To determine whether a country has good or poor tracking of the virus, we will use the standard deviation. A low standard deviation of the _Case_Fatality_Ratio_ tells us that a country is good at tracking its cases: the deaths and cases grow (or decline) proportionally. A high standard deviation tells us that _Case_Fatality_Ratio_ that there may be descrepancy between the deaths and cases, i.e. either underreporting or insufficient tracking of the virus' spread. One can easily visualize this by imagining that the increase in the number of detected cases remains stable, though the deaths grow fast. This may indicate to us that we are not suffiently testing people and discovering the true infection spread of our population."
   ],
   "cell_type": "markdown",
   "metadata": {}
  },
  {
   "cell_type": "code",
   "execution_count": 14,
   "metadata": {
    "tags": []
   },
   "outputs": [
    {
     "output_type": "stream",
     "name": "stdout",
     "text": "+-----------------+--------------------+--------------------+-----+\n|   Country_Region|      Stdev_Case_Fat|        Avg_Case_Fat|Count|\n+-----------------+--------------------+--------------------+-----+\n|             Chad|  3.5695689858751494|   5.411630859189694|  237|\n|         Paraguay|  0.8293239417888044|   1.005183763421402|  248|\n|           Russia|   0.946508661445475|  1.2360474017945295|  164|\n|    North Ireland|                 NaN|                 0.0|    1|\n|            Yemen|  11.775450297939296|   21.52944755078509|  215|\n|          Senegal|  0.9284426424828336|  1.2310155662310345|  254|\n|       Cabo Verde|  0.4483307510272256|  0.7352040231301348|  236|\n|           Sweden|  2.6224330317831352|   5.803851660766782|  164|\n|Republic of Korea|                 NaN|0.007187541594569413|    1|\n|           Guyana|  2.3892527692014673|  2.9850920146852618|  244|\n|            Burma|  0.9446288145652882|   1.367181542886264|  229|\n|          Eritrea|                 0.0|                 0.0|  235|\n|           Jersey|                 0.0|                 0.0|    8|\n|      Philippines|  1.3785307059296326|  1.4803186632474137|  283|\n|         Djibouti|  0.5038305666274472|  0.7495083045927876|  238|\n|         Malaysia|  0.6364586998732064|   0.736008707826929|  283|\n|        Singapore|0.025860148802332693|0.031175630965621773|  283|\n|             Fiji|  2.8814165663247078|  2.4249389413147795|  237|\n|           Turkey|  1.1925938861856236|  1.7397240163174068|  245|\n|           Malawi|  1.2911812326485566|  1.8685838469426101|  223|\n+-----------------+--------------------+--------------------+-----+\nonly showing top 20 rows\n\n"
    }
   ],
   "source": [
    "from pyspark.sql.types import DoubleType, IntegerType\n",
    "\n",
    "countries_dev_df = df.groupBy(\"Country_Region\").agg(F.stddev(df.Case_Fatality_Ratio).alias('Stdev_Case_Fat'), F.count(df[\"Last_Update\"]).alias(\"#_Updates\"), F.countDistinct(df[\"Province_State\"]).alias(\"#_Province\"))\n",
    "\n",
    "df = df.withColumn(\"Case_Fatality_Ratio\", df[\"Case_Fatality_Ratio\"].cast(DoubleType()))\n",
    "countries_avg_df = df.groupBy(\"Country_Region\").avg('Case_Fatality_Ratio')\n",
    "countries_avg_df = countries_avg_df.withColumnRenamed(\"avg(Case_Fatality_Ratio)\",\"Avg_Case_Fat\")\n",
    "\n",
    "countries_df = countries_dev_df.join(countries_avg_df, \"Country_Region\")\n",
    "\n",
    "countries_df = countries_df.withColumn(\"Count\", F.when(countries_df[\"#_Province\"] == 0, countries_df[\"#_Updates\"]).otherwise((countries_df[\"#_Updates\"]/countries_df[\"#_Province\"]).cast(IntegerType())))\n",
    "\n",
    "countries_df = countries_df.select('Country_Region', 'Stdev_Case_Fat', 'Avg_Case_Fat', 'Count')\n",
    "\n",
    "countries_df.show()"
   ]
  },
  {
   "cell_type": "markdown",
   "metadata": {},
   "source": [
    "Below is a sorted table by _Count_. Recall, this column tells us how frequently this region has reported CoViD-19 cases. The Netherlands has made 144 daily reports, is a 1st world country and should thus be included in the analysis. All regions with a lower _Count_ than the Netherlands, however, may lack sufficient frequent reporting to be statistically viable. The jump between the region before The Netherlands, i.e. Taiwan (with a mere 37 daily reports), is significant. Although we could have chosen 144 as our cut-off, this would be fairly arbitrary, especially as we add new daily data. Thus, we chose a nearby round number: 100."
   ]
  },
  {
   "cell_type": "code",
   "execution_count": 15,
   "metadata": {
    "tags": []
   },
   "outputs": [
    {
     "output_type": "stream",
     "name": "stdout",
     "text": "+--------------------+--------------------+--------------------+-----+\n|      Country_Region|      Stdev_Case_Fat|        Avg_Case_Fat|Count|\n+--------------------+--------------------+--------------------+-----+\n|         Ivory Coast|                null|                null|    0|\n|Iran (Islamic Rep...|                 NaN| 0.03618502859985078|    1|\n|       North Ireland|                 NaN|                 0.0|    1|\n|          St. Martin|                 NaN|                 0.0|    1|\n|          Azerbaijan|                 NaN|                 0.0|    1|\n| Republic of Ireland|                 NaN|                 0.0|    1|\n|   Republic of Korea|                 NaN|0.007187541594569413|    1|\n|            Viet Nam|                 NaN|                 0.0|    1|\n|     Channel Islands|                 NaN|                 0.0|    1|\n|       Hong Kong SAR|                 NaN|               0.025|    1|\n|           Macao SAR|                 NaN|                 0.0|    1|\n|          Cape Verde|                 NaN|                 0.0|    1|\n| Republic of Moldova|                 NaN|                 0.0|    1|\n|  Russian Federation|                 NaN|                 0.0|    1|\n|        Saint Martin|                 NaN|                 0.0|    1|\n| Taipei and environs|                 NaN| 0.02127659574468085|    1|\n|             Vanuatu|                 NaN|                 0.0|    1|\n|          East Timor|                 NaN|                 0.0|    1|\n|             Curacao|                 0.0|                 0.0|    2|\n|        Bahamas, The|                 0.0|                 0.0|    3|\n|      Cayman Islands|                 0.0|                 0.0|    3|\n|        Vatican City|                 0.0|                 0.0|    4|\n|         Gambia, The|                 0.0|                 0.0|    4|\n|          The Gambia|                 NaN|                 0.0|    5|\n|           Palestine|                 0.0|                 0.0|    5|\n|                Guam|                 0.0|                 0.0|    6|\n|           Greenland|                 0.0|                 0.0|    6|\n|         The Bahamas|                 0.0|                 0.0|    6|\n|Republic of the C...|                 NaN|                 0.0|    6|\n|         Puerto Rico|                 NaN|                 0.0|    6|\n|             Mayotte|                 0.0|                 0.0|    6|\n|           Gibraltar|                 0.0|                 0.0|    7|\n|       Faroe Islands|                 0.0|                 0.0|    7|\n|occupied Palestin...|                 NaN|                 0.0|    7|\n|    Saint Barthelemy|                 0.0|                 0.0|    7|\n|               Aruba|                 0.0|                 0.0|    7|\n|            Guernsey|                 0.0|                 0.0|    8|\n|              Jersey|                 0.0|                 0.0|    8|\n|          Guadeloupe|                 0.0|                 0.0|    9|\n|      Czech Republic|                 0.0|                 0.0|   10|\n|             Reunion|                 0.0|                 0.0|   11|\n|         Cruise Ship|5.546507433399602E-4|0.010277272772429688|   13|\n|       French Guiana|                 0.0|                 0.0|   14|\n|    Marshall Islands|                 0.0|                 0.0|   14|\n|          Martinique|0.025971468598461826| 0.01918510043224002|   15|\n|              Others|0.003809275792086...|0.004135684676654204|   16|\n|     Solomon Islands|                 0.0|                 0.0|   30|\n|           Hong Kong|0.011643016005496932|0.023763030045685748|   37|\n|               Macau|                 0.0|                 0.0|   37|\n|              Taiwan|0.017182824823257177|  0.0192226584846501|   37|\n|         Netherlands|    4.64978084432237|   4.803770956736284|  144|\n|               India|    1.02634796800188|   1.199112105381121|  152|\n|              Sweden|  2.6224330317831352|   5.803851660766782|  164|\n|              Russia|   0.946508661445475|  1.2360474017945295|  164|\n|             Ukraine|  1.0152665663177516|  2.1716710393971463|  166|\n|            Colombia|   2.489603356893213|  3.2322042842000718|  167|\n|               Japan|   2.672323311753206|  2.2765792521859733|  168|\n|            Pakistan|  0.9434647612159119|  1.8934791664812924|  169|\n|                Peru|   7.625936089962196|   3.987898312258953|  170|\n|              Brazil|  1.6908518459160304|   2.732003489243206|  172|\n|             Germany|   1.764620106625167|   3.018032296259767|  176|\n|              Canada|   4.287902401221546|  1.7675164542669943|  176|\n|              Mexico|   4.747268837379202|  10.408207243501932|  177|\n|               Chile|  0.8390076024348666|  1.4613295502588748|  179|\n|      United Kingdom|    4.83059583471635|  4.0362135494518885|  180|\n|             Lesotho|  1.1825413118771857|  1.6238345304026895|  182|\n|               Spain|   4.571133928549751|    6.07453437237955|  185|\n|               Italy|   4.638040583002451|    8.08262907548739|  185|\n|          Tajikistan| 0.30682960154604466|  0.7156363872447318|  195|\n|             Comoros|  0.6773509392670114|   1.453387115650349|  195|\n|           Australia|  1.6321824710641906|  1.1541926466004464|  197|\n|               Yemen|  11.775450297939296|   21.52944755078509|  215|\n|Sao Tome and Prin...|  0.7711777169544275|  1.3409364472316792|  219|\n|      Western Sahara|  4.3932166852436865|   7.668181818181818|  220|\n|         South Sudan|    0.81394128436488|  1.3779962652591853|  220|\n|              France|   3.232075505707301|  1.5677666032705693|  222|\n|              Malawi|  1.2911812326485566|  1.8685838469426101|  223|\n|        Sierra Leone|  1.6739403772933732|  2.7188416610058663|  225|\n|             Burundi| 0.37891604187011646| 0.32965066778410557|  225|\n|            Botswana|  0.6189911342640264| 0.48427261666622073|  226|\n|          MS Zaandam|   9.816959056846118|  16.235867446247564|  228|\n|               Burma|  0.9446288145652882|   1.367181542886264|  229|\n|  West Bank and Gaza| 0.33422986011119876|  0.4917106376959971|  230|\n|Saint Kitts and N...|                 0.0|                 0.0|  231|\n|    Diamond Princess|  0.8150778436437957|    1.31691108519359|  231|\n|       Guinea-Bissau|  0.6980354111041228|   1.043974442668927|  231|\n|                Mali|   2.159956821315007|   3.394416066268014|  231|\n|                Laos|                 0.0|                 0.0|  232|\n|               Libya|  0.9844895651116131|   1.408975302934538|  232|\n|              Belize|   3.309778273300614|  2.7398813632776937|  233|\n|             Bahamas|  3.8637210144927345|    3.41110412725333|  234|\n|             Grenada|                 0.0|                 0.0|  234|\n|          Mozambique|  0.3090379782498638| 0.47058102935681173|  234|\n|              Gambia|  1.5898637266201248|   2.413470934627354|  234|\n|            Dominica|                 0.0|                 0.0|  234|\n|         Timor-Leste|                 0.0|                 0.0|  234|\n|               Syria|   2.068820152144134|  3.1632871802896236|  234|\n|              Uganda| 0.46513078895971216| 0.40204270435569534|  235|\n|             Eritrea|                 0.0|                 0.0|  235|\n|          Madagascar|  0.5661907104876923|  0.8063520765661805|  236|\n+--------------------+--------------------+--------------------+-----+\nonly showing top 100 rows\n\n"
    }
   ],
   "source": [
    "countries_df.orderBy(countries_df[\"Count\"]).show(100)"
   ]
  },
  {
   "cell_type": "markdown",
   "metadata": {},
   "source": [
    "Keep only the regions that have more than 100 daily reports."
   ]
  },
  {
   "cell_type": "code",
   "execution_count": 16,
   "metadata": {},
   "outputs": [],
   "source": [
    "countries_df = countries_df.filter(countries_df[\"Count\"]>100)"
   ]
  },
  {
   "cell_type": "markdown",
   "metadata": {},
   "source": [
    "### Good tracking"
   ]
  },
  {
   "cell_type": "markdown",
   "metadata": {},
   "source": [
    "We will now analyse which countries have a low standard deviation so that we can determine the top-10 of countries that are tracking the virus well. Notice that certain regions have a standard deviation (and average, for that matter) of 0, despite their large reporting. This is because these countries have reported 0 deaths. Thus, they are irrelevant to us, because they could be underreporting, not actually sharing truthful information or the region may just be too small to be statistically viable for comparisons."
   ]
  },
  {
   "cell_type": "code",
   "execution_count": 17,
   "metadata": {
    "tags": []
   },
   "outputs": [
    {
     "output_type": "stream",
     "name": "stdout",
     "text": "+--------------------+--------------+------------+-----+\n|      Country_Region|Stdev_Case_Fat|Avg_Case_Fat|Count|\n+--------------------+--------------+------------+-----+\n|             Eritrea|           0.0|         0.0|  235|\n|            Cambodia|           0.0|         0.0|  283|\n|            Dominica|           0.0|         0.0|  234|\n|         Timor-Leste|           0.0|         0.0|  234|\n|                Laos|           0.0|         0.0|  232|\n|              Bhutan|           0.0|         0.0|  250|\n|            Holy See|           0.0|         0.0|  246|\n|Saint Kitts and N...|           0.0|         0.0|  231|\n|Saint Vincent and...|           0.0|         0.0|  242|\n|            Mongolia|           0.0|         0.0|  246|\n|             Grenada|           0.0|         0.0|  234|\n|          Seychelles|           0.0|         0.0|  242|\n+--------------------+--------------+------------+-----+\n\n"
    }
   ],
   "source": [
    "countries_df.filter(countries_df[\"Stdev_Case_Fat\"] == 0).show(40)"
   ]
  },
  {
   "cell_type": "markdown",
   "metadata": {},
   "source": [
    "We filter the regions whose standard deviation is 0 out of our dataset, as well as the regions who standard deviation is NaN. Next, we order by the standard deviation."
   ]
  },
  {
   "cell_type": "code",
   "execution_count": 18,
   "metadata": {
    "tags": []
   },
   "outputs": [],
   "source": [
    "countries_df_filtered = countries_df.filter(countries_df[\"Stdev_Case_Fat\"] > 0).filter(~F.isnan(countries_df[\"Stdev_Case_Fat\"]))\n",
    "countries_df_best = countries_df_filtered.orderBy(countries_df_filtered[\"Stdev_Case_Fat\"])\n"
   ]
  },
  {
   "cell_type": "markdown",
   "metadata": {},
   "source": [
    "What we are left with are the countries, listed from excellently tracking the virus to poorly tracking the virus, that have a meaningful standard deviation.\n",
    "\n",
    "There are several things we can notice, before applying a ranking:\n",
    "* Certain countries appear as tracking the virus really well. We must remain critical and assess whether this is truly the case. Note that, for example, Rwanda has a mere 41 deaths out of 5312 cases, despite having a large population size (13,066,896). Third world countries with dictorial regimes fall victim to underreporting or an inadequate assessment of the state of CoViD-19 is their countries. That is to say, that we cannot with confidence determine whether these kinds of countries should indeed be included in a list that assessess a country's performance on tracking the virus.\n",
    "* Some countries, such as Saint Lucia, simply have a very low amount of cases and deaths compared to their total population. The country could be doing a really good job, could be underreporting or could be isolated better from other countries. It is difficult to determine this, though due to the fact that Saint Lucia appears to be the oddball in the list, we decided to remove it.\n",
    "* In conjunction with the previous statement, we notice that the top of this list includes many countries with high average temperatures throughout the year, which may allow them to be less vulnerable to the virus. Thus, we must remain critical and assess whether they are at the top of this list due to good tracking or being less vulnerable to the virus. This is difficult to determine based on this dataset solely, so we decided to keep most of these countries on this list.\n",
    "* Many of these countries are islands! This shows that island regions have their isolation factor has beneficiary to their exposure to CoViD-19, although that is not to say that they are immune to the virus. This merely tells us that influx of other countries' citizens is much more easy to control versus countries on the mainland that have physical borders that can be crossed."
   ]
  },
  {
   "cell_type": "code",
   "execution_count": 19,
   "metadata": {
    "tags": []
   },
   "outputs": [
    {
     "output_type": "stream",
     "name": "stdout",
     "text": "+--------------------+--------------------+--------------------+-----+\n|      Country_Region|      Stdev_Case_Fat|        Avg_Case_Fat|Count|\n+--------------------+--------------------+--------------------+-----+\n|           Singapore|0.025860148802332693|0.031175630965621773|  283|\n|         Saint Lucia| 0.04343407746846115|0.002792048246593701|  242|\n|               Qatar| 0.07525506314186811| 0.09706676018345682|  256|\n|             Bahrain| 0.16734822061392865|  0.2141036358459203|  261|\n|            Maldives|  0.1824294888247625| 0.25205215911179063|  248|\n|           Sri Lanka| 0.21515182234282237| 0.23949510358940435|  283|\n|             Iceland| 0.23131809992516325| 0.29552475769697606|  257|\n|              Rwanda| 0.24384120413939261| 0.29868943036880685|  242|\n|               Nepal| 0.24846209676491823| 0.25624908951815933|  283|\n|               Ghana|  0.2736646093311702|   0.407322033696884|  242|\n|United Arab Emirates| 0.27890160410244846|  0.3195480876213416|  283|\n|              Guinea|  0.2816915090558841|   0.414858078887033|  243|\n|               Gabon| 0.29540273001242784|  0.4656401966131654|  242|\n|          Tajikistan| 0.30682960154604466|  0.7156363872447318|  195|\n|          Mozambique|  0.3090379782498638| 0.47058102935681173|  234|\n|              Kuwait|  0.3271174474480425|  0.4266638077859269|  261|\n|       Cote d'Ivoire|  0.3322445163328404| 0.46323368706543266|  245|\n|  West Bank and Gaza| 0.33422986011119876|  0.4917106376959971|  230|\n|          Uzbekistan|  0.3371994476593011|  0.4404868661148826|  241|\n|             Burundi| 0.37891604187011646| 0.32965066778410557|  225|\n|                Oman| 0.39221495398251477|  0.4559117102460851|  261|\n|           Venezuela| 0.39332660501566835|  0.6008977780844451|  242|\n|              Jordan| 0.42964692809924426|  0.5713666525031367|  253|\n|             Belarus|  0.4317817940171631|   0.553908079344052|  257|\n|          Cabo Verde|  0.4483307510272256|  0.7352040231301348|  236|\n+--------------------+--------------------+--------------------+-----+\nonly showing top 25 rows\n\n"
    }
   ],
   "source": [
    "countries_df_best.show(25)"
   ]
  },
  {
   "source": [
    "Below, we remove certain selected countries based on criteria mentioned above. It should be noted that we have been very lenient here towards particular countries by keeping them on this list. In reality, perhaps we should have removed them, as well (e.g. Ghana and Guinea). We are thus left with the top 10 of best tracking countries based on the standard deviation of the case to fatality ratio being low."
   ],
   "cell_type": "markdown",
   "metadata": {}
  },
  {
   "cell_type": "code",
   "execution_count": 20,
   "metadata": {
    "tags": []
   },
   "outputs": [
    {
     "output_type": "stream",
     "name": "stdout",
     "text": "+--------------------+--------------------+--------------------+-----+----+\n|      Country_Region|      Stdev_Case_Fat|        Avg_Case_Fat|Count|Rank|\n+--------------------+--------------------+--------------------+-----+----+\n|           Singapore|0.025860148802332693|0.031175630965621773|  283|   1|\n|               Qatar| 0.07525506314186811| 0.09706676018345682|  256|   2|\n|             Bahrain| 0.16734822061392865|  0.2141036358459203|  261|   3|\n|            Maldives|  0.1824294888247625| 0.25205215911179063|  248|   4|\n|           Sri Lanka| 0.21515182234282237| 0.23949510358940435|  283|   5|\n|             Iceland| 0.23131809992516325| 0.29552475769697606|  257|   6|\n|               Nepal| 0.24846209676491823| 0.25624908951815933|  283|   7|\n|               Ghana|  0.2736646093311702|   0.407322033696884|  242|   8|\n|United Arab Emirates| 0.27890160410244846|  0.3195480876213416|  283|   9|\n|              Guinea|  0.2816915090558841|   0.414858078887033|  243|  10|\n+--------------------+--------------------+--------------------+-----+----+\nonly showing top 10 rows\n\n"
    }
   ],
   "source": [
    "countries_df_best = countries_df_best.filter((countries_df_best[\"Country_Region\"] != 'Uganda') & (countries_df_best[\"Country_Region\"] != 'Rwanda') & (countries_df_best[\"Country_Region\"] != 'Saint Lucia'))\n",
    "\n",
    "window = Window.orderBy(countries_df_best[\"Stdev_Case_Fat\"])\n",
    "\n",
    "countries_df_best = countries_df_best.withColumn(\"Rank\", F.row_number().over(window))\n",
    "\n",
    "countries_df_best.show(10)"
   ]
  },
  {
   "cell_type": "markdown",
   "metadata": {},
   "source": [
    "### Poor tracking"
   ]
  },
  {
   "source": [
    "In this scenario, we would like to create a top 10 of worst tracking countries around the globe. This top 10 will be much easier to establish than the previous (good tracking) list, because these countries will generally have a high reporting rate.\n",
    "\n",
    "Again, several observations can be made:\n",
    "* Yemen is the 2nd worst tracking country of the virus according to this metric, however it should be noted that Yemen has 605 deaths out of 2071 total cases, with a population of over 30 million. Thus, several questions can be raised regarding the tracking of the virus in this third world country. Generally speaking, the total amount of cases is expected to be much higher on average, however this is not the case here. This could be due to an excellent containment of the virus, as well as the geographical location of the country (bottom part of the Arabian peninsula, which results in a low interaction rate with other countries safe for the UAE and Saudi-Arabia), however it must be noted that the country is currently experiencing genocide and thus could be considered inadequately equiped to sufficiently test for the presence of the virus. Although it could be argued that Yemen should be on this list, because it is clearly not tracking the virus adequately, we are not going to include it in this list due to the aformentioned reason. The comparison to other countries simply isn't adequate in our observation.\n",
    "* MS Zaandam is a ship with extremely low deaths and cases (2 and 9 respectively) and thus is irrelevant in our list.\n",
    "* We have chosen to exlude the Western Sahara. According to our metric, it's near the top of the list, but the amount of deaths and cases (1 and 10 respectively) on a total population of 602K is simply statistically not meaningful. Yes, it is to be expected that tracking the virus is going to be very difficult in this geographical region, but as previously stated, it can also be argued that the virus is simply less rampant in hotter regions. Thus, because it is not meaningful to compare these low figures to other countries, we have decided to exclude the country. \n",
    "\n",
    "This gives us a \"truer\" top 10 of poorly tracking countries, although this is of course merely our interpretation of the figures based on the cases stated and reasoning behind the exclusion of certain countries. It is not wrong to include the excluded countries, but perhaps it is fairer to include a different country in our top 10 that is statistically more viable versus these excluded ones."
   ],
   "cell_type": "markdown",
   "metadata": {}
  },
  {
   "cell_type": "code",
   "execution_count": 21,
   "metadata": {
    "tags": []
   },
   "outputs": [
    {
     "output_type": "stream",
     "name": "stdout",
     "text": "+-------------------+------------------+------------------+-----+----+\n|     Country_Region|    Stdev_Case_Fat|      Avg_Case_Fat|Count|Rank|\n+-------------------+------------------+------------------+-----+----+\n|                 US|18.217016354201867|1.9272010027526933| 3670|   1|\n|              Yemen|11.775450297939296| 21.52944755078509|  215|   2|\n|         MS Zaandam| 9.816959056846118|16.235867446247564|  228|   3|\n|               Peru| 7.625936089962196| 3.987898312258953|  170|   4|\n|            Belgium| 6.593688221334257|  6.79336859165134|  281|   5|\n|            Hungary| 5.920368603310872| 6.059005824881824|  252|   6|\n|     United Kingdom|  4.83059583471635|4.0362135494518885|  180|   7|\n|             Mexico| 4.747268837379202|10.408207243501932|  177|   8|\n|        Netherlands|  4.64978084432237| 4.803770956736284|  144|   9|\n|              Italy| 4.638040583002451|  8.08262907548739|  185|  10|\n|              Spain| 4.571133928549751|  6.07453437237955|  185|  11|\n|     Western Sahara|4.3932166852436865| 7.668181818181818|  220|  12|\n|             Canada| 4.287902401221546|1.7675164542669943|  176|  13|\n|            Bahamas|3.8637210144927345|  3.41110412725333|  234|  14|\n|            Ecuador| 3.706102374765361| 4.966120803362646|  255|  15|\n|               Chad|3.5695689858751494| 5.411630859189694|  237|  16|\n|Antigua and Barbuda|3.3366008420895397| 3.151075950169101|  243|  17|\n|             Belize| 3.309778273300614|2.7398813632776937|  233|  18|\n|             France| 3.232075505707301|1.5677666032705693|  222|  19|\n|            Liberia|2.9385026151324656| 4.294330117361373|  240|  20|\n|            Ireland|2.9257144330062297|3.7423908452522654|  256|  21|\n|               Fiji|2.8814165663247078|2.4249389413147795|  237|  22|\n|              Sudan|2.8218550089142815| 4.319131731494222|  243|  23|\n|         San Marino|2.7573319931712295|  3.72994624946916|  258|  24|\n|           Slovenia| 2.756891042687366|3.0294746685490606|  251|  25|\n+-------------------+------------------+------------------+-----+----+\nonly showing top 25 rows\n\n"
    }
   ],
   "source": [
    "countries_df_worst = countries_df_filtered.orderBy(countries_df_filtered[\"Stdev_Case_Fat\"].desc())\n",
    "\n",
    "window = Window.orderBy(countries_df_worst[\"Stdev_Case_Fat\"].desc())\n",
    "\n",
    "countries_df_worst = countries_df_worst.withColumn(\"Rank\", F.row_number().over(window))\n",
    "\n",
    "countries_df_worst.show(25)"
   ]
  },
  {
   "source": [
    "This leaves us with the following top 10. Note that Belgium has done a very poor job of tracking the virus adequately according to our metric, as has the US. Other notable countries are the UK, the Netherlands, Italy and Spain, all of which have been severely hit by a second CoViD-19 wave recently, thus their apppearance on this list."
   ],
   "cell_type": "markdown",
   "metadata": {}
  },
  {
   "cell_type": "code",
   "execution_count": 22,
   "metadata": {
    "tags": []
   },
   "outputs": [
    {
     "output_type": "stream",
     "name": "stdout",
     "text": "+--------------+------------------+------------------+-----+----+\n|Country_Region|    Stdev_Case_Fat|      Avg_Case_Fat|Count|Rank|\n+--------------+------------------+------------------+-----+----+\n|            US|18.217016354201867|1.9272010027526933| 3670|   1|\n|          Peru| 7.625936089962196| 3.987898312258953|  170|   2|\n|       Belgium| 6.593688221334257|  6.79336859165134|  281|   3|\n|       Hungary| 5.920368603310872| 6.059005824881824|  252|   4|\n|United Kingdom|  4.83059583471635|4.0362135494518885|  180|   5|\n|        Mexico| 4.747268837379202|10.408207243501932|  177|   6|\n|   Netherlands|  4.64978084432237| 4.803770956736284|  144|   7|\n|         Italy| 4.638040583002451|  8.08262907548739|  185|   8|\n|         Spain| 4.571133928549751|  6.07453437237955|  185|   9|\n|        Canada| 4.287902401221546|1.7675164542669943|  176|  10|\n+--------------+------------------+------------------+-----+----+\nonly showing top 10 rows\n\n"
    }
   ],
   "source": [
    "countries_df_worst = countries_df_worst.filter((countries_df_worst[\"Country_Region\"] != 'MS Zaandam') & (countries_df_worst[\"Country_Region\"] != 'Yemen') & (countries_df_worst[\"Country_Region\"] != 'Western Sahara'))\n",
    "\n",
    "window = Window.orderBy(countries_df_worst[\"Stdev_Case_Fat\"].desc())\n",
    "\n",
    "countries_df_worst = countries_df_worst.withColumn(\"Rank\", F.row_number().over(window))\n",
    "\n",
    "countries_df_worst.show(10)"
   ]
  },
  {
   "cell_type": "markdown",
   "metadata": {},
   "source": [
    "### 1.3.2 Quality of Healthcare"
   ]
  },
  {
   "source": [
    "We have to decided to use the average of the _Case_Fatality_Rate_ to determine the quality of healthcare. We have selected this metric because the average can tell us something about the amount of people that have died proportionate to the amount of cases. A low average indicates to us that fewer people have died as the result of CoViD-19 due to better healthcare, whereas a high amount of deaths per cases tells us that the healthcare systems of a country may not be sufficiently up for this task (as was seen in Italy during the start of the pandemic). We note that this average does not take into account the age distribution of a country or the geographical spread (density) within a country and thus can only provide a limited scope on the situation. Whether or not a country appears in the list of good healthcare or poor healthcare is thus not just a function of its average. Our approach is a simplification due to the limited amount of data that we can work with. We would need more information on demographics as well as region density of these various countries in order for our metric to be more accurately describing of the quality of healthcare within a country."
   ],
   "cell_type": "markdown",
   "metadata": {}
  },
  {
   "source": [
    "### Good Healthcare"
   ],
   "cell_type": "markdown",
   "metadata": {}
  },
  {
   "cell_type": "markdown",
   "metadata": {},
   "source": [
    "Firstly, we will omit those regions whose averages are 0 (see 1.3.1 for the reasoning behind this)."
   ]
  },
  {
   "cell_type": "code",
   "execution_count": 23,
   "metadata": {
    "tags": []
   },
   "outputs": [
    {
     "output_type": "stream",
     "name": "stdout",
     "text": "+--------------------+--------------+------------+-----+\n|      Country_Region|Stdev_Case_Fat|Avg_Case_Fat|Count|\n+--------------------+--------------+------------+-----+\n|             Eritrea|           0.0|         0.0|  235|\n|            Cambodia|           0.0|         0.0|  283|\n|            Dominica|           0.0|         0.0|  234|\n|         Timor-Leste|           0.0|         0.0|  234|\n|                Laos|           0.0|         0.0|  232|\n|              Bhutan|           0.0|         0.0|  250|\n|            Holy See|           0.0|         0.0|  246|\n|Saint Kitts and N...|           0.0|         0.0|  231|\n|Saint Vincent and...|           0.0|         0.0|  242|\n|            Mongolia|           0.0|         0.0|  246|\n|             Grenada|           0.0|         0.0|  234|\n|          Seychelles|           0.0|         0.0|  242|\n+--------------------+--------------+------------+-----+\n\n"
    }
   ],
   "source": [
    "countries_df.filter(countries_df[\"Avg_Case_Fat\"] == 0).show(100)"
   ]
  },
  {
   "cell_type": "markdown",
   "metadata": {},
   "source": [
    "As well as NaNs.."
   ]
  },
  {
   "cell_type": "code",
   "execution_count": 24,
   "metadata": {},
   "outputs": [],
   "source": [
    "countries_df_filtered = countries_df.filter(countries_df[\"Avg_Case_Fat\"] > 0).filter(~F.isnan(countries_df[\"Avg_Case_Fat\"]))\n",
    "countries_df_best = countries_df_filtered.orderBy(countries_df_filtered[\"Avg_Case_Fat\"])"
   ]
  },
  {
   "source": [
    "### Best healthcare"
   ],
   "cell_type": "markdown",
   "metadata": {}
  },
  {
   "cell_type": "markdown",
   "metadata": {},
   "source": [
    "Below is an ordered table of countries based on the average of their _Case_Fatality_Rate_. A low average indeed should indicate that the quality of healthcare in this country is high(er). However, we must remain critical, especially when countries have low numbers of deaths and cases in comparison to their total population, when compared with other countries with similar population sizes. Their performance could indeed be significantly better due to better healthcare, however geographical region and climate, again, play a significant role in this metric and can not, as previously mentioned, be measured accurately. \n",
    "\n",
    "We have decided to exclude Saint Lucia and Burundi from this top 10 list, due to the aforementioned reasons. While Saint Lucia's performance may indeed be worthy of a spot in this top 10, we would like to make more meaningful comparisons between countries, especially because the country is a very isolated island and low figures. This is not to say that these figures are inaccurate; they merely become statistically irrelevant due to their proportions being many times lower than other countries. Burundi was excluded because they have 1 death out of 620 cases on a total population of over 12 million. There are various possibilities for these low numbers: the virus has not spread in Africa at the same rate as first world countries and regions; the climate is much hotter, which means it is more difficult for the virus to survive in; underreporting. \n",
    "\n",
    "Africa has generally been on the low end of figures of CoViD-19, which may be a good sign because the virus may not have spread there as widely as in Europe or North America. On the other hand, the various regimes and low accessibility to medical care, as well as the high probability for low testing rates, can all be contributing factors to why the figures in Africa may be lower than in reality. Thus, one can argue that these countries can not in a meaningful way be compared to other, first world countries and should therefore be exluded from the list.\n",
    "\n",
    "Qatar has a very low amount of deaths (230), with their total cases being at over 135,000 (and a total population of nearly 3 million inhabitants). We should be critical of this and ask ourselves whether this is indeed possible. We have decided not to exclude Qatar from this list and assume that the country's healthcare is indeed sufficiently good to allow for reasonable treatment of CoViD-19 cases. We note that Singapore has 28 deaths out of 58,102 cases, with a total population of nearly 6 million. A similar question could be raised here namely whether this is indeed accurate. Singapore, however, is known as a very rich region and thus we assume that they can indeed provide their inhabitants with good healthcare.\n"
   ]
  },
  {
   "cell_type": "code",
   "execution_count": 25,
   "metadata": {
    "tags": []
   },
   "outputs": [
    {
     "output_type": "stream",
     "name": "stdout",
     "text": "+--------------------+--------------------+--------------------+-----+\n|      Country_Region|      Stdev_Case_Fat|        Avg_Case_Fat|Count|\n+--------------------+--------------------+--------------------+-----+\n|         Saint Lucia| 0.04343407746846115|0.002792048246593701|  242|\n|           Singapore|0.025860148802332693|0.031175630965621773|  283|\n|               Qatar| 0.07525506314186811| 0.09706676018345682|  256|\n|             Bahrain| 0.16734822061392865|  0.2141036358459203|  261|\n|           Sri Lanka| 0.21515182234282237| 0.23949510358940435|  283|\n|            Maldives|  0.1824294888247625| 0.25205215911179063|  248|\n|               Nepal| 0.24846209676491823| 0.25624908951815933|  283|\n|             Iceland| 0.23131809992516325| 0.29552475769697606|  257|\n|              Rwanda| 0.24384120413939261| 0.29868943036880685|  242|\n|United Arab Emirates| 0.27890160410244846|  0.3195480876213416|  283|\n|             Burundi| 0.37891604187011646| 0.32965066778410557|  225|\n|              Uganda| 0.46513078895971216| 0.40204270435569534|  235|\n|               Ghana|  0.2736646093311702|   0.407322033696884|  242|\n|              Guinea|  0.2816915090558841|   0.414858078887033|  243|\n|              Kuwait|  0.3271174474480425|  0.4266638077859269|  261|\n|             Namibia|  0.4758002759710018|  0.4357711068353655|  242|\n|          Uzbekistan|  0.3371994476593011|  0.4404868661148826|  241|\n|                Oman| 0.39221495398251477|  0.4559117102460851|  261|\n|       Cote d'Ivoire|  0.3322445163328404| 0.46323368706543266|  245|\n|               Gabon| 0.29540273001242784|  0.4656401966131654|  242|\n|          Mozambique|  0.3090379782498638| 0.47058102935681173|  234|\n|            Botswana|  0.6189911342640264| 0.48427261666622073|  226|\n|  West Bank and Gaza| 0.33422986011119876|  0.4917106376959971|  230|\n|             Belarus|  0.4317817940171631|   0.553908079344052|  257|\n|              Jordan| 0.42964692809924426|  0.5713666525031367|  253|\n+--------------------+--------------------+--------------------+-----+\nonly showing top 25 rows\n\n"
    }
   ],
   "source": [
    "countries_df_best.show(25)"
   ]
  },
  {
   "cell_type": "markdown",
   "metadata": {},
   "source": [
    "The final top 10 is thus:"
   ]
  },
  {
   "cell_type": "code",
   "execution_count": 26,
   "metadata": {
    "tags": []
   },
   "outputs": [
    {
     "output_type": "stream",
     "name": "stdout",
     "text": "+--------------------+--------------------+--------------------+-----+----+\n|      Country_Region|      Stdev_Case_Fat|        Avg_Case_Fat|Count|Rank|\n+--------------------+--------------------+--------------------+-----+----+\n|           Singapore|0.025860148802332693|0.031175630965621773|  283|   1|\n|               Qatar| 0.07525506314186811| 0.09706676018345682|  256|   2|\n|             Bahrain| 0.16734822061392865|  0.2141036358459203|  261|   3|\n|           Sri Lanka| 0.21515182234282237| 0.23949510358940435|  283|   4|\n|            Maldives|  0.1824294888247625| 0.25205215911179063|  248|   5|\n|               Nepal| 0.24846209676491823| 0.25624908951815933|  283|   6|\n|             Iceland| 0.23131809992516325| 0.29552475769697606|  257|   7|\n|              Rwanda| 0.24384120413939261| 0.29868943036880685|  242|   8|\n|United Arab Emirates| 0.27890160410244846|  0.3195480876213416|  283|   9|\n|              Uganda| 0.46513078895971216| 0.40204270435569534|  235|  10|\n+--------------------+--------------------+--------------------+-----+----+\nonly showing top 10 rows\n\n"
    }
   ],
   "source": [
    "countries_df_best = countries_df_best.filter((countries_df_best[\"Country_Region\"] != 'Saint Lucia') & (countries_df_best[\"Country_Region\"] != 'Burundi'))\n",
    "\n",
    "window = Window.orderBy(countries_df_best[\"Avg_Case_Fat\"])\n",
    "\n",
    "countries_df_best = countries_df_best.withColumn(\"Rank\", F.row_number().over(window))\n",
    "\n",
    "countries_df_best.show(10)\n",
    "\n"
   ]
  },
  {
   "source": [
    "Not that this list, again, contains many geographically isolated countries, as well as very cold or very hot regions."
   ],
   "cell_type": "markdown",
   "metadata": {}
  },
  {
   "source": [
    "### Poor Healthcare"
   ],
   "cell_type": "markdown",
   "metadata": {}
  },
  {
   "cell_type": "markdown",
   "metadata": {},
   "source": [
    "As previously mentioned, we will exclude MS Zaandam from this list due to low figures. In fact, this is a ship and not a country/region. We have excluded many more countries here than usual to make a meaningful comparison. Several of these countries meet the critical thinking points that have been mentioned earlier: questionable regimes, low reporting rates, genocide in action, very hot regions or simply not enough data for meaningful statistical analysis.\n"
   ]
  },
  {
   "cell_type": "code",
   "execution_count": 27,
   "metadata": {
    "tags": []
   },
   "outputs": [
    {
     "output_type": "stream",
     "name": "stdout",
     "text": "+--------------+------------------+------------------+-----+\n|Country_Region|    Stdev_Case_Fat|      Avg_Case_Fat|Count|\n+--------------+------------------+------------------+-----+\n|         Yemen|11.775450297939296| 21.52944755078509|  215|\n|    MS Zaandam| 9.816959056846118|16.235867446247564|  228|\n|        Mexico| 4.747268837379202|10.408207243501932|  177|\n|         Italy| 4.638040583002451|  8.08262907548739|  185|\n|Western Sahara|4.3932166852436865| 7.668181818181818|  220|\n|       Belgium| 6.593688221334257|  6.79336859165134|  281|\n|         Spain| 4.571133928549751|  6.07453437237955|  185|\n|       Hungary| 5.920368603310872| 6.059005824881824|  252|\n|        Sweden|2.6224330317831352| 5.803851660766782|  164|\n|          Chad|3.5695689858751494| 5.411630859189694|  237|\n|       Ecuador| 3.706102374765361| 4.966120803362646|  255|\n|   Netherlands|  4.64978084432237| 4.803770956736284|  144|\n|         Sudan|2.8218550089142815| 4.319131731494222|  243|\n|       Liberia|2.9385026151324656| 4.294330117361373|  240|\n|         Niger| 2.750422743438422| 4.253447388815358|  236|\n|United Kingdom|  4.83059583471635|4.0362135494518885|  180|\n|          Peru| 7.625936089962196| 3.987898312258953|  170|\n|       Ireland|2.9257144330062297|3.7423908452522654|  256|\n|    San Marino|2.7573319931712295|  3.72994624946916|  258|\n|      Barbados| 2.717925487181727|3.5452884342778272|  239|\n|          Iran| 2.608878663734482| 3.425920452260099|  265|\n|       Bahamas|3.8637210144927345|  3.41110412725333|  234|\n|          Mali| 2.159956821315007| 3.394416066268014|  231|\n|      Colombia| 2.489603356893213|3.2322042842000718|  167|\n|         Syria| 2.068820152144134|3.1632871802896236|  234|\n+--------------+------------------+------------------+-----+\nonly showing top 25 rows\n\n"
    }
   ],
   "source": [
    "countries_df_worst = countries_df_filtered.orderBy(countries_df_filtered[\"Avg_Case_Fat\"].desc())\n",
    "\n",
    "countries_df_worst.show(25)"
   ]
  },
  {
   "source": [
    "Thus, we are left with the follow top 10, where we can say with certainty that the figures reported by these countries are indeed meaningful, accurate and significant. Notice that many countries from the _poor tracking_ reappear in this list. Notably, Mexico is 1st here, Belgium remains 3rd and Peru has moved down. Thus, it can be said that Mexico's healthcare is even worse than its tracking. Peru does slightly better in terms of healthcare compared to tracking the virus. Belgium's performance is similarly poor and in fact shameful for a first world country. The same can be said about Spain, Italy and the Netherlands."
   ],
   "cell_type": "markdown",
   "metadata": {}
  },
  {
   "cell_type": "code",
   "execution_count": 28,
   "metadata": {
    "tags": []
   },
   "outputs": [
    {
     "output_type": "stream",
     "name": "stdout",
     "text": "+--------------+------------------+------------------+-----+----+\n|Country_Region|    Stdev_Case_Fat|      Avg_Case_Fat|Count|Rank|\n+--------------+------------------+------------------+-----+----+\n|        Mexico| 4.747268837379202|10.408207243501932|  177|   1|\n|         Italy| 4.638040583002451|  8.08262907548739|  185|   2|\n|       Belgium| 6.593688221334257|  6.79336859165134|  281|   3|\n|         Spain| 4.571133928549751|  6.07453437237955|  185|   4|\n|       Hungary| 5.920368603310872| 6.059005824881824|  252|   5|\n|        Sweden|2.6224330317831352| 5.803851660766782|  164|   6|\n|       Ecuador| 3.706102374765361| 4.966120803362646|  255|   7|\n|   Netherlands|  4.64978084432237| 4.803770956736284|  144|   8|\n|United Kingdom|  4.83059583471635|4.0362135494518885|  180|   9|\n|          Peru| 7.625936089962196| 3.987898312258953|  170|  10|\n+--------------+------------------+------------------+-----+----+\nonly showing top 10 rows\n\n"
    }
   ],
   "source": [
    "countries_df_worst = countries_df_worst.filter((countries_df_worst[\"Country_Region\"] != 'MS Zaandam') & (countries_df_worst[\"Country_Region\"] != 'Western Sahara') & (countries_df_worst[\"Country_Region\"] != 'Yemen') & (countries_df_worst[\"Country_Region\"] != 'Chad') & (countries_df_worst[\"Country_Region\"] != 'Sudan') & (countries_df_worst[\"Country_Region\"] != 'Liberia') & (countries_df_worst[\"Country_Region\"] != 'Niger'))\n",
    "\n",
    "window = Window.orderBy(countries_df_worst[\"Avg_Case_Fat\"].desc())\n",
    "\n",
    "countries_df_worst = countries_df_worst.withColumn(\"Rank\", F.row_number().over(window))\n",
    "\n",
    "countries_df_worst.show(10)"
   ]
  },
  {
   "cell_type": "markdown",
   "metadata": {},
   "source": [
    "### 1.3.3 Incidence"
   ]
  },
  {
   "cell_type": "markdown",
   "metadata": {},
   "source": [
    "The incidence tells us something about how good a country is containing outbreaks in its country. \n",
    "\n",
    "We have used the following metrics to determine how well a country is containing outbreaks: the average and the standard deviation of the incidence. \n",
    "\n",
    "If the average is low, we can state that a country is generally able to contain outbreaks, whereas a high average may indicate to us that the country is experiencing many spikes (outbreaks) and is thus not doing a good job of containing the virus.\n",
    "\n",
    "If the standard deviation is low, this indicates to us that the country does not have many spikes (outliers) or in other words that the outbreaks are small when compared to the average of the current active cases per population. The country is good at stopping outbreaks. A high standard deviation, however, indicates to us that the country has experienced many spikes in active cases per total population and is not doing a good job of containing the spread of the CoViD-19 virus. It can thus be said that the situation's stability of the spread of the virus can be tracked using the standard deviation of the daily incidence.\n",
    "\n",
    "First, we will determine the population from the _Confirmed_ and _Incident_Rate_ columns."
   ]
  },
  {
   "cell_type": "code",
   "execution_count": 29,
   "metadata": {
    "tags": []
   },
   "outputs": [
    {
     "output_type": "stream",
     "name": "stdout",
     "text": "+--------------------+-------------------+-------------------+---------+------+---------+------+-------------------+------------------+----------+\n|      Province_State|     Country_Region|        Last_Update|Confirmed|Deaths|Recovered|Active|Case_Fatality_Ratio|     Incident_Rate|Population|\n+--------------------+-------------------+-------------------+---------+------+---------+------+-------------------+------------------+----------+\n|                null|        Afghanistan|2020-11-11 05:25:30|    42463|  1577|    34954|  5932| 3.7138214445517272|109.07991172806463|  38928341|\n|                null|            Albania|2020-11-11 05:25:30|    25294|   579|    12353| 12362| 2.2890804143275085| 878.9352977969282|   2877800|\n|                null|            Algeria|2020-11-11 05:25:30|    63446|  2077|    42626| 18743| 3.2736500330990133| 144.6852700858221|  43851043|\n|                null|            Andorra|2020-11-11 05:25:30|     5477|    75|     4405|   997| 1.3693627898484573|7088.5912120623825|     77265|\n|                null|             Angola|2020-11-11 05:25:30|    12816|   308|     6036|  6472|  2.403245942571785| 38.99438780210762|  32866268|\n|                null|Antigua and Barbuda|2020-11-11 05:25:30|      131|     3|      122|     6| 2.2900763358778624|133.77175067396453|     97928|\n|                null|          Argentina|2020-11-11 05:25:30|  1262476| 34183|  1081897|146396|  2.707615827944452| 2793.349475991972|  45195776|\n|                null|            Armenia|2020-11-11 05:25:30|   108687|  1609|    66835| 40243| 1.4803978396680375| 3667.850733354167|   2963233|\n|Australian Capita...|          Australia|2020-11-11 05:25:30|      114|     3|      111|     0| 2.6315789473684212|26.629292221443592|    428099|\n|     New South Wales|          Australia|2020-11-11 05:25:30|     4469|    53|     3156|  1260| 1.1859476392929067|55.050505050505045|   8118000|\n|  Northern Territory|          Australia|2020-11-11 05:25:30|       41|     0|       33|     8|                0.0|16.693811074918568|    245600|\n|          Queensland|          Australia|2020-11-11 05:25:30|     1179|     6|     1163|    10| 0.5089058524173028| 23.04760043006549|   5115499|\n|     South Australia|          Australia|2020-11-11 05:25:30|      517|     4|      495|    18| 0.7736943907156673|29.433532593225163|   1756500|\n|            Tasmania|          Australia|2020-11-11 05:25:30|      230|    13|      217|     0| 5.6521739130434785| 42.95051353874883|    535500|\n|            Victoria|          Australia|2020-11-11 05:25:30|    20345|   819|    19522|     4|   4.02555910543131| 306.8673735652121|   6629900|\n|   Western Australia|          Australia|2020-11-11 05:25:30|      776|     9|      757|    10| 1.1597938144329898|29.498973618185964|   2630600|\n|                null|            Austria|2020-11-11 05:25:30|   164866|  1499|    98663| 64704| 0.9092232479710796|  1830.54272517321|   9006400|\n|                null|         Azerbaijan|2020-11-11 05:25:30|    67392|   867|    50009| 16516|  1.286502849002849|  664.669462752147|  10139175|\n|                null|            Bahamas|2020-11-11 05:25:30|     7012|   154|     5035|  1823| 2.1962350256702794|1783.0987061599806|    393248|\n|                null|            Bahrain|2020-11-11 05:25:30|    83811|   331|    81415|  2065|0.39493622555511804| 4925.472339580261|   1701583|\n|                null|         Bangladesh|2020-11-11 05:25:30|   423620|  6108|   341416| 76096| 1.4418582692035316| 257.2236244275686| 164689383|\n|                null|           Barbados|2020-11-11 05:25:30|      243|     7|      231|     5|  2.880658436213992| 84.55968069151028|    287371|\n|                null|            Belarus|2020-11-11 05:25:30|   108300|  1016|    91646| 15638|  0.938134810710988|1146.1140964520093|   9449321|\n|                null|            Belgium|2020-11-11 05:25:30|   507475| 13561|    30504|463410| 2.6722498645253463| 4378.704177946879|  11589616|\n|                null|             Belize|2020-11-11 05:25:30|     4414|    73|     2440|  1901| 1.6538287267784322|1110.1023336292599|    397621|\n+--------------------+-------------------+-------------------+---------+------+---------+------+-------------------+------------------+----------+\nonly showing top 25 rows\n\n"
    }
   ],
   "source": [
    "from pyspark.sql.types import IntegerType\n",
    "df_with_incidence = df_with_incidence.withColumn(\"Population\", (100000*df_with_incidence[\"Confirmed\"]/df_with_incidence[\"Incident_Rate\"]).cast(IntegerType()))\n",
    "df_with_incidence.show(25)"
   ]
  },
  {
   "cell_type": "markdown",
   "metadata": {},
   "source": [
    "This allows us to determine the Indicence on any given day for a country/region."
   ]
  },
  {
   "cell_type": "code",
   "execution_count": 30,
   "metadata": {
    "tags": []
   },
   "outputs": [
    {
     "output_type": "stream",
     "name": "stdout",
     "text": "+--------------------+-------------------+-------------------+---------+------+---------+------+-------------------+------------------+----------+--------------------+\n|      Province_State|     Country_Region|        Last_Update|Confirmed|Deaths|Recovered|Active|Case_Fatality_Ratio|     Incident_Rate|Population|           Incidence|\n+--------------------+-------------------+-------------------+---------+------+---------+------+-------------------+------------------+----------+--------------------+\n|                null|        Afghanistan|2020-11-11 05:25:30|    42463|  1577|    34954|  5932| 3.7138214445517272|109.07991172806463|  38928341|1.523825533690223...|\n|                null|            Albania|2020-11-11 05:25:30|    25294|   579|    12353| 12362| 2.2890804143275085| 878.9352977969282|   2877800|4.295642504691084E-8|\n|                null|            Algeria|2020-11-11 05:25:30|    63446|  2077|    42626| 18743| 3.2736500330990133| 144.6852700858221|  43851043|4.274242690190972...|\n|                null|            Andorra|2020-11-11 05:25:30|     5477|    75|     4405|   997| 1.3693627898484573|7088.5912120623825|     77265|1.290364330550702...|\n|                null|             Angola|2020-11-11 05:25:30|    12816|   308|     6036|  6472|  2.403245942571785| 38.99438780210762|  32866268|1.969192242940391...|\n|                null|Antigua and Barbuda|2020-11-11 05:25:30|      131|     3|      122|     6| 2.2900763358778624|133.77175067396453|     97928|6.126950412547994...|\n|                null|          Argentina|2020-11-11 05:25:30|  1262476| 34183|  1081897|146396|  2.707615827944452| 2793.349475991972|  45195776|3.239152260600636...|\n|                null|            Armenia|2020-11-11 05:25:30|   108687|  1609|    66835| 40243| 1.4803978396680375| 3667.850733354167|   2963233|1.358077478213829...|\n|Australian Capita...|          Australia|2020-11-11 05:25:30|      114|     3|      111|     0| 2.6315789473684212|26.629292221443592|    428099|                 0.0|\n|     New South Wales|          Australia|2020-11-11 05:25:30|     4469|    53|     3156|  1260| 1.1859476392929067|55.050505050505045|   8118000|1.552106430155210...|\n|  Northern Territory|          Australia|2020-11-11 05:25:30|       41|     0|       33|     8|                0.0|16.693811074918568|    245600|3.257328990228012...|\n|          Queensland|          Australia|2020-11-11 05:25:30|     1179|     6|     1163|    10| 0.5089058524173028| 23.04760043006549|   5115499|1.954843505980550...|\n|     South Australia|          Australia|2020-11-11 05:25:30|      517|     4|      495|    18| 0.7736943907156673|29.433532593225163|   1756500|1.024765157984628...|\n|            Tasmania|          Australia|2020-11-11 05:25:30|      230|    13|      217|     0| 5.6521739130434785| 42.95051353874883|    535500|                 0.0|\n|            Victoria|          Australia|2020-11-11 05:25:30|    20345|   819|    19522|     4|   4.02555910543131| 306.8673735652121|   6629900|6.033273503371091...|\n|   Western Australia|          Australia|2020-11-11 05:25:30|      776|     9|      757|    10| 1.1597938144329898|29.498973618185964|   2630600|3.801414126054892...|\n|                null|            Austria|2020-11-11 05:25:30|   164866|  1499|    98663| 64704| 0.9092232479710796|  1830.54272517321|   9006400|7.184224551430094E-8|\n|                null|         Azerbaijan|2020-11-11 05:25:30|    67392|   867|    50009| 16516|  1.286502849002849|  664.669462752147|  10139175|1.628929375417625E-8|\n|                null|            Bahamas|2020-11-11 05:25:30|     7012|   154|     5035|  1823| 2.1962350256702794|1783.0987061599806|    393248|4.635751485067947E-8|\n|                null|            Bahrain|2020-11-11 05:25:30|    83811|   331|    81415|  2065|0.39493622555511804| 4925.472339580261|   1701583|1.213575829095612...|\n+--------------------+-------------------+-------------------+---------+------+---------+------+-------------------+------------------+----------+--------------------+\nonly showing top 20 rows\n\n"
    }
   ],
   "source": [
    "df_with_incidence = df_with_incidence.withColumn(\"Incidence\", (df_with_incidence[\"Active\"]/df_with_incidence[\"Population\"]/100000))\n",
    "df_with_incidence.show()"
   ]
  },
  {
   "cell_type": "markdown",
   "metadata": {},
   "source": [
    "We will now count the amount of updates a country has provided, as was explained earlier throughout section 1.3.1. Although the # of provinces here says 0, this should in fact be read as just 1. This indicates a country/region does not report for its internal regions separately."
   ]
  },
  {
   "cell_type": "code",
   "execution_count": 31,
   "metadata": {
    "tags": []
   },
   "outputs": [
    {
     "output_type": "stream",
     "name": "stdout",
     "text": "+--------------+--------------------+---------+----------+-----+\n|Country_Region|      avg(Incidence)|#_Updates|#_Province|Count|\n+--------------+--------------------+---------+----------+-----+\n|          Chad|3.549355065414161...|      166|         0|  166|\n|      Paraguay|1.103201924426885...|      166|         0|  166|\n|        Russia|1.586905100216670...|    13532|        83|  163|\n|         Yemen|9.196320416728911...|      166|         0|  166|\n|       Senegal|1.457960494848982E-9|      166|         0|  166|\n|    Cabo Verde|1.266171434921538E-8|      166|         0|  166|\n|        Sweden|7.115078199599006E-8|     3346|        21|  159|\n|        Guyana|6.182183877730529E-9|      166|         0|  166|\n|         Burma|8.745313857155528...|      166|         0|  166|\n|       Eritrea|1.693882123285541...|      166|         0|  166|\n|   Philippines|3.930907453607112E-9|      166|         0|  166|\n|      Djibouti|3.213434436816673E-9|      166|         0|  166|\n|      Malaysia|6.610481215555787...|      166|         0|  166|\n|     Singapore|6.215113075161726E-9|      166|         0|  166|\n|          Fiji|3.924475787663904...|      166|         0|  166|\n|        Turkey|2.824312486081151...|      166|         0|  166|\n|        Malawi|6.771755354092739...|      166|         0|  166|\n|Western Sahara|1.734626719423523...|      166|         0|  166|\n|          Iraq|1.011651233963927...|      166|         0|  166|\n|       Germany|3.574203253015905...|     2822|        17|  166|\n+--------------+--------------------+---------+----------+-----+\nonly showing top 20 rows\n\n"
    }
   ],
   "source": [
    "df_count = df_with_incidence.groupBy(\"Country_Region\").agg(F.count(df_with_incidence[\"Last_Update\"]).alias(\"#_Updates\"), F.countDistinct(df_with_incidence[\"Province_State\"]).alias(\"#_Province\"))\n",
    "\n",
    "df_count = df_count.withColumn(\"Count\", F.when(df_count[\"#_Province\"] == 0, df_count[\"#_Updates\"]).otherwise((df_count[\"#_Updates\"]/df_count[\"#_Province\"]).cast(IntegerType())))\n",
    "\n",
    "df_average_incidence = df_with_incidence.groupBy(\"Country_Region\").avg('Incidence')\n",
    "\n",
    "df_average_incidence_with_count = df_average_incidence.join(df_count, \"Country_Region\")\n",
    "\n",
    "df_average_incidence_with_count = df_average_incidence_with_count.filter(df_average_incidence_with_count[\"Count\"]>100)\n",
    "\n",
    "df_average_incidence_with_count.show()"
   ]
  },
  {
   "cell_type": "markdown",
   "metadata": {},
   "source": [
    "### 1.3.3.1 Average as a metric"
   ]
  },
  {
   "cell_type": "markdown",
   "metadata": {},
   "source": [
    "We determine the average of the (daily) incidence per country."
   ]
  },
  {
   "cell_type": "code",
   "execution_count": 32,
   "metadata": {
    "tags": []
   },
   "outputs": [
    {
     "output_type": "stream",
     "name": "stdout",
     "text": "+--------------+--------------------+\n|Country_Region|      avg(Incidence)|\n+--------------+--------------------+\n|          Chad|3.549355065414161...|\n|      Paraguay|1.103201924426885...|\n|        Russia|1.586905100216670...|\n|         Yemen|9.196320416728911...|\n|       Senegal|1.457960494848982E-9|\n|    Cabo Verde|1.266171434921538E-8|\n|        Sweden|7.115078199599006E-8|\n|        Guyana|6.182183877730529E-9|\n|         Burma|8.745313857155528...|\n|       Eritrea|1.693882123285541...|\n|   Philippines|3.930907453607112E-9|\n|      Djibouti|3.213434436816673E-9|\n|      Malaysia|6.610481215555787...|\n|     Singapore|6.215113075161726E-9|\n|          Fiji|3.924475787663904...|\n|        Turkey|2.824312486081151...|\n|        Malawi|6.771755354092739...|\n|Western Sahara|1.734626719423523...|\n|          Iraq|1.011651233963927...|\n|       Germany|3.574203253015905...|\n+--------------+--------------------+\nonly showing top 20 rows\n\n"
    }
   ],
   "source": [
    "df_average_incidence = df_with_incidence.groupBy(\"Country_Region\").avg('Incidence')\n",
    "df_average_incidence.show()"
   ]
  },
  {
   "source": [
    "### Best control of outbreaks"
   ],
   "cell_type": "markdown",
   "metadata": {}
  },
  {
   "cell_type": "markdown",
   "metadata": {},
   "source": [
    "We are solely interested in countries/regions whose averages are above 0. Next, we order by this average and establish a ranking. However, it should be noted that all of these countries have very low cases when compared to their total population, and as such have a very low average. It is thus meaningful to ask whether the reported figures are accurate and whether these figures are statistically relevant. Whilst this gives us a supposed list of countries that are the very best at containing outbreaks, several countries on this list may prove to be statistically irrelevant when compared to other countries. One country that does appear to be doing a very good job at containing the virus is China. China does indeed appear on this list, but only on rank 9. If we were to omit some of the countries that may be statistically irrelevant, China would rank much higher and this is probably more likely to reflect reality too."
   ]
  },
  {
   "cell_type": "code",
   "execution_count": 33,
   "metadata": {
    "tags": []
   },
   "outputs": [
    {
     "output_type": "stream",
     "name": "stdout",
     "text": "+--------------+--------------------+----+\n|Country_Region|      avg(Incidence)|Rank|\n+--------------+--------------------+----+\n|          Laos|1.357905650400272...|   1|\n|   Timor-Leste|4.294957694624548...|   2|\n|       Taiwan*|8.114155410638539...|   3|\n|      Cambodia|8.784480327577467...|   4|\n|         Niger|1.197520878296830...|   5|\n|       Vietnam|1.261216846079179...|   6|\n|      Thailand|1.518452513813174...|   7|\n|Western Sahara|1.734626719423523...|   8|\n|         China|1.787530889654422...|   9|\n|        Brunei|2.051716787124127...|  10|\n+--------------+--------------------+----+\nonly showing top 10 rows\n\n"
    }
   ],
   "source": [
    "df_average_incidence = df_average_incidence.filter(df_average_incidence[\"avg(incidence)\"] > 0)\n",
    "\n",
    "df_average_incidence = df_average_incidence.orderBy(df_average_incidence[\"avg(incidence)\"])\n",
    "\n",
    "window = Window.orderBy(df_average_incidence[\"avg(incidence)\"])\n",
    "\n",
    "df_average_incidence = df_average_incidence.withColumn(\"Rank\", F.row_number().over(window))\n",
    "\n",
    "df_average_incidence.show(10)"
   ]
  },
  {
   "source": [
    "### Poor control of outbreaks"
   ],
   "cell_type": "markdown",
   "metadata": {}
  },
  {
   "cell_type": "markdown",
   "metadata": {},
   "source": [
    "All of these countries have high reporting figures so we can assume that this list is accurate. Indeed, we see many familiar faces from previous lists in 1.3.1 and 1.3.2."
   ]
  },
  {
   "cell_type": "code",
   "execution_count": 34,
   "metadata": {
    "tags": []
   },
   "outputs": [
    {
     "output_type": "stream",
     "name": "stdout",
     "text": "+--------------+--------------------+----+\n|Country_Region|      avg(Incidence)|Rank|\n+--------------+--------------------+----+\n|          Peru|1.487328567063268...|   1|\n|            US|1.339846693743519...|   2|\n|       Belgium|8.479823844210152E-8|   3|\n|        Sweden|7.115078199599006E-8|   4|\n|         Spain| 7.01229674135203E-8|   5|\n|       Andorra|4.665618071302164E-8|   6|\n|   Netherlands|4.620605209113434...|   7|\n|        Panama|4.582580622308114E-8|   8|\n|        Brazil|4.138256374735803E-8|   9|\n|    Costa Rica|4.077470090601778E-8|  10|\n+--------------+--------------------+----+\nonly showing top 10 rows\n\n"
    }
   ],
   "source": [
    "df_average_incidence_worst = df_average_incidence.orderBy(df_average_incidence[\"avg(incidence)\"].desc())\n",
    "\n",
    "window = Window.orderBy(df_average_incidence_worst[\"avg(incidence)\"].desc())\n",
    "\n",
    "df_average_incidence_worst = df_average_incidence_worst.withColumn(\"Rank\", F.row_number().over(window))\n",
    "\n",
    "df_average_incidence_worst.show(10)\n"
   ]
  },
  {
   "cell_type": "markdown",
   "metadata": {},
   "source": [
    "### 1.3.3.2 Standard deviation as a metric"
   ]
  },
  {
   "cell_type": "markdown",
   "metadata": {},
   "source": [
    "We will now take a closer look at the standard deviation as a metric. As previously explained, if the standard deviation is low, this indicates to us that the country does not have many spikes (outliers) or in other words that the outbreaks are small when compared to the average of the current active cases per population. The country is good at stopping outbreaks. A high standard deviation, however, indicates to us that the country has experienced many spikes in active cases per total population and is not doing a good job of containing the spread of the CoViD-19 virus. It can thus be said that the situation's stability of the spread of the virus can be tracked using the standard deviation of the daily incidence."
   ]
  },
  {
   "cell_type": "code",
   "execution_count": 35,
   "metadata": {
    "tags": []
   },
   "outputs": [
    {
     "output_type": "stream",
     "name": "stdout",
     "text": "+--------------+--------------------+\n|Country_Region|     Stdev_Incidence|\n+--------------+--------------------+\n|          Chad|2.601529431204806...|\n|      Paraguay|1.007300758254993...|\n|        Russia|1.584646423741985...|\n|         Yemen|4.088159624976144...|\n|       Senegal|6.734693496780161...|\n|    Cabo Verde|3.957833588376793E-9|\n|        Sweden|3.362049973787039...|\n|        Guyana|4.708790507188314E-9|\n|         Burma|1.294039834779389...|\n|       Eritrea|1.094388208206686...|\n|   Philippines|1.542677368305759...|\n|      Djibouti|6.265982039490021...|\n|      Malaysia|1.053844833504068...|\n|     Singapore|6.758799993807593E-9|\n|          Fiji|3.552554158166786...|\n|        Turkey|1.168173494759766...|\n|        Malawi|3.572257715865910...|\n|Western Sahara|6.355917168866697...|\n|          Iraq|4.702848230714968E-9|\n|       Germany|6.683170902395847E-9|\n+--------------+--------------------+\nonly showing top 20 rows\n\n"
    }
   ],
   "source": [
    "df_stddev_incidence = df_with_incidence.groupBy(\"Country_Region\").agg(F.stddev(df_with_incidence.Incidence).alias('Stdev_Incidence'))\n",
    "\n",
    "df_stddev_incidence.show()"
   ]
  },
  {
   "cell_type": "markdown",
   "metadata": {},
   "source": [
    "### Best control of outbreaks"
   ]
  },
  {
   "cell_type": "markdown",
   "metadata": {},
   "source": [
    "A similar assessment to the one for the average as a metric can be made here."
   ]
  },
  {
   "cell_type": "code",
   "execution_count": 36,
   "metadata": {
    "tags": []
   },
   "outputs": [
    {
     "output_type": "stream",
     "name": "stdout",
     "text": "+----------------+--------------------+----+\n|  Country_Region|     Stdev_Incidence|Rank|\n+----------------+--------------------+----+\n|            Laos|1.132280864467111...|   1|\n|        Thailand|3.997763388508769...|   2|\n|     Timor-Leste|5.240593899975499...|   3|\n|         Taiwan*|5.283622296990616...|   4|\n|  Western Sahara|6.355917168866697...|   5|\n|           Niger|7.43027077444582E-12|   6|\n|        Cambodia|1.178365320829944...|   7|\n|         Vietnam|1.437298471295441...|   8|\n|          Brunei|2.144712909107385...|   9|\n|         Burundi|2.290990089679638...|  10|\n|            Chad|2.601529431204806...|  11|\n|            Fiji|3.552554158166786...|  12|\n|            Mali|3.772245726035339...|  13|\n|           Yemen|4.088159624976144...|  14|\n| Solomon Islands|5.172224999911312...|  15|\n|    Sierra Leone|6.61345445580143E-11|  16|\n|     New Zealand|7.962386456914006...|  17|\n|Marshall Islands|8.791751682212788...|  18|\n|       Mauritius|1.005809241796792...|  19|\n|    Burkina Faso|1.042767393999658...|  20|\n|        Mongolia|1.068153354262428...|  21|\n|         Eritrea|1.094388208206686...|  22|\n|Papua New Guinea|1.114835415213979...|  23|\n|           China|1.244183315786067...|  24|\n|         Grenada|1.357051199197534...|  25|\n+----------------+--------------------+----+\nonly showing top 25 rows\n\n"
    }
   ],
   "source": [
    "df_stddev_incidence = df_stddev_incidence.filter(df_stddev_incidence[\"Stdev_Incidence\"] > 0)\n",
    "\n",
    "df_stddev_incidence = df_stddev_incidence.orderBy(df_stddev_incidence[\"Stdev_Incidence\"])\n",
    "\n",
    "window = Window.orderBy(df_stddev_incidence[\"Stdev_Incidence\"])\n",
    "\n",
    "df_stddev_incidence = df_stddev_incidence.withColumn(\"Rank\", F.row_number().over(window))\n",
    "\n",
    "df_stddev_incidence.show(25)"
   ]
  },
  {
   "cell_type": "code",
   "execution_count": 37,
   "metadata": {
    "tags": []
   },
   "outputs": [
    {
     "output_type": "stream",
     "name": "stdout",
     "text": "+--------------+--------------------+----+\n|Country_Region|     Stdev_Incidence|Rank|\n+--------------+--------------------+----+\n|          Laos|1.132280864467111...|   1|\n|      Thailand|3.997763388508769...|   2|\n|   Timor-Leste|5.240593899975499...|   3|\n|       Taiwan*|5.283622296990616...|   4|\n|Western Sahara|6.355917168866697...|   5|\n|         Niger|7.43027077444582E-12|   6|\n|      Cambodia|1.178365320829944...|   7|\n|       Vietnam|1.437298471295441...|   8|\n|        Brunei|2.144712909107385...|   9|\n|       Burundi|2.290990089679638...|  10|\n+--------------+--------------------+----+\nonly showing top 10 rows\n\n"
    }
   ],
   "source": [
    "df_stddev_incidence.show(10)"
   ]
  },
  {
   "cell_type": "markdown",
   "metadata": {},
   "source": [
    "### Poor control of outbreaks"
   ]
  },
  {
   "cell_type": "code",
   "execution_count": 38,
   "metadata": {
    "tags": []
   },
   "outputs": [
    {
     "output_type": "stream",
     "name": "stdout",
     "text": "+--------------+--------------------+----+\n|Country_Region|     Stdev_Incidence|Rank|\n+--------------+--------------------+----+\n|       Vanuatu|                 NaN|   1|\n|            US|1.431052953129307E-7|   2|\n|          Peru|1.196186149297552...|   3|\n|       Belgium|9.624978980435268E-8|   4|\n|         Spain|9.068253371816093E-8|   5|\n|        Brazil|6.319886027859303E-8|   6|\n|      Holy See|5.956235722471743E-8|   7|\n|       Andorra|5.784162187653073E-8|   8|\n|   Netherlands|5.400814626228451E-8|   9|\n|       Czechia|5.132755992611442E-8|  10|\n|    Luxembourg|3.852116935520802...|  11|\n|United Kingdom|3.536383420356969E-8|  12|\n|        France|3.420594959323419E-8|  13|\n|        Sweden|3.362049973787039...|  14|\n|   Switzerland|3.356861412921749...|  15|\n|      Slovenia|3.067982465959057E-8|  16|\n|    Costa Rica|3.044889309065979...|  17|\n|       Armenia|2.972177155472856E-8|  18|\n|         Chile|2.916688505249891E-8|  19|\n|    Montenegro|2.781172377120435...|  20|\n|         Qatar|2.678119681036311...|  21|\n|      Slovakia|2.677220873184263E-8|  22|\n|       Ireland|2.401748052982767E-8|  23|\n|    San Marino|2.371511277212505...|  24|\n|        Jordan|2.352156311809639E-8|  25|\n+--------------+--------------------+----+\nonly showing top 25 rows\n\n"
    }
   ],
   "source": [
    "df_stddev_incidence_worst = df_stddev_incidence.orderBy(df_stddev_incidence[\"Stdev_Incidence\"].desc())\n",
    "\n",
    "window = Window.orderBy(df_stddev_incidence_worst[\"Stdev_Incidence\"].desc())\n",
    "\n",
    "df_stddev_incidence_worst = df_stddev_incidence_worst.withColumn(\"Rank\", F.row_number().over(window))\n",
    "\n",
    "df_stddev_incidence_worst.show(25)"
   ]
  },
  {
   "cell_type": "markdown",
   "metadata": {},
   "source": [
    "We will remove two regions: the Holy See, due to its low amount of inhabitants, as well as Vanuata due to NaN. We cannot say many meaningful things about either of these two. The other countries on this list, however, are indeed familiar faces. It can thus be established that these reappearing countries, such as the US, Belgium, Peru, Spain, Brazil, the Netherlands, the UK and several others have not only been hit hard by CoViD-19 but have also not adequately managed to contain the virus."
   ]
  },
  {
   "cell_type": "code",
   "execution_count": 39,
   "metadata": {
    "tags": []
   },
   "outputs": [
    {
     "output_type": "stream",
     "name": "stdout",
     "text": "+--------------+--------------------+----+\n|Country_Region|     Stdev_Incidence|Rank|\n+--------------+--------------------+----+\n|            US|1.431052953129307E-7|   1|\n|          Peru|1.196186149297552...|   2|\n|       Belgium|9.624978980435268E-8|   3|\n|         Spain|9.068253371816093E-8|   4|\n|        Brazil|6.319886027859303E-8|   5|\n|       Andorra|5.784162187653073E-8|   6|\n|   Netherlands|5.400814626228451E-8|   7|\n|       Czechia|5.132755992611442E-8|   8|\n|    Luxembourg|3.852116935520802...|   9|\n|United Kingdom|3.536383420356969E-8|  10|\n+--------------+--------------------+----+\nonly showing top 10 rows\n\n"
    }
   ],
   "source": [
    "df_stddev_incidence_worst = df_stddev_incidence_worst.filter(~F.isnan(df_stddev_incidence_worst[\"Stdev_Incidence\"])).filter((df_stddev_incidence_worst[\"Country_Region\"] != 'Holy See'))\n",
    "\n",
    "window = Window.orderBy(df_stddev_incidence_worst[\"Stdev_Incidence\"].desc())\n",
    "\n",
    "df_stddev_incidence_worst = df_stddev_incidence_worst.withColumn(\"Rank\", F.row_number().over(window))\n",
    "\n",
    "df_stddev_incidence_worst.show(10)"
   ]
  },
  {
   "cell_type": "markdown",
   "metadata": {},
   "source": [
    "### 1.3.4 The situation during the past seven days"
   ]
  },
  {
   "source": [
    "We have decided to look at the rolling average of the daily incidence rate to determine whether a country is doing better than seven days prior. This moving average allows us to contain random daily spikes that may skew the top 10. It could be that a country is doing well, but has a random spike on the day 7 days prior to this one. To smooth this out and reduce randomness, we use a moving average to make meaningful comparisons."
   ],
   "cell_type": "markdown",
   "metadata": {}
  },
  {
   "cell_type": "code",
   "execution_count": 40,
   "metadata": {
    "tags": []
   },
   "outputs": [
    {
     "output_type": "stream",
     "name": "stdout",
     "text": "+--------------------+-------------------+-----------+---------+------+---------+------+-------------------+------------------+----------+--------------------+\n|      Province_State|     Country_Region|Last_Update|Confirmed|Deaths|Recovered|Active|Case_Fatality_Ratio|     Incident_Rate|Population|           Incidence|\n+--------------------+-------------------+-----------+---------+------+---------+------+-------------------+------------------+----------+--------------------+\n|                null|        Afghanistan| 2020-11-11|    42463|  1577|    34954|  5932| 3.7138214445517272|109.07991172806463|  38928341|1.523825533690223...|\n|                null|            Albania| 2020-11-11|    25294|   579|    12353| 12362| 2.2890804143275085| 878.9352977969282|   2877800|4.295642504691084E-8|\n|                null|            Algeria| 2020-11-11|    63446|  2077|    42626| 18743| 3.2736500330990133| 144.6852700858221|  43851043|4.274242690190972...|\n|                null|            Andorra| 2020-11-11|     5477|    75|     4405|   997| 1.3693627898484573|7088.5912120623825|     77265|1.290364330550702...|\n|                null|             Angola| 2020-11-11|    12816|   308|     6036|  6472|  2.403245942571785| 38.99438780210762|  32866268|1.969192242940391...|\n|                null|Antigua and Barbuda| 2020-11-11|      131|     3|      122|     6| 2.2900763358778624|133.77175067396453|     97928|6.126950412547994...|\n|                null|          Argentina| 2020-11-11|  1262476| 34183|  1081897|146396|  2.707615827944452| 2793.349475991972|  45195776|3.239152260600636...|\n|                null|            Armenia| 2020-11-11|   108687|  1609|    66835| 40243| 1.4803978396680375| 3667.850733354167|   2963233|1.358077478213829...|\n|Australian Capita...|          Australia| 2020-11-11|      114|     3|      111|     0| 2.6315789473684212|26.629292221443592|    428099|                 0.0|\n|     New South Wales|          Australia| 2020-11-11|     4469|    53|     3156|  1260| 1.1859476392929067|55.050505050505045|   8118000|1.552106430155210...|\n|  Northern Territory|          Australia| 2020-11-11|       41|     0|       33|     8|                0.0|16.693811074918568|    245600|3.257328990228012...|\n|          Queensland|          Australia| 2020-11-11|     1179|     6|     1163|    10| 0.5089058524173028| 23.04760043006549|   5115499|1.954843505980550...|\n|     South Australia|          Australia| 2020-11-11|      517|     4|      495|    18| 0.7736943907156673|29.433532593225163|   1756500|1.024765157984628...|\n|            Tasmania|          Australia| 2020-11-11|      230|    13|      217|     0| 5.6521739130434785| 42.95051353874883|    535500|                 0.0|\n|            Victoria|          Australia| 2020-11-11|    20345|   819|    19522|     4|   4.02555910543131| 306.8673735652121|   6629900|6.033273503371091...|\n|   Western Australia|          Australia| 2020-11-11|      776|     9|      757|    10| 1.1597938144329898|29.498973618185964|   2630600|3.801414126054892...|\n|                null|            Austria| 2020-11-11|   164866|  1499|    98663| 64704| 0.9092232479710796|  1830.54272517321|   9006400|7.184224551430094E-8|\n|                null|         Azerbaijan| 2020-11-11|    67392|   867|    50009| 16516|  1.286502849002849|  664.669462752147|  10139175|1.628929375417625E-8|\n|                null|            Bahamas| 2020-11-11|     7012|   154|     5035|  1823| 2.1962350256702794|1783.0987061599806|    393248|4.635751485067947E-8|\n|                null|            Bahrain| 2020-11-11|    83811|   331|    81415|  2065|0.39493622555511804| 4925.472339580261|   1701583|1.213575829095612...|\n+--------------------+-------------------+-----------+---------+------+---------+------+-------------------+------------------+----------+--------------------+\nonly showing top 20 rows\n\n"
    }
   ],
   "source": [
    "from datetime import timedelta, datetime\n",
    "\n",
    "df_with_incidence_day_only = df_with_incidence.withColumn(\"Last_Update\", F.to_date(df_with_incidence[\"Last_Update\"]))\n",
    "\n",
    "df_with_incidence_day_only.show()\n"
   ]
  },
  {
   "source": [
    "We will first group by _Country_Region_ and _Last_Update_."
   ],
   "cell_type": "markdown",
   "metadata": {}
  },
  {
   "cell_type": "code",
   "execution_count": 41,
   "metadata": {
    "tags": []
   },
   "outputs": [
    {
     "output_type": "stream",
     "name": "stdout",
     "text": "+--------------------+-----------+--------------------+\n|      Country_Region|Last_Update|      avg(Incidence)|\n+--------------------+-----------+--------------------+\n|      Western Sahara| 2020-11-11|1.674116485025028...|\n|             Georgia| 2020-11-09|3.686477451221731...|\n|          Madagascar| 2020-11-09|1.653965858027832...|\n|             Lesotho| 2020-11-10|4.196518430138004...|\n|              Greece| 2020-11-07|2.730964891678602E-8|\n|              France| 2020-11-06|7.003145590225364E-8|\n|             Morocco| 2020-11-05|1.014398102570001...|\n|            Djibouti| 2020-11-04|4.757075390535647...|\n|             Burundi| 2020-11-03|6.475605469111362...|\n|         Switzerland| 2020-11-03|1.078880786983410...|\n|            Eswatini| 2020-11-01|1.327398540206384...|\n|              Monaco| 2020-10-30|2.064009784935276...|\n|       Liechtenstein| 2020-10-31|4.300285811678947E-8|\n|            Dominica| 2020-10-29|1.250156269533691...|\n|           Nicaragua| 2020-10-29|1.710303818189118...|\n|      United Kingdom| 2020-10-29|4.432900478908612E-8|\n|           Venezuela| 2020-10-29|1.649321072278137...|\n|Central African R...| 2020-10-27|5.956812796650106E-9|\n|            Paraguay| 2020-10-27|2.597815922260404E-8|\n|             Liberia| 2020-10-28|1.166543454633421...|\n+--------------------+-----------+--------------------+\nonly showing top 20 rows\n\n"
    }
   ],
   "source": [
    "df_with_avg_incidence_day_only = df_with_incidence_day_only.groupBy('Country_Region', 'Last_Update').avg('Incidence')\n",
    "df_with_avg_incidence_day_only.show()"
   ]
  },
  {
   "source": [
    "Next, we will add a dummy time of 00:00:00 to our date, which will allow us to make calculations on it during a later step."
   ],
   "cell_type": "markdown",
   "metadata": {}
  },
  {
   "cell_type": "code",
   "execution_count": 42,
   "metadata": {
    "tags": []
   },
   "outputs": [
    {
     "output_type": "stream",
     "name": "stdout",
     "text": "+--------------------+-------------------+--------------------+\n|      Country_Region|        Last_Update|      avg(Incidence)|\n+--------------------+-------------------+--------------------+\n|      Western Sahara|2020-11-11 00:00:00|1.674116485025028...|\n|             Georgia|2020-11-09 00:00:00|3.686477451221731...|\n|          Madagascar|2020-11-09 00:00:00|1.653965858027832...|\n|             Lesotho|2020-11-10 00:00:00|4.196518430138004...|\n|              Greece|2020-11-07 00:00:00|2.730964891678602E-8|\n|              France|2020-11-06 00:00:00|7.003145590225364E-8|\n|             Morocco|2020-11-05 00:00:00|1.014398102570001...|\n|            Djibouti|2020-11-04 00:00:00|4.757075390535647...|\n|             Burundi|2020-11-03 00:00:00|6.475605469111362...|\n|         Switzerland|2020-11-03 00:00:00|1.078880786983410...|\n|            Eswatini|2020-11-01 00:00:00|1.327398540206384...|\n|              Monaco|2020-10-30 00:00:00|2.064009784935276...|\n|       Liechtenstein|2020-10-31 00:00:00|4.300285811678947E-8|\n|            Dominica|2020-10-29 00:00:00|1.250156269533691...|\n|           Nicaragua|2020-10-29 00:00:00|1.710303818189118...|\n|      United Kingdom|2020-10-29 00:00:00|4.432900478908612E-8|\n|           Venezuela|2020-10-29 00:00:00|1.649321072278137...|\n|Central African R...|2020-10-27 00:00:00|5.956812796650106E-9|\n|            Paraguay|2020-10-27 00:00:00|2.597815922260404E-8|\n|             Liberia|2020-10-28 00:00:00|1.166543454633421...|\n+--------------------+-------------------+--------------------+\nonly showing top 20 rows\n\n"
    }
   ],
   "source": [
    "df_with_incidence_with_time = df_with_avg_incidence_day_only.withColumn(\"Last_Update\", F.to_timestamp(df_with_avg_incidence_day_only[\"Last_Update\"]))\n",
    "df_with_incidence_with_time.show()"
   ]
  },
  {
   "source": [
    "We calculate the 7-day rolling (also known as moving) average over our average incidence rate. This average incidence rate was determined as the average of a country's regions on a particular day. We partition by _Country_Region_ so that a moving average is calculated over each country individually. "
   ],
   "cell_type": "markdown",
   "metadata": {}
  },
  {
   "cell_type": "code",
   "execution_count": 43,
   "metadata": {
    "tags": []
   },
   "outputs": [
    {
     "output_type": "stream",
     "name": "stdout",
     "text": "+--------------+-------------------+--------------------+--------------------+\n|Country_Region|        Last_Update|      avg(Incidence)|     Rolling_Average|\n+--------------+-------------------+--------------------+--------------------+\n|          Chad|2020-05-30 00:00:00|1.521990417670089...|1.521990417670089...|\n|          Chad|2020-05-31 00:00:00|1.363703414232400...|1.442846915951245...|\n|          Chad|2020-06-01 00:00:00|1.351527490891039...|1.412407107597843...|\n|          Chad|2020-06-02 00:00:00|1.126272909075866...|1.340873557967349...|\n|          Chad|2020-06-03 00:00:00|1.065393292369062...|1.285777504847691...|\n|          Chad|2020-06-04 00:00:00|9.984257139915788...|1.237885539705006...|\n|          Chad|2020-06-05 00:00:00|7.853470555177663...|1.173237184821115...|\n|          Chad|2020-06-06 00:00:00|6.757637454455199...|1.111053004899165...|\n|          Chad|2020-06-07 00:00:00|5.78356358714634E-11|9.930987475297334...|\n|          Chad|2020-06-08 00:00:00|5.844443559660628...|8.956913652464412...|\n|          Chad|2020-06-09 00:00:00|5.113888114703049...|7.906740303188495...|\n|          Chad|2020-06-10 00:00:00|4.07893431935584E-11|7.008765956763142...|\n|          Chad|2020-06-11 00:00:00|4.139813936062643...|6.194501083309643...|\n|          Chad|2020-06-12 00:00:00|4.261573169476250...|5.479165587004701...|\n|          Chad|2020-06-13 00:00:00|3.957175085942233...|4.992128653350273...|\n|          Chad|2020-06-14 00:00:00|3.531017768994608...|4.588801192667699...|\n|          Chad|2020-06-15 00:00:00|3.470138152287804...|4.299623013310382...|\n|          Chad|2020-06-16 00:00:00|3.470138152287804...|4.002834837388779...|\n|          Chad|2020-06-17 00:00:00|3.591897385701411...|3.812585996263575...|\n|          Chad|2020-06-18 00:00:00|3.591897385701411...|3.751706379556771...|\n+--------------+-------------------+--------------------+--------------------+\nonly showing top 20 rows\n\n"
    }
   ],
   "source": [
    "days = lambda i: i * 86400\n",
    "\n",
    "window = (Window().partitionBy('Country_Region').orderBy(F.col('Last_Update').cast('long')).rangeBetween(-days(7),0))\n",
    "\n",
    "df_rolling_average = df_with_incidence_with_time.withColumn('Rolling_Average', F.avg('avg(Incidence)').over(window))\n",
    "\n",
    "df_rolling_average.show()"
   ]
  },
  {
   "cell_type": "code",
   "execution_count": 44,
   "metadata": {},
   "outputs": [],
   "source": [
    "last_date = df_rolling_average.select(F.max(\"Last_Update\")).first()\n",
    "today = last_date[0]\n",
    "\n",
    "seven_days_ago = (last_date[0] - timedelta(days=7))"
   ]
  },
  {
   "source": [
    "We determine the rolling average figures at the most recent day in our dataset and add these as a column."
   ],
   "cell_type": "markdown",
   "metadata": {}
  },
  {
   "cell_type": "code",
   "execution_count": 45,
   "metadata": {
    "tags": []
   },
   "outputs": [
    {
     "output_type": "stream",
     "name": "stdout",
     "text": "+--------------+-------------------+--------------------+--------------------+\n|Country_Region|        Last_Update|      avg(Incidence)|     Rolling_Average|\n+--------------+-------------------+--------------------+--------------------+\n|          Chad|2020-11-11 00:00:00|2.983101400243445...|4.231133446368392...|\n|      Paraguay|2020-11-11 00:00:00|2.515516934383732...|2.575278427966839...|\n|        Russia|2020-11-11 00:00:00|3.343745085812556...|3.182147173010132...|\n|         Yemen|2020-11-11 00:00:00|2.41400379695975E-11|2.854056609121471...|\n|       Senegal|2020-11-11 00:00:00|1.672247793678067...|3.949192407743567...|\n|    Cabo Verde|2020-11-11 00:00:00|1.187078115135785...|1.299938702367800...|\n|        Sweden|2020-11-11 00:00:00|1.369752580132391...|1.221074994228177...|\n|        Guyana|2020-11-11 00:00:00|1.042516890044980...|1.058567001619932E-8|\n|         Burma|2020-11-11 00:00:00|2.640884837755497E-9|2.665604658068318...|\n|       Eritrea|2020-11-11 00:00:00|1.494461890798823...|1.515610153086249...|\n|   Philippines|2020-11-11 00:00:00|2.753121149997019...|2.878770093799857E-9|\n|      Djibouti|2020-11-11 00:00:00|7.591077750854756...|6.123470141210984...|\n|      Malaysia|2020-11-11 00:00:00|3.536427333400935E-9|3.422418810982488...|\n|     Singapore|2020-11-11 00:00:00|1.025580893291213...|1.038400677831050...|\n|          Fiji|2020-11-11 00:00:00|1.115518649240778...|1.115518649240777...|\n|        Turkey|2020-11-11 00:00:00|5.430460832581892...|5.266820772394838E-9|\n|        Malawi|2020-11-11 00:00:00|2.127553358071150...|2.165452078487820...|\n|Western Sahara|2020-11-11 00:00:00|1.674116485025028...|1.674116485025028...|\n|          Iraq|2020-11-11 00:00:00|1.472136132353573...|1.464463188678238...|\n|       Germany|2020-11-11 00:00:00|2.591412499990955...|2.383970790520691...|\n+--------------+-------------------+--------------------+--------------------+\nonly showing top 20 rows\n\n"
    }
   ],
   "source": [
    "df_today = df_rolling_average.filter(df_rolling_average[\"Last_Update\"] == today)\n",
    "\n",
    "df_today.show()\n"
   ]
  },
  {
   "source": [
    "We determine the rolling average figures at 7 days ago and add these as a column."
   ],
   "cell_type": "markdown",
   "metadata": {}
  },
  {
   "cell_type": "code",
   "execution_count": 46,
   "metadata": {
    "tags": []
   },
   "outputs": [
    {
     "output_type": "stream",
     "name": "stdout",
     "text": "+--------------+-------------------+--------------------+--------------------------+\n|Country_Region|        Last_Update|      avg(Incidence)|Rolling_Average_7_days_ago|\n+--------------+-------------------+--------------------+--------------------------+\n|          Chad|2020-11-04 00:00:00|5.113887803371501...|      4.428992214564233...|\n|      Paraguay|2020-11-04 00:00:00|2.616743287444988E-8|      2.629326526607789E-8|\n|        Russia|2020-11-04 00:00:00|3.053571826788404E-8|      2.896740519915526...|\n|         Yemen|2020-11-04 00:00:00|2.916921352457742...|      3.168380048989396...|\n|       Senegal|2020-11-04 00:00:00|9.854317944133662...|      2.889853269901766...|\n|    Cabo Verde|2020-11-04 00:00:00|1.248228379029763...|      1.294767153247911...|\n|        Sweden|2020-11-04 00:00:00|1.127623383534503...|      1.035629186877423...|\n|        Guyana|2020-11-04 00:00:00|1.013274274402810...|      1.068101877844223...|\n|         Burma|2020-11-04 00:00:00|2.836621656755399...|      3.308503618909683E-9|\n|       Eritrea|2020-11-04 00:00:00|1.522659714315200...|      1.512085369490173...|\n|   Philippines|2020-11-04 00:00:00|2.817639558870949...|      3.278725064640489...|\n|      Djibouti|2020-11-04 00:00:00|4.757075390535647...|      5.921041503631781...|\n|      Malaysia|2020-11-04 00:00:00|3.131372718102891E-9|      3.116503670571159E-9|\n|     Singapore|2020-11-04 00:00:00|1.093953139833534...|      1.162325035770405...|\n|          Fiji|2020-11-04 00:00:00|1.115518649240778...|      9.760788180856806...|\n|        Turkey|2020-11-04 00:00:00|5.076295188325950...|      4.839260908589372E-9|\n|        Malawi|2020-11-04 00:00:00|2.179827510301384...|      2.202697302344853...|\n|Western Sahara|2020-11-04 00:00:00|1.674116485025028...|      1.674116485025028...|\n|          Iraq|2020-11-04 00:00:00|1.553160428628720...|       1.54248854659493E-8|\n|       Germany|2020-11-04 00:00:00|2.021246378871420...|       1.68903789289067E-8|\n+--------------+-------------------+--------------------+--------------------------+\nonly showing top 20 rows\n\n"
    }
   ],
   "source": [
    "df_seven_days_ago = df_rolling_average.filter(df_rolling_average[\"Last_Update\"] == seven_days_ago)\n",
    "df_seven_days_ago = df_seven_days_ago.withColumnRenamed('Rolling_Average', 'Rolling_Average_7_days_ago')\n",
    "df_seven_days_ago.show()"
   ]
  },
  {
   "source": [
    "We join both of these together."
   ],
   "cell_type": "markdown",
   "metadata": {}
  },
  {
   "cell_type": "code",
   "execution_count": 47,
   "metadata": {
    "tags": []
   },
   "outputs": [
    {
     "output_type": "stream",
     "name": "stdout",
     "text": "+--------------+--------------------+--------------------------+\n|Country_Region|     Rolling_Average|Rolling_Average_7_days_ago|\n+--------------+--------------------+--------------------------+\n|          Chad|4.231133446368392...|      4.428992214564233...|\n|      Paraguay|2.575278427966839...|      2.629326526607789E-8|\n|        Russia|3.182147173010132...|      2.896740519915526...|\n|         Yemen|2.854056609121471...|      3.168380048989396...|\n|       Senegal|3.949192407743567...|      2.889853269901766...|\n|    Cabo Verde|1.299938702367800...|      1.294767153247911...|\n|        Sweden|1.221074994228177...|      1.035629186877423...|\n|        Guyana|1.058567001619932E-8|      1.068101877844223...|\n|         Burma|2.665604658068318...|      3.308503618909683E-9|\n|       Eritrea|1.515610153086249...|      1.512085369490173...|\n|   Philippines|2.878770093799857E-9|      3.278725064640489...|\n|      Djibouti|6.123470141210984...|      5.921041503631781...|\n|      Malaysia|3.422418810982488...|      3.116503670571159E-9|\n|     Singapore|1.038400677831050...|      1.162325035770405...|\n|          Fiji|1.115518649240777...|      9.760788180856806...|\n|        Turkey|5.266820772394838E-9|      4.839260908589372E-9|\n|        Malawi|2.165452078487820...|      2.202697302344853...|\n|Western Sahara|1.674116485025028...|      1.674116485025028...|\n|          Iraq|1.464463188678238...|       1.54248854659493E-8|\n|       Germany|2.383970790520691...|       1.68903789289067E-8|\n+--------------+--------------------+--------------------------+\nonly showing top 20 rows\n\n"
    }
   ],
   "source": [
    "df_incidence_joined = df_today.join(df_seven_days_ago, \"Country_Region\").select('Country_Region', 'Rolling_Average', 'Rolling_Average_7_days_ago')\n",
    "df_incidence_joined.show()"
   ]
  },
  {
   "source": [
    "Lastly, we take the difference of both and add these values as a separate column."
   ],
   "cell_type": "markdown",
   "metadata": {}
  },
  {
   "cell_type": "code",
   "execution_count": 48,
   "metadata": {
    "tags": []
   },
   "outputs": [
    {
     "output_type": "stream",
     "name": "stdout",
     "text": "+--------------+--------------------+--------------------------+--------------------+\n|Country_Region|     Rolling_Average|Rolling_Average_7_days_ago|          Difference|\n+--------------+--------------------+--------------------------+--------------------+\n|          Chad|4.231133446368392...|      4.428992214564233...|-1.97858768195841...|\n|      Paraguay|2.575278427966839...|      2.629326526607789E-8|-5.40480986409493...|\n|        Russia|3.182147173010132...|      2.896740519915526...|2.854066530946061E-9|\n|         Yemen|2.854056609121471...|      3.168380048989396...|-3.14323439867925...|\n|       Senegal|3.949192407743567...|      2.889853269901766...|-2.49493402912741...|\n|    Cabo Verde|1.299938702367800...|      1.294767153247911...|5.171549119888898...|\n|        Sweden|1.221074994228177...|      1.035629186877423...|1.854458073507546...|\n|        Guyana|1.058567001619932E-8|      1.068101877844223...|-9.53487622429179...|\n|         Burma|2.665604658068318...|      3.308503618909683E-9|-6.42898960841364...|\n|       Eritrea|1.515610153086249...|      1.512085369490173...|3.524783596075687...|\n|   Philippines|2.878770093799857E-9|      3.278725064640489...|-3.99954970840632...|\n|      Djibouti|6.123470141210984...|      5.921041503631781...|2.024286375792024...|\n|      Malaysia|3.422418810982488...|      3.116503670571159E-9|3.059151404113296...|\n|     Singapore|1.038400677831050...|      1.162325035770405...|-1.23924357939354...|\n|          Fiji|1.115518649240777...|      9.760788180856806...|1.394398311550971...|\n|        Turkey|5.266820772394838E-9|      4.839260908589372E-9|4.275598638054658...|\n|        Malawi|2.165452078487820...|      2.202697302344853...|-3.72452238570328...|\n|Western Sahara|1.674116485025028...|      1.674116485025028...|                 0.0|\n|          Iraq|1.464463188678238...|       1.54248854659493E-8|-7.80253579166919...|\n|       Germany|2.383970790520691...|       1.68903789289067E-8|6.949328976300217E-9|\n+--------------+--------------------+--------------------------+--------------------+\nonly showing top 20 rows\n\n"
    }
   ],
   "source": [
    "df_incidence_joined = df_incidence_joined.withColumn(\"Difference\", df_incidence_joined['Rolling_Average'] - df_incidence_joined['Rolling_Average_7_days_ago'])\n",
    "df_incidence_joined.show()"
   ]
  },
  {
   "source": [
    "We note during ranking that two entries have null values, so we drop these. These are the two ships in the dataset."
   ],
   "cell_type": "markdown",
   "metadata": {}
  },
  {
   "cell_type": "code",
   "execution_count": 49,
   "metadata": {
    "tags": []
   },
   "outputs": [
    {
     "output_type": "stream",
     "name": "stdout",
     "text": "+----------------+--------------------+--------------------------+--------------------+----+\n|  Country_Region|     Rolling_Average|Rolling_Average_7_days_ago|          Difference|Rank|\n+----------------+--------------------+--------------------------+--------------------+----+\n|      MS Zaandam|                null|                      null|                null|   1|\n|Diamond Princess|                null|                      null|                null|   2|\n|         Tunisia| 2.71178073540617E-8|      4.385210366036887E-8|-1.67342963063071...|   3|\n|         Andorra|1.478032375460512...|      1.619596201882013...|-1.41563826421500...|   4|\n|         Czechia|1.583998619380861...|      1.664982040587470...|-8.09834212066094...|   5|\n|         Iceland|2.084249084249084...|      2.853480978414385E-8|-7.69231894165300...|   6|\n|         Bahamas|4.864298454394061E-8|      5.520378159317915E-8|-6.56079704923853...|   7|\n|        Colombia|1.162321861087899...|      1.702845139868463E-8|-5.40523278780563...|   8|\n|         Georgia|3.789129682385098E-8|      4.254670721555529E-8|-4.65541039170431...|   9|\n|          Panama| 4.39592001238537E-8|      4.745736176181264E-8|-3.49816163795893...|  10|\n+----------------+--------------------+--------------------------+--------------------+----+\nonly showing top 10 rows\n\n"
    }
   ],
   "source": [
    "df_incidence_joined_best = df_incidence_joined.orderBy(df_incidence_joined[\"Difference\"])\n",
    "\n",
    "window = Window.orderBy(df_incidence_joined_best[\"Difference\"])\n",
    "\n",
    "df_incidence_joined_best = df_incidence_joined_best.withColumn(\"Rank\", F.row_number().over(window))\n",
    "\n",
    "df_incidence_joined_best.show(10)"
   ]
  },
  {
   "cell_type": "markdown",
   "metadata": {},
   "source": [
    "### Doing better in comparison to 7 days ago"
   ]
  },
  {
   "source": [
    "The top 10 of countries that have been doing better at containing outbreaks in their countries during these past 7 days, based on the moving averages."
   ],
   "cell_type": "markdown",
   "metadata": {}
  },
  {
   "cell_type": "code",
   "execution_count": 50,
   "metadata": {
    "tags": []
   },
   "outputs": [
    {
     "output_type": "stream",
     "name": "stdout",
     "text": "+--------------+--------------------+--------------------------+--------------------+----+\n|Country_Region|     Rolling_Average|Rolling_Average_7_days_ago|          Difference|Rank|\n+--------------+--------------------+--------------------------+--------------------+----+\n|       Tunisia| 2.71178073540617E-8|      4.385210366036887E-8|-1.67342963063071...|   1|\n|       Andorra|1.478032375460512...|      1.619596201882013...|-1.41563826421500...|   2|\n|       Czechia|1.583998619380861...|      1.664982040587470...|-8.09834212066094...|   3|\n|       Iceland|2.084249084249084...|      2.853480978414385E-8|-7.69231894165300...|   4|\n|       Bahamas|4.864298454394061E-8|      5.520378159317915E-8|-6.56079704923853...|   5|\n|      Colombia|1.162321861087899...|      1.702845139868463E-8|-5.40523278780563...|   6|\n|       Georgia|3.789129682385098E-8|      4.254670721555529E-8|-4.65541039170431...|   7|\n|        Panama| 4.39592001238537E-8|      4.745736176181264E-8|-3.49816163795893...|   8|\n|       Bahrain|1.294529950200285...|      1.595793804050625...|-3.01263853850339...|   9|\n|          Oman|1.653563787087882...|      1.945929268613634...|-2.92365481525752...|  10|\n+--------------+--------------------+--------------------------+--------------------+----+\nonly showing top 10 rows\n\n"
    }
   ],
   "source": [
    "df_incidence_joined_best = df_incidence_joined_best.filter((df_incidence_joined_best[\"Country_Region\"] != 'MS Zaandam') & (df_incidence_joined_best[\"Country_Region\"] != 'Diamond Princess'))\n",
    "\n",
    "window = Window.orderBy(df_incidence_joined_best[\"Difference\"])\n",
    "\n",
    "df_incidence_joined_best = df_incidence_joined_best.withColumn(\"Rank\", F.row_number().over(window))\n",
    "\n",
    "df_incidence_joined_best.show(10)"
   ]
  },
  {
   "source": [
    "### Doing worse in comparison to 7 days ago"
   ],
   "cell_type": "markdown",
   "metadata": {}
  },
  {
   "source": [
    "The top 10 of countries that have been doing worse at containing outbreaks in their countries during these past 7 days, based on the moving averages. We note many familiar countries, such as Belgium, Spain, the US and Italy. There are several newcomers, such as Switzerland and Poland, who have indeed been getting hit hard recently. Thus, we can say that this metric has given us an adequate measure to determine how well we are doing today as compared to x amount of days ago."
   ],
   "cell_type": "markdown",
   "metadata": {}
  },
  {
   "cell_type": "code",
   "execution_count": 51,
   "metadata": {
    "tags": []
   },
   "outputs": [
    {
     "output_type": "stream",
     "name": "stdout",
     "text": "+--------------+--------------------+--------------------------+--------------------+----+\n|Country_Region|     Rolling_Average|Rolling_Average_7_days_ago|          Difference|Rank|\n+--------------+--------------------+--------------------------+--------------------+----+\n|       Belgium|3.841182140148855...|      3.219893645734710...|6.212884944141449E-8|   1|\n|   Switzerland|1.337647138209913E-7|      9.509331000732001E-8|3.867140381367128E-8|   2|\n|    Montenegro|1.012758487548012...|      6.437266351645077E-8|3.690318523835044...|   3|\n|         Spain|2.489461864479453E-7|      2.153328351851541...|3.361335126279118E-8|   4|\n|            US|2.991811261316338...|      2.686670251456715...|3.051410098596231E-8|   5|\n|    Luxembourg|1.484441895535931...|      1.184550206397689...|2.998916891382419E-8|   6|\n|        Jordan|9.151288230877946E-8|      6.180817953491727E-8|2.970470277386218...|   7|\n|    San Marino|7.359007602097943E-8|      4.548735930225705E-8|2.810271671872237...|   8|\n|        Poland|8.028388588457731E-8|      5.419617611558314...|2.608770976899416...|   9|\n|         Italy|7.946798056134401E-8|      5.405079375312444...|2.541718680821956...|  10|\n+--------------+--------------------+--------------------------+--------------------+----+\nonly showing top 10 rows\n\n"
    }
   ],
   "source": [
    "df_incidence_joined_worst = df_incidence_joined.orderBy(df_incidence_joined[\"Difference\"].desc())\n",
    "\n",
    "window = Window.orderBy(df_incidence_joined_worst[\"Difference\"].desc())\n",
    "\n",
    "df_incidence_joined_worst = df_incidence_joined_worst.withColumn(\"Rank\", F.row_number().over(window))\n",
    "\n",
    "df_incidence_joined_worst.show(10)"
   ]
  }
 ],
 "metadata": {
  "language_info": {
   "codemirror_mode": {
    "name": "ipython",
    "version": 3
   },
   "file_extension": ".py",
   "mimetype": "text/x-python",
   "name": "python",
   "nbconvert_exporter": "python",
   "pygments_lexer": "ipython3",
   "version": "3.8.3-final"
  },
  "orig_nbformat": 2,
  "kernelspec": {
   "name": "python3",
   "display_name": "Python 3.8.3 64-bit ('base': conda)",
   "metadata": {
    "interpreter": {
     "hash": "98b0a9b7b4eaaa670588a142fd0a9b87eaafe866f1db4228be72b4211d12040f"
    }
   }
  }
 },
 "nbformat": 4,
 "nbformat_minor": 2
}