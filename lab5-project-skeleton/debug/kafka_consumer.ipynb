{
 "metadata": {
  "language_info": {
   "codemirror_mode": {
    "name": "ipython",
    "version": 3
   },
   "file_extension": ".py",
   "mimetype": "text/x-python",
   "name": "python",
   "nbconvert_exporter": "python",
   "pygments_lexer": "ipython3",
   "version": 3
  },
  "orig_nbformat": 2
 },
 "nbformat": 4,
 "nbformat_minor": 2,
 "cells": [
  {
   "source": [
    "# Show the last 3 messages on a Kafka topic"
   ],
   "cell_type": "markdown",
   "metadata": {}
  },
  {
   "cell_type": "code",
   "execution_count": null,
   "metadata": {},
   "outputs": [],
   "source": [
    "import json\n",
    "from datetime import datetime\n",
    "\n",
    "from kafka import KafkaConsumer, TopicPartition\n",
    "\n",
    "client = \"localhost:9092\"\n",
    "consumer = KafkaConsumer(bootstrap_servers=['localhost:9092'],\n",
    "                         enable_auto_commit=False,\n",
    "                         auto_offset_reset='latest')\n",
    "\n",
    "#\n",
    "#  CHANGE THIS TO THE TOPIC YOU WANT TO DEBUG\n",
    "#\n",
    "topic = 'userratings'\n",
    "\n",
    "\n",
    "tp = TopicPartition(topic,0)\n",
    "consumer.assign([tp])\n",
    "\n",
    "consumer.seek_to_end(tp)\n",
    "lastOffset = consumer.position(tp)\n",
    "print(f\"Last offset: {lastOffset}\")\n",
    "\n",
    "tailOffset = lastOffset - 3\n",
    "if tailOffset < 0:\n",
    "    print(\"Topic has no messages!\")\n",
    "else :\n",
    "    consumer.seek(tp, tailOffset)    \n",
    "\n",
    "    for message in consumer:\n",
    "        print(message)\n",
    "        print()\n",
    "        if message.offset >= lastOffset - 1:\n",
    "                break\n"
   ]
  },
  {
   "source": [
    "# Follow a Kafka topic"
   ],
   "cell_type": "markdown",
   "metadata": {}
  },
  {
   "cell_type": "code",
   "execution_count": null,
   "metadata": {},
   "outputs": [],
   "source": [
    "import json\n",
    "from datetime import datetime\n",
    "from IPython.display import clear_output\n",
    "\n",
    "from kafka import KafkaConsumer, TopicPartition\n",
    "\n",
    "client = \"localhost:9092\"\n",
    "consumer = KafkaConsumer(bootstrap_servers=['localhost:9092'],\n",
    "                         enable_auto_commit=False,\n",
    "                         auto_offset_reset='latest')\n",
    "\n",
    "#\n",
    "#  CHANGE THIS TO THE TOPIC YOU WANT TO DEBUG\n",
    "#\n",
    "topic = 'userratings'\n",
    "\n",
    "consumer.subscribe(topic)\n",
    "\n",
    "i = 0\n",
    "\n",
    "print(f\"START LISTENING ON '{topic}'\")\n",
    "for message in consumer:\n",
    "    if i > 500:\n",
    "        clear_output()\n",
    "        i = 0\n",
    "    i = i+1\n",
    "    print(message)\n",
    "    print()"
   ]
  }
 ]
}