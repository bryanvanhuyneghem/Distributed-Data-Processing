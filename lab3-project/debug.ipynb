{
 "metadata": {
  "language_info": {
   "codemirror_mode": {
    "name": "ipython",
    "version": 3
   },
   "file_extension": ".py",
   "mimetype": "text/x-python",
   "name": "python",
   "nbconvert_exporter": "python",
   "pygments_lexer": "ipython3",
   "version": "3.8.6-final"
  },
  "orig_nbformat": 2,
  "kernelspec": {
   "name": "python3",
   "display_name": "Python 3"
  }
 },
 "nbformat": 4,
 "nbformat_minor": 2,
 "cells": [
  {
   "source": [
    "# Debug"
   ],
   "cell_type": "markdown",
   "metadata": {}
  },
  {
   "source": [
    "This notebook is used for debugging purposes, and to view and follow Kafka topics."
   ],
   "cell_type": "markdown",
   "metadata": {}
  },
  {
   "cell_type": "code",
   "execution_count": 2,
   "metadata": {},
   "outputs": [
    {
     "output_type": "stream",
     "name": "stdout",
     "text": [
      "Collecting kafka-python\n  Downloading kafka_python-2.0.2-py2.py3-none-any.whl (246 kB)\nInstalling collected packages: kafka-python\nSuccessfully installed kafka-python-2.0.2\n"
     ]
    }
   ],
   "source": [
    "%%bash\n",
    "# Ensure the required Python 3 dependencies are installed.\n",
    "python3 -m pip install kafka-python"
   ]
  },
  {
   "source": [
    "## Show the last 10 messages on a Kafka topic"
   ],
   "cell_type": "markdown",
   "metadata": {}
  },
  {
   "cell_type": "code",
   "execution_count": 3,
   "metadata": {},
   "outputs": [
    {
     "output_type": "stream",
     "name": "stdout",
     "text": [
      "Last offset: 70\nRAW MESSAGE VALUE: b'{\"lat\":40.297875899999994,\"lng\":-75.5812935,\"desc\":\"REINDEER CT & DEAD END;  NEW HANOVER; Station 332; 2015-12-10 @ 17:10:52;\",\"zip\":19525,\"title\":\"EMS: BACK PAINS/INJURY\",\"timeStamp\":\"2015-12-10T17:10:52.000Z\",\"twp\":\"NEW HANOVER\",\"addr\":\"REINDEER CT & DEAD END\",\"e\":1,\"majorTitle\":\"EMS\",\"minorTitle\":\" BACK PAINS/INJURY\"}'\nRECODED JSON: {\n    \"lat\": 40.297875899999994,\n    \"lng\": -75.5812935,\n    \"desc\": \"REINDEER CT & DEAD END;  NEW HANOVER; Station 332; 2015-12-10 @ 17:10:52;\",\n    \"zip\": 19525,\n    \"title\": \"EMS: BACK PAINS/INJURY\",\n    \"timeStamp\": \"2015-12-10T17:10:52.000Z\",\n    \"twp\": \"NEW HANOVER\",\n    \"addr\": \"REINDEER CT & DEAD END\",\n    \"e\": 1,\n    \"majorTitle\": \"EMS\",\n    \"minorTitle\": \" BACK PAINS/INJURY\"\n}\nTIMESTAMP: 2020-11-26 18:47:32.306000\n\nRAW MESSAGE VALUE: b'{\"lat\":40.2580614,\"lng\":-75.26467990000002,\"desc\":\"BRIAR PATH & WHITEMARSH LN;  HATFIELD TOWNSHIP; Station 345; 2015-12-10 @ 17:29:21;\",\"zip\":19446,\"title\":\"EMS: DIABETIC EMERGENCY\",\"timeStamp\":\"2015-12-10T17:29:21.000Z\",\"twp\":\"HATFIELD TOWNSHIP\",\"addr\":\"BRIAR PATH & WHITEMARSH LN\",\"e\":1,\"majorTitle\":\"EMS\",\"minorTitle\":\" DIABETIC EMERGENCY\"}'\nRECODED JSON: {\n    \"lat\": 40.2580614,\n    \"lng\": -75.26467990000002,\n    \"desc\": \"BRIAR PATH & WHITEMARSH LN;  HATFIELD TOWNSHIP; Station 345; 2015-12-10 @ 17:29:21;\",\n    \"zip\": 19446,\n    \"title\": \"EMS: DIABETIC EMERGENCY\",\n    \"timeStamp\": \"2015-12-10T17:29:21.000Z\",\n    \"twp\": \"HATFIELD TOWNSHIP\",\n    \"addr\": \"BRIAR PATH & WHITEMARSH LN\",\n    \"e\": 1,\n    \"majorTitle\": \"EMS\",\n    \"minorTitle\": \" DIABETIC EMERGENCY\"\n}\nTIMESTAMP: 2020-11-26 18:47:32.308000\n\nRAW MESSAGE VALUE: b'{\"lat\":40.121181799999995,\"lng\":-75.3519752,\"desc\":\"HAWS AVE; NORRISTOWN; 2015-12-10 @ 14:39:21-Station:STA27;\",\"zip\":19401,\"title\":\"Fire: GAS-ODOR/LEAK\",\"timeStamp\":\"2015-12-10T14:39:21.000Z\",\"twp\":\"NORRISTOWN\",\"addr\":\"HAWS AVE\",\"e\":1,\"majorTitle\":\"Fire\",\"minorTitle\":\" GAS-ODOR/LEAK\"}'\nRECODED JSON: {\n    \"lat\": 40.121181799999995,\n    \"lng\": -75.3519752,\n    \"desc\": \"HAWS AVE; NORRISTOWN; 2015-12-10 @ 14:39:21-Station:STA27;\",\n    \"zip\": 19401,\n    \"title\": \"Fire: GAS-ODOR/LEAK\",\n    \"timeStamp\": \"2015-12-10T14:39:21.000Z\",\n    \"twp\": \"NORRISTOWN\",\n    \"addr\": \"HAWS AVE\",\n    \"e\": 1,\n    \"majorTitle\": \"Fire\",\n    \"minorTitle\": \" GAS-ODOR/LEAK\"\n}\nTIMESTAMP: 2020-11-26 18:47:32.310000\n\nRAW MESSAGE VALUE: b'{\"lat\":40.116153000000004,\"lng\":-75.343513,\"desc\":\"AIRY ST & SWEDE ST;  NORRISTOWN; Station 308A; 2015-12-10 @ 16:47:36;\",\"zip\":19401,\"title\":\"EMS: CARDIAC EMERGENCY\",\"timeStamp\":\"2015-12-10T16:47:36.000Z\",\"twp\":\"NORRISTOWN\",\"addr\":\"AIRY ST & SWEDE ST\",\"e\":1,\"majorTitle\":\"EMS\",\"minorTitle\":\" CARDIAC EMERGENCY\"}'\nRECODED JSON: {\n    \"lat\": 40.116153000000004,\n    \"lng\": -75.343513,\n    \"desc\": \"AIRY ST & SWEDE ST;  NORRISTOWN; Station 308A; 2015-12-10 @ 16:47:36;\",\n    \"zip\": 19401,\n    \"title\": \"EMS: CARDIAC EMERGENCY\",\n    \"timeStamp\": \"2015-12-10T16:47:36.000Z\",\n    \"twp\": \"NORRISTOWN\",\n    \"addr\": \"AIRY ST & SWEDE ST\",\n    \"e\": 1,\n    \"majorTitle\": \"EMS\",\n    \"minorTitle\": \" CARDIAC EMERGENCY\"\n}\nTIMESTAMP: 2020-11-26 18:47:32.313000\n\nRAW MESSAGE VALUE: b'{\"lat\":40.251492,\"lng\":-75.6033497,\"desc\":\"CHERRYWOOD CT & DEAD END;  LOWER POTTSGROVE; Station 329; 2015-12-10 @ 16:56:52;\",\"zip\":19464,\"title\":\"EMS: DIZZINESS\",\"timeStamp\":\"2015-12-10T16:56:52.000Z\",\"twp\":\"LOWER POTTSGROVE\",\"addr\":\"CHERRYWOOD CT & DEAD END\",\"e\":1,\"majorTitle\":\"EMS\",\"minorTitle\":\" DIZZINESS\"}'\nRECODED JSON: {\n    \"lat\": 40.251492,\n    \"lng\": -75.6033497,\n    \"desc\": \"CHERRYWOOD CT & DEAD END;  LOWER POTTSGROVE; Station 329; 2015-12-10 @ 16:56:52;\",\n    \"zip\": 19464,\n    \"title\": \"EMS: DIZZINESS\",\n    \"timeStamp\": \"2015-12-10T16:56:52.000Z\",\n    \"twp\": \"LOWER POTTSGROVE\",\n    \"addr\": \"CHERRYWOOD CT & DEAD END\",\n    \"e\": 1,\n    \"majorTitle\": \"EMS\",\n    \"minorTitle\": \" DIZZINESS\"\n}\nTIMESTAMP: 2020-11-26 18:47:32.315000\n\nRAW MESSAGE VALUE: b'{\"lat\":40.2534732,\"lng\":-75.283245,\"desc\":\"CANNON AVE & W 9TH ST;  LANSDALE; Station 345; 2015-12-10 @ 15:39:04;\",\"zip\":19446,\"title\":\"EMS: HEAD INJURY\",\"timeStamp\":\"2015-12-10T15:39:04.000Z\",\"twp\":\"LANSDALE\",\"addr\":\"CANNON AVE & W 9TH ST\",\"e\":1,\"majorTitle\":\"EMS\",\"minorTitle\":\" HEAD INJURY\"}'\nRECODED JSON: {\n    \"lat\": 40.2534732,\n    \"lng\": -75.283245,\n    \"desc\": \"CANNON AVE & W 9TH ST;  LANSDALE; Station 345; 2015-12-10 @ 15:39:04;\",\n    \"zip\": 19446,\n    \"title\": \"EMS: HEAD INJURY\",\n    \"timeStamp\": \"2015-12-10T15:39:04.000Z\",\n    \"twp\": \"LANSDALE\",\n    \"addr\": \"CANNON AVE & W 9TH ST\",\n    \"e\": 1,\n    \"majorTitle\": \"EMS\",\n    \"minorTitle\": \" HEAD INJURY\"\n}\nTIMESTAMP: 2020-11-26 18:47:32.317000\n\nRAW MESSAGE VALUE: b'{\"lat\":40.1821111,\"lng\":-75.12779509999999,\"desc\":\"LAUREL AVE & OAKDALE AVE;  HORSHAM; Station 352; 2015-12-10 @ 16:46:48;\",\"zip\":19044,\"title\":\"EMS: NAUSEA/VOMITING\",\"timeStamp\":\"2015-12-10T16:46:48.000Z\",\"twp\":\"HORSHAM\",\"addr\":\"LAUREL AVE & OAKDALE AVE\",\"e\":1,\"majorTitle\":\"EMS\",\"minorTitle\":\" NAUSEA/VOMITING\"}'\nRECODED JSON: {\n    \"lat\": 40.1821111,\n    \"lng\": -75.12779509999999,\n    \"desc\": \"LAUREL AVE & OAKDALE AVE;  HORSHAM; Station 352; 2015-12-10 @ 16:46:48;\",\n    \"zip\": 19044,\n    \"title\": \"EMS: NAUSEA/VOMITING\",\n    \"timeStamp\": \"2015-12-10T16:46:48.000Z\",\n    \"twp\": \"HORSHAM\",\n    \"addr\": \"LAUREL AVE & OAKDALE AVE\",\n    \"e\": 1,\n    \"majorTitle\": \"EMS\",\n    \"minorTitle\": \" NAUSEA/VOMITING\"\n}\nTIMESTAMP: 2020-11-26 18:47:32.319000\n\nRAW MESSAGE VALUE: b'{\"lat\":40.2172859,\"lng\":-75.405182,\"desc\":\"COLLEGEVILLE RD & LYWISKI RD;  SKIPPACK; Station 336; 2015-12-10 @ 16:17:05;\",\"zip\":19426,\"title\":\"EMS: RESPIRATORY EMERGENCY\",\"timeStamp\":\"2015-12-10T16:17:05.000Z\",\"twp\":\"SKIPPACK\",\"addr\":\"COLLEGEVILLE RD & LYWISKI RD\",\"e\":1,\"majorTitle\":\"EMS\",\"minorTitle\":\" RESPIRATORY EMERGENCY\"}'\nRECODED JSON: {\n    \"lat\": 40.2172859,\n    \"lng\": -75.405182,\n    \"desc\": \"COLLEGEVILLE RD & LYWISKI RD;  SKIPPACK; Station 336; 2015-12-10 @ 16:17:05;\",\n    \"zip\": 19426,\n    \"title\": \"EMS: RESPIRATORY EMERGENCY\",\n    \"timeStamp\": \"2015-12-10T16:17:05.000Z\",\n    \"twp\": \"SKIPPACK\",\n    \"addr\": \"COLLEGEVILLE RD & LYWISKI RD\",\n    \"e\": 1,\n    \"majorTitle\": \"EMS\",\n    \"minorTitle\": \" RESPIRATORY EMERGENCY\"\n}\nTIMESTAMP: 2020-11-26 18:47:32.321000\n\nRAW MESSAGE VALUE: b'{\"lat\":40.28902670000001,\"lng\":-75.3995896,\"desc\":\"MAIN ST & OLD SUMNEYTOWN PIKE;  LOWER SALFORD; Station 344; 2015-12-10 @ 16:51:42;\",\"zip\":19438,\"title\":\"EMS: SYNCOPAL EPISODE\",\"timeStamp\":\"2015-12-10T16:51:42.000Z\",\"twp\":\"LOWER SALFORD\",\"addr\":\"MAIN ST & OLD SUMNEYTOWN PIKE\",\"e\":1,\"majorTitle\":\"EMS\",\"minorTitle\":\" SYNCOPAL EPISODE\"}'\nRECODED JSON: {\n    \"lat\": 40.28902670000001,\n    \"lng\": -75.3995896,\n    \"desc\": \"MAIN ST & OLD SUMNEYTOWN PIKE;  LOWER SALFORD; Station 344; 2015-12-10 @ 16:51:42;\",\n    \"zip\": 19438,\n    \"title\": \"EMS: SYNCOPAL EPISODE\",\n    \"timeStamp\": \"2015-12-10T16:51:42.000Z\",\n    \"twp\": \"LOWER SALFORD\",\n    \"addr\": \"MAIN ST & OLD SUMNEYTOWN PIKE\",\n    \"e\": 1,\n    \"majorTitle\": \"EMS\",\n    \"minorTitle\": \" SYNCOPAL EPISODE\"\n}\nTIMESTAMP: 2020-11-26 18:47:32.322000\n\nRAW MESSAGE VALUE: b'{\"lat\":40.1023985,\"lng\":-75.29145770000001,\"desc\":\"BLUEROUTE  & RAMP I476 NB TO CHEMICAL RD; PLYMOUTH; 2015-12-10 @ 17:35:41;\",\"zip\":19462,\"title\":\"Traffic: VEHICLE ACCIDENT -\",\"timeStamp\":\"2015-12-10T17:35:41.000Z\",\"twp\":\"PLYMOUTH\",\"addr\":\"BLUEROUTE  & RAMP I476 NB TO CHEMICAL RD\",\"e\":1,\"majorTitle\":\"Traffic\",\"minorTitle\":\" VEHICLE ACCIDENT -\"}'\nRECODED JSON: {\n    \"lat\": 40.1023985,\n    \"lng\": -75.29145770000001,\n    \"desc\": \"BLUEROUTE  & RAMP I476 NB TO CHEMICAL RD; PLYMOUTH; 2015-12-10 @ 17:35:41;\",\n    \"zip\": 19462,\n    \"title\": \"Traffic: VEHICLE ACCIDENT -\",\n    \"timeStamp\": \"2015-12-10T17:35:41.000Z\",\n    \"twp\": \"PLYMOUTH\",\n    \"addr\": \"BLUEROUTE  & RAMP I476 NB TO CHEMICAL RD\",\n    \"e\": 1,\n    \"majorTitle\": \"Traffic\",\n    \"minorTitle\": \" VEHICLE ACCIDENT -\"\n}\nTIMESTAMP: 2020-11-26 18:47:32.323000\n\n"
     ]
    }
   ],
   "source": [
    "import json\n",
    "from datetime import datetime\n",
    "\n",
    "from kafka import KafkaConsumer, TopicPartition\n",
    "\n",
    "client = \"localhost:9092\"\n",
    "consumer = KafkaConsumer(bootstrap_servers=['localhost:9092'],\n",
    "                         enable_auto_commit=False,\n",
    "                         auto_offset_reset='latest')\n",
    "\n",
    "#\n",
    "#  CHANGE THIS TO THE TOPIC YOU WANT TO DEBUG\n",
    "#\n",
    "topic = 'ingest-cleaned'\n",
    "\n",
    "\n",
    "tp = TopicPartition(topic,0)\n",
    "consumer.assign([tp])\n",
    "\n",
    "consumer.seek_to_end(tp)\n",
    "lastOffset = consumer.position(tp)\n",
    "print(f\"Last offset: {lastOffset}\")\n",
    "\n",
    "tailOffset = lastOffset - 10\n",
    "if tailOffset < 0:\n",
    "    print(\"Topic has no messages!\")\n",
    "else :\n",
    "    consumer.seek(tp, tailOffset)    \n",
    "\n",
    "    for message in consumer:\n",
    "        print(f\"RAW MESSAGE VALUE: {message.value}\")\n",
    "        try:\n",
    "            m_obj = json.loads(message.value)\n",
    "            print(\"RECODED JSON:\", json.dumps(m_obj, indent=4))\n",
    "        except:\n",
    "            print(\"FAILED to decode message\")\n",
    "        ts = message.timestamp\n",
    "        ts = datetime.fromtimestamp(ts/1000.0)\n",
    "        print(f\"TIMESTAMP: {ts}\")\n",
    "        print()\n",
    "        if message.offset >= lastOffset - 1:\n",
    "                break"
   ]
  },
  {
   "source": [
    "## Follow a Kafka topic\n",
    "\n",
    "This script prints the content of messages of a Kafka topic when they get produced."
   ],
   "cell_type": "markdown",
   "metadata": {}
  },
  {
   "cell_type": "code",
   "execution_count": 4,
   "metadata": {
    "tags": []
   },
   "outputs": [
    {
     "output_type": "stream",
     "name": "stdout",
     "text": [
      "START LISTENING ON 'ingest-cleaned'\n"
     ]
    },
    {
     "output_type": "error",
     "ename": "KeyboardInterrupt",
     "evalue": "",
     "traceback": [
      "\u001b[0;31m---------------------------------------------------------------------------\u001b[0m",
      "\u001b[0;31mKeyboardInterrupt\u001b[0m                         Traceback (most recent call last)",
      "\u001b[0;32m<ipython-input-4-095272fdb24f>\u001b[0m in \u001b[0;36m<module>\u001b[0;34m\u001b[0m\n\u001b[1;32m     20\u001b[0m \u001b[0;34m\u001b[0m\u001b[0m\n\u001b[1;32m     21\u001b[0m \u001b[0mprint\u001b[0m\u001b[0;34m(\u001b[0m\u001b[0;34mf\"START LISTENING ON '{topic}'\"\u001b[0m\u001b[0;34m)\u001b[0m\u001b[0;34m\u001b[0m\u001b[0;34m\u001b[0m\u001b[0m\n\u001b[0;32m---> 22\u001b[0;31m \u001b[0;32mfor\u001b[0m \u001b[0mmessage\u001b[0m \u001b[0;32min\u001b[0m \u001b[0mconsumer\u001b[0m\u001b[0;34m:\u001b[0m\u001b[0;34m\u001b[0m\u001b[0;34m\u001b[0m\u001b[0m\n\u001b[0m\u001b[1;32m     23\u001b[0m     \u001b[0;32mif\u001b[0m \u001b[0mi\u001b[0m \u001b[0;34m>\u001b[0m \u001b[0;36m500\u001b[0m\u001b[0;34m:\u001b[0m\u001b[0;34m\u001b[0m\u001b[0;34m\u001b[0m\u001b[0m\n\u001b[1;32m     24\u001b[0m         \u001b[0mclear_output\u001b[0m\u001b[0;34m(\u001b[0m\u001b[0;34m)\u001b[0m\u001b[0;34m\u001b[0m\u001b[0;34m\u001b[0m\u001b[0m\n",
      "\u001b[0;32m/opt/conda/lib/python3.8/site-packages/kafka/consumer/group.py\u001b[0m in \u001b[0;36m__next__\u001b[0;34m(self)\u001b[0m\n\u001b[1;32m   1191\u001b[0m             \u001b[0;32mreturn\u001b[0m \u001b[0mself\u001b[0m\u001b[0;34m.\u001b[0m\u001b[0mnext_v1\u001b[0m\u001b[0;34m(\u001b[0m\u001b[0;34m)\u001b[0m\u001b[0;34m\u001b[0m\u001b[0;34m\u001b[0m\u001b[0m\n\u001b[1;32m   1192\u001b[0m         \u001b[0;32melse\u001b[0m\u001b[0;34m:\u001b[0m\u001b[0;34m\u001b[0m\u001b[0;34m\u001b[0m\u001b[0m\n\u001b[0;32m-> 1193\u001b[0;31m             \u001b[0;32mreturn\u001b[0m \u001b[0mself\u001b[0m\u001b[0;34m.\u001b[0m\u001b[0mnext_v2\u001b[0m\u001b[0;34m(\u001b[0m\u001b[0;34m)\u001b[0m\u001b[0;34m\u001b[0m\u001b[0;34m\u001b[0m\u001b[0m\n\u001b[0m\u001b[1;32m   1194\u001b[0m \u001b[0;34m\u001b[0m\u001b[0m\n\u001b[1;32m   1195\u001b[0m     \u001b[0;32mdef\u001b[0m \u001b[0mnext_v2\u001b[0m\u001b[0;34m(\u001b[0m\u001b[0mself\u001b[0m\u001b[0;34m)\u001b[0m\u001b[0;34m:\u001b[0m\u001b[0;34m\u001b[0m\u001b[0;34m\u001b[0m\u001b[0m\n",
      "\u001b[0;32m/opt/conda/lib/python3.8/site-packages/kafka/consumer/group.py\u001b[0m in \u001b[0;36mnext_v2\u001b[0;34m(self)\u001b[0m\n\u001b[1;32m   1199\u001b[0m                 \u001b[0mself\u001b[0m\u001b[0;34m.\u001b[0m\u001b[0m_iterator\u001b[0m \u001b[0;34m=\u001b[0m \u001b[0mself\u001b[0m\u001b[0;34m.\u001b[0m\u001b[0m_message_generator_v2\u001b[0m\u001b[0;34m(\u001b[0m\u001b[0;34m)\u001b[0m\u001b[0;34m\u001b[0m\u001b[0;34m\u001b[0m\u001b[0m\n\u001b[1;32m   1200\u001b[0m             \u001b[0;32mtry\u001b[0m\u001b[0;34m:\u001b[0m\u001b[0;34m\u001b[0m\u001b[0;34m\u001b[0m\u001b[0m\n\u001b[0;32m-> 1201\u001b[0;31m                 \u001b[0;32mreturn\u001b[0m \u001b[0mnext\u001b[0m\u001b[0;34m(\u001b[0m\u001b[0mself\u001b[0m\u001b[0;34m.\u001b[0m\u001b[0m_iterator\u001b[0m\u001b[0;34m)\u001b[0m\u001b[0;34m\u001b[0m\u001b[0;34m\u001b[0m\u001b[0m\n\u001b[0m\u001b[1;32m   1202\u001b[0m             \u001b[0;32mexcept\u001b[0m \u001b[0mStopIteration\u001b[0m\u001b[0;34m:\u001b[0m\u001b[0;34m\u001b[0m\u001b[0;34m\u001b[0m\u001b[0m\n\u001b[1;32m   1203\u001b[0m                 \u001b[0mself\u001b[0m\u001b[0;34m.\u001b[0m\u001b[0m_iterator\u001b[0m \u001b[0;34m=\u001b[0m \u001b[0;32mNone\u001b[0m\u001b[0;34m\u001b[0m\u001b[0;34m\u001b[0m\u001b[0m\n",
      "\u001b[0;32m/opt/conda/lib/python3.8/site-packages/kafka/consumer/group.py\u001b[0m in \u001b[0;36m_message_generator_v2\u001b[0;34m(self)\u001b[0m\n\u001b[1;32m   1114\u001b[0m     \u001b[0;32mdef\u001b[0m \u001b[0m_message_generator_v2\u001b[0m\u001b[0;34m(\u001b[0m\u001b[0mself\u001b[0m\u001b[0;34m)\u001b[0m\u001b[0;34m:\u001b[0m\u001b[0;34m\u001b[0m\u001b[0;34m\u001b[0m\u001b[0m\n\u001b[1;32m   1115\u001b[0m         \u001b[0mtimeout_ms\u001b[0m \u001b[0;34m=\u001b[0m \u001b[0;36m1000\u001b[0m \u001b[0;34m*\u001b[0m \u001b[0;34m(\u001b[0m\u001b[0mself\u001b[0m\u001b[0;34m.\u001b[0m\u001b[0m_consumer_timeout\u001b[0m \u001b[0;34m-\u001b[0m \u001b[0mtime\u001b[0m\u001b[0;34m.\u001b[0m\u001b[0mtime\u001b[0m\u001b[0;34m(\u001b[0m\u001b[0;34m)\u001b[0m\u001b[0;34m)\u001b[0m\u001b[0;34m\u001b[0m\u001b[0;34m\u001b[0m\u001b[0m\n\u001b[0;32m-> 1116\u001b[0;31m         \u001b[0mrecord_map\u001b[0m \u001b[0;34m=\u001b[0m \u001b[0mself\u001b[0m\u001b[0;34m.\u001b[0m\u001b[0mpoll\u001b[0m\u001b[0;34m(\u001b[0m\u001b[0mtimeout_ms\u001b[0m\u001b[0;34m=\u001b[0m\u001b[0mtimeout_ms\u001b[0m\u001b[0;34m,\u001b[0m \u001b[0mupdate_offsets\u001b[0m\u001b[0;34m=\u001b[0m\u001b[0;32mFalse\u001b[0m\u001b[0;34m)\u001b[0m\u001b[0;34m\u001b[0m\u001b[0;34m\u001b[0m\u001b[0m\n\u001b[0m\u001b[1;32m   1117\u001b[0m         \u001b[0;32mfor\u001b[0m \u001b[0mtp\u001b[0m\u001b[0;34m,\u001b[0m \u001b[0mrecords\u001b[0m \u001b[0;32min\u001b[0m \u001b[0msix\u001b[0m\u001b[0;34m.\u001b[0m\u001b[0miteritems\u001b[0m\u001b[0;34m(\u001b[0m\u001b[0mrecord_map\u001b[0m\u001b[0;34m)\u001b[0m\u001b[0;34m:\u001b[0m\u001b[0;34m\u001b[0m\u001b[0;34m\u001b[0m\u001b[0m\n\u001b[1;32m   1118\u001b[0m             \u001b[0;31m# Generators are stateful, and it is possible that the tp / records\u001b[0m\u001b[0;34m\u001b[0m\u001b[0;34m\u001b[0m\u001b[0;34m\u001b[0m\u001b[0m\n",
      "\u001b[0;32m/opt/conda/lib/python3.8/site-packages/kafka/consumer/group.py\u001b[0m in \u001b[0;36mpoll\u001b[0;34m(self, timeout_ms, max_records, update_offsets)\u001b[0m\n\u001b[1;32m    653\u001b[0m         \u001b[0mremaining\u001b[0m \u001b[0;34m=\u001b[0m \u001b[0mtimeout_ms\u001b[0m\u001b[0;34m\u001b[0m\u001b[0;34m\u001b[0m\u001b[0m\n\u001b[1;32m    654\u001b[0m         \u001b[0;32mwhile\u001b[0m \u001b[0;32mTrue\u001b[0m\u001b[0;34m:\u001b[0m\u001b[0;34m\u001b[0m\u001b[0;34m\u001b[0m\u001b[0m\n\u001b[0;32m--> 655\u001b[0;31m             \u001b[0mrecords\u001b[0m \u001b[0;34m=\u001b[0m \u001b[0mself\u001b[0m\u001b[0;34m.\u001b[0m\u001b[0m_poll_once\u001b[0m\u001b[0;34m(\u001b[0m\u001b[0mremaining\u001b[0m\u001b[0;34m,\u001b[0m \u001b[0mmax_records\u001b[0m\u001b[0;34m,\u001b[0m \u001b[0mupdate_offsets\u001b[0m\u001b[0;34m=\u001b[0m\u001b[0mupdate_offsets\u001b[0m\u001b[0;34m)\u001b[0m\u001b[0;34m\u001b[0m\u001b[0;34m\u001b[0m\u001b[0m\n\u001b[0m\u001b[1;32m    656\u001b[0m             \u001b[0;32mif\u001b[0m \u001b[0mrecords\u001b[0m\u001b[0;34m:\u001b[0m\u001b[0;34m\u001b[0m\u001b[0;34m\u001b[0m\u001b[0m\n\u001b[1;32m    657\u001b[0m                 \u001b[0;32mreturn\u001b[0m \u001b[0mrecords\u001b[0m\u001b[0;34m\u001b[0m\u001b[0;34m\u001b[0m\u001b[0m\n",
      "\u001b[0;32m/opt/conda/lib/python3.8/site-packages/kafka/consumer/group.py\u001b[0m in \u001b[0;36m_poll_once\u001b[0;34m(self, timeout_ms, max_records, update_offsets)\u001b[0m\n\u001b[1;32m    700\u001b[0m \u001b[0;34m\u001b[0m\u001b[0m\n\u001b[1;32m    701\u001b[0m         \u001b[0mtimeout_ms\u001b[0m \u001b[0;34m=\u001b[0m \u001b[0mmin\u001b[0m\u001b[0;34m(\u001b[0m\u001b[0mtimeout_ms\u001b[0m\u001b[0;34m,\u001b[0m \u001b[0mself\u001b[0m\u001b[0;34m.\u001b[0m\u001b[0m_coordinator\u001b[0m\u001b[0;34m.\u001b[0m\u001b[0mtime_to_next_poll\u001b[0m\u001b[0;34m(\u001b[0m\u001b[0;34m)\u001b[0m \u001b[0;34m*\u001b[0m \u001b[0;36m1000\u001b[0m\u001b[0;34m)\u001b[0m\u001b[0;34m\u001b[0m\u001b[0;34m\u001b[0m\u001b[0m\n\u001b[0;32m--> 702\u001b[0;31m         \u001b[0mself\u001b[0m\u001b[0;34m.\u001b[0m\u001b[0m_client\u001b[0m\u001b[0;34m.\u001b[0m\u001b[0mpoll\u001b[0m\u001b[0;34m(\u001b[0m\u001b[0mtimeout_ms\u001b[0m\u001b[0;34m=\u001b[0m\u001b[0mtimeout_ms\u001b[0m\u001b[0;34m)\u001b[0m\u001b[0;34m\u001b[0m\u001b[0;34m\u001b[0m\u001b[0m\n\u001b[0m\u001b[1;32m    703\u001b[0m         \u001b[0;31m# after the long poll, we should check whether the group needs to rebalance\u001b[0m\u001b[0;34m\u001b[0m\u001b[0;34m\u001b[0m\u001b[0;34m\u001b[0m\u001b[0m\n\u001b[1;32m    704\u001b[0m         \u001b[0;31m# prior to returning data so that the group can stabilize faster\u001b[0m\u001b[0;34m\u001b[0m\u001b[0;34m\u001b[0m\u001b[0;34m\u001b[0m\u001b[0m\n",
      "\u001b[0;32m/opt/conda/lib/python3.8/site-packages/kafka/client_async.py\u001b[0m in \u001b[0;36mpoll\u001b[0;34m(self, timeout_ms, future)\u001b[0m\n\u001b[1;32m    600\u001b[0m                     \u001b[0mtimeout\u001b[0m \u001b[0;34m=\u001b[0m \u001b[0mmax\u001b[0m\u001b[0;34m(\u001b[0m\u001b[0;36m0\u001b[0m\u001b[0;34m,\u001b[0m \u001b[0mtimeout\u001b[0m\u001b[0;34m)\u001b[0m  \u001b[0;31m# avoid negative timeouts\u001b[0m\u001b[0;34m\u001b[0m\u001b[0;34m\u001b[0m\u001b[0m\n\u001b[1;32m    601\u001b[0m \u001b[0;34m\u001b[0m\u001b[0m\n\u001b[0;32m--> 602\u001b[0;31m                 \u001b[0mself\u001b[0m\u001b[0;34m.\u001b[0m\u001b[0m_poll\u001b[0m\u001b[0;34m(\u001b[0m\u001b[0mtimeout\u001b[0m \u001b[0;34m/\u001b[0m \u001b[0;36m1000\u001b[0m\u001b[0;34m)\u001b[0m\u001b[0;34m\u001b[0m\u001b[0;34m\u001b[0m\u001b[0m\n\u001b[0m\u001b[1;32m    603\u001b[0m \u001b[0;34m\u001b[0m\u001b[0m\n\u001b[1;32m    604\u001b[0m             \u001b[0;31m# called without the lock to avoid deadlock potential\u001b[0m\u001b[0;34m\u001b[0m\u001b[0;34m\u001b[0m\u001b[0;34m\u001b[0m\u001b[0m\n",
      "\u001b[0;32m/opt/conda/lib/python3.8/site-packages/kafka/client_async.py\u001b[0m in \u001b[0;36m_poll\u001b[0;34m(self, timeout)\u001b[0m\n\u001b[1;32m    632\u001b[0m \u001b[0;34m\u001b[0m\u001b[0m\n\u001b[1;32m    633\u001b[0m         \u001b[0mstart_select\u001b[0m \u001b[0;34m=\u001b[0m \u001b[0mtime\u001b[0m\u001b[0;34m.\u001b[0m\u001b[0mtime\u001b[0m\u001b[0;34m(\u001b[0m\u001b[0;34m)\u001b[0m\u001b[0;34m\u001b[0m\u001b[0;34m\u001b[0m\u001b[0m\n\u001b[0;32m--> 634\u001b[0;31m         \u001b[0mready\u001b[0m \u001b[0;34m=\u001b[0m \u001b[0mself\u001b[0m\u001b[0;34m.\u001b[0m\u001b[0m_selector\u001b[0m\u001b[0;34m.\u001b[0m\u001b[0mselect\u001b[0m\u001b[0;34m(\u001b[0m\u001b[0mtimeout\u001b[0m\u001b[0;34m)\u001b[0m\u001b[0;34m\u001b[0m\u001b[0;34m\u001b[0m\u001b[0m\n\u001b[0m\u001b[1;32m    635\u001b[0m         \u001b[0mend_select\u001b[0m \u001b[0;34m=\u001b[0m \u001b[0mtime\u001b[0m\u001b[0;34m.\u001b[0m\u001b[0mtime\u001b[0m\u001b[0;34m(\u001b[0m\u001b[0;34m)\u001b[0m\u001b[0;34m\u001b[0m\u001b[0;34m\u001b[0m\u001b[0m\n\u001b[1;32m    636\u001b[0m         \u001b[0;32mif\u001b[0m \u001b[0mself\u001b[0m\u001b[0;34m.\u001b[0m\u001b[0m_sensors\u001b[0m\u001b[0;34m:\u001b[0m\u001b[0;34m\u001b[0m\u001b[0;34m\u001b[0m\u001b[0m\n",
      "\u001b[0;32m/opt/conda/lib/python3.8/selectors.py\u001b[0m in \u001b[0;36mselect\u001b[0;34m(self, timeout)\u001b[0m\n\u001b[1;32m    466\u001b[0m             \u001b[0mready\u001b[0m \u001b[0;34m=\u001b[0m \u001b[0;34m[\u001b[0m\u001b[0;34m]\u001b[0m\u001b[0;34m\u001b[0m\u001b[0;34m\u001b[0m\u001b[0m\n\u001b[1;32m    467\u001b[0m             \u001b[0;32mtry\u001b[0m\u001b[0;34m:\u001b[0m\u001b[0;34m\u001b[0m\u001b[0;34m\u001b[0m\u001b[0m\n\u001b[0;32m--> 468\u001b[0;31m                 \u001b[0mfd_event_list\u001b[0m \u001b[0;34m=\u001b[0m \u001b[0mself\u001b[0m\u001b[0;34m.\u001b[0m\u001b[0m_selector\u001b[0m\u001b[0;34m.\u001b[0m\u001b[0mpoll\u001b[0m\u001b[0;34m(\u001b[0m\u001b[0mtimeout\u001b[0m\u001b[0;34m,\u001b[0m \u001b[0mmax_ev\u001b[0m\u001b[0;34m)\u001b[0m\u001b[0;34m\u001b[0m\u001b[0;34m\u001b[0m\u001b[0m\n\u001b[0m\u001b[1;32m    469\u001b[0m             \u001b[0;32mexcept\u001b[0m \u001b[0mInterruptedError\u001b[0m\u001b[0;34m:\u001b[0m\u001b[0;34m\u001b[0m\u001b[0;34m\u001b[0m\u001b[0m\n\u001b[1;32m    470\u001b[0m                 \u001b[0;32mreturn\u001b[0m \u001b[0mready\u001b[0m\u001b[0;34m\u001b[0m\u001b[0;34m\u001b[0m\u001b[0m\n",
      "\u001b[0;31mKeyboardInterrupt\u001b[0m: "
     ]
    }
   ],
   "source": [
    "import json\n",
    "from datetime import datetime\n",
    "from IPython.display import clear_output\n",
    "\n",
    "from kafka import KafkaConsumer, TopicPartition\n",
    "\n",
    "client = \"localhost:9092\"\n",
    "consumer = KafkaConsumer(bootstrap_servers=['localhost:9092'],\n",
    "                         enable_auto_commit=False,\n",
    "                         auto_offset_reset='latest')\n",
    "\n",
    "#\n",
    "#  CHANGE THIS TO THE TOPIC YOU WANT TO DEBUG\n",
    "#\n",
    "topic = 'ingest-cleaned'\n",
    "\n",
    "consumer.subscribe(topic)\n",
    "\n",
    "i = 0\n",
    "\n",
    "print(f\"START LISTENING ON '{topic}'\")\n",
    "for message in consumer:\n",
    "    if i > 500:\n",
    "        clear_output()\n",
    "        i = 0\n",
    "    i = i+1\n",
    "    print(f\"RAW MESSAGE VALUE: {message.value}\")\n",
    "    try:\n",
    "        m_obj = json.loads(message.value)\n",
    "        print(\"DECODED MESSAGE VALUE:\", m_obj)\n",
    "    except:\n",
    "        print(\"FAILED to decode message\")\n",
    "    ts = message.timestamp\n",
    "    ts = datetime.fromtimestamp(ts/1000.0)\n",
    "    print(f\"TIMESTAMP: {ts}\")\n",
    "    print()\n"
   ]
  },
  {
   "cell_type": "code",
   "execution_count": null,
   "metadata": {},
   "outputs": [],
   "source": []
  }
 ]
}