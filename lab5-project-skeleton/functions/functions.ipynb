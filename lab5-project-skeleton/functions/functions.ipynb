{
 "metadata": {
  "language_info": {
   "codemirror_mode": {
    "name": "ipython",
    "version": 3
   },
   "file_extension": ".py",
   "mimetype": "text/x-python",
   "name": "python",
   "nbconvert_exporter": "python",
   "pygments_lexer": "ipython3",
   "version": 3
  },
  "orig_nbformat": 2
 },
 "nbformat": 4,
 "nbformat_minor": 2,
 "cells": [
  {
   "source": [
    "# Things to keep in mind\n",
    "\n",
    "- All communication between stateful functions happens via protobuf structures. The data from Kafka is therefor also in protobuf format. Define your custom structures in the `protobuf/messages.proto` file. Every change to this file requires a recompilation with `protoc`. We included a vscode task (`generate protobuf`) which does this for you.\n",
    "\n",
    "    **Windows users** will need to change the line endings in scripts/generate_protobuf.sh manually by opening the file and clicking on the CRLF button on the bottom right. You will receive a pop-up, choose the LF option and save the file.\n",
    "\n",
    "- Messages in Kafka can have a key / value property. The messages written to a topic must have a key (encoded string). Stateful functions keep state according to the key value. This means that messages with the same key will use the same state.\n",
    "- You need to modify `module.yaml` to register stateful functions, Kafka ingress and egress topics. Modifying the module file requires a complete rebuild of the flink-master and flink-worker Docker images. Flink needs the information from this file to find out how to contact the functions, ingresses and egresses.\n",
    "- When testing functions, you can use `print()` statements.\n",
    "\n",
    "The Python SDK can be found [here](https://ci.apache.org/projects/flink/flink-statefun-docs-release-2.2/sdk/python.html).\n",
    "\n",
    "# How to run/test your code\n",
    "\n",
    "- If you modified the `module.yaml` file, delete the previous master and worker image (they will have the same docker image id) with `docker rmi --force $IMAGEID`.\n",
    "- If you modified the `messages.proto` file, recompile the protobuf files and copy the generated code to the directories that use them. For convenience we have added a VSCode task (`Generate protobuf`) which will automate this for this exercise. Use `protoc -I=$PROTOBUF_DIR --python_out=$PROTOBUF_DIR $PROTO_FILE_PATH` to compile manually.\n",
    "- Start the Flask server.\n",
    "- Start the Flink master/worker and Kafka cluster with Docker compose. Open a shell (Ctrl + ~) and type `docker-compose up`. **MacOS** users needs to use a terminal on their host.\n",
    "- Write events with your generator.\n",
    "- Don't forget to cleanup any remaining docker containers after stopping Docker compose. You can view all containers (stopped and running) with `docker ps -a`. Use `docker rm $CONTAINER_NAME` to remove them.\n",
    "\n"
   ],
   "cell_type": "markdown",
   "metadata": {}
  },
  {
   "cell_type": "code",
   "execution_count": null,
   "metadata": {},
   "outputs": [],
   "source": [
    "from statefun import (\n",
    "    StatefulFunctions,\n",
    "    RequestReplyHandler,\n",
    "    kafka_egress_record,\n",
    ")\n",
    "\n",
    "functions = StatefulFunctions()\n",
    "handler = RequestReplyHandler(functions)\n",
    "\n",
    "########################\n",
    "#    YOUR CODE HERE    #\n",
    "########################\n",
    "\n",
    "from flask import (\n",
    "    request,\n",
    "    make_response,\n",
    "    Flask,\n",
    ")\n",
    "\n",
    "app = Flask(__name__)\n",
    "\n",
    "\n",
    "@app.route('/statefun', methods=['POST'])\n",
    "def handle():\n",
    "    response_data = handler(request.data)\n",
    "    response = make_response(response_data)\n",
    "    response.headers.set('Content-Type', 'application/octet-stream')\n",
    "    return response\n",
    "\n",
    "if __name__ == '__main__':\n",
    "    app.run(host=\"0.0.0.0\")"
   ]
  }
 ]
}