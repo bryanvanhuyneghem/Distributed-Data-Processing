{
 "metadata": {
  "language_info": {
   "codemirror_mode": {
    "name": "ipython",
    "version": 3
   },
   "file_extension": ".py",
   "mimetype": "text/x-python",
   "name": "python",
   "nbconvert_exporter": "python",
   "pygments_lexer": "ipython3",
   "version": 3
  },
  "orig_nbformat": 2
 },
 "nbformat": 4,
 "nbformat_minor": 2,
 "cells": [
  {
   "source": [
    "# Simple generator\n",
    "Use this notebook to create simple messages to a single Kafka topic. Try to use a new cell for every type of message. "
   ],
   "cell_type": "markdown",
   "metadata": {}
  },
  {
   "cell_type": "code",
   "execution_count": null,
   "metadata": {},
   "outputs": [],
   "source": [
    "from kafka import KafkaProducer\n",
    "from messages_pb2 import UserRecommendedMoviesRequest\n",
    "\n",
    "USER_ID = 603\n",
    "\n",
    "request = UserRecommendedMoviesRequest()\n",
    "request.userid = int(user_id)\n",
    "\n",
    "p = KafkaProducer(bootstrap_servers=['localhost:9092'])\n",
    "p.send(\n",
    "    topic='userrecommovies',\n",
    "    key=repr(USER_ID).encode('utf-8'), # key has to be serialized\n",
    "    value=request.SerializeToString()\n",
    ")\n",
    "p.flush()"
   ]
  }
 ]
}