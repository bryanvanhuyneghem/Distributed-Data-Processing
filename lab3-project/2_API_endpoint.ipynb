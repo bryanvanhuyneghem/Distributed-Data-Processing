{
 "metadata": {
  "language_info": {
   "codemirror_mode": {
    "name": "ipython",
    "version": 3
   },
   "file_extension": ".py",
   "mimetype": "text/x-python",
   "name": "python",
   "nbconvert_exporter": "python",
   "pygments_lexer": "ipython3",
   "version": "3.8.6-final"
  },
  "orig_nbformat": 2,
  "kernelspec": {
   "name": "python3",
   "display_name": "Python 3"
  }
 },
 "nbformat": 4,
 "nbformat_minor": 2,
 "cells": [
  {
   "source": [
    "# Endpoint API"
   ],
   "cell_type": "markdown",
   "metadata": {}
  },
  {
   "source": [
    "This notebook simulates the API endpoint. The endpoint receives HTTP POST requests, checks if the JSON is valid and then puts the result on the Kafka topic <code>ingest</code>."
   ],
   "cell_type": "markdown",
   "metadata": {}
  },
  {
   "cell_type": "code",
   "execution_count": 1,
   "metadata": {},
   "outputs": [
    {
     "output_type": "stream",
     "name": "stdout",
     "text": [
      "Collecting kafka-python\n  Downloading kafka_python-2.0.2-py2.py3-none-any.whl (246 kB)\nCollecting flask\n  Downloading Flask-1.1.2-py2.py3-none-any.whl (94 kB)\nRequirement already satisfied: click>=5.1 in /opt/conda/lib/python3.8/site-packages (from flask) (7.1.2)\nCollecting Werkzeug>=0.15\n  Downloading Werkzeug-1.0.1-py2.py3-none-any.whl (298 kB)\nCollecting itsdangerous>=0.24\n  Downloading itsdangerous-1.1.0-py2.py3-none-any.whl (16 kB)\nRequirement already satisfied: Jinja2>=2.10.1 in /opt/conda/lib/python3.8/site-packages (from flask) (2.11.2)\nRequirement already satisfied: MarkupSafe>=0.23 in /opt/conda/lib/python3.8/site-packages (from Jinja2>=2.10.1->flask) (1.1.1)\nInstalling collected packages: kafka-python, Werkzeug, itsdangerous, flask\nSuccessfully installed Werkzeug-1.0.1 flask-1.1.2 itsdangerous-1.1.0 kafka-python-2.0.2\n"
     ]
    }
   ],
   "source": [
    "%%bash\n",
    "# Install the required Python 3 dependencies\n",
    "python3 -m pip install kafka-python flask"
   ]
  },
  {
   "cell_type": "code",
   "execution_count": 2,
   "metadata": {},
   "outputs": [
    {
     "output_type": "stream",
     "name": "stdout",
     "text": [
      " * Serving Flask app \"__main__\" (lazy loading)\n",
      " * Environment: production\n",
      "\u001b[31m   WARNING: This is a development server. Do not use it in a production deployment.\u001b[0m\n",
      "\u001b[2m   Use a production WSGI server instead.\u001b[0m\n",
      " * Debug mode: off\n",
      " * Running on http://0.0.0.0:5000/ (Press CTRL+C to quit)\n",
      "127.0.0.1 - - [26/Nov/2020 21:16:23] \"\u001b[37mPOST /nineoneone HTTP/1.1\u001b[0m\" 200 -\n",
      "127.0.0.1 - - [26/Nov/2020 21:16:23] \"\u001b[37mPOST /nineoneone HTTP/1.1\u001b[0m\" 200 -\n",
      "127.0.0.1 - - [26/Nov/2020 21:16:23] \"\u001b[37mPOST /nineoneone HTTP/1.1\u001b[0m\" 200 -\n",
      "127.0.0.1 - - [26/Nov/2020 21:16:23] \"\u001b[37mPOST /nineoneone HTTP/1.1\u001b[0m\" 200 -\n",
      "127.0.0.1 - - [26/Nov/2020 21:16:23] \"\u001b[37mPOST /nineoneone HTTP/1.1\u001b[0m\" 200 -\n",
      "127.0.0.1 - - [26/Nov/2020 21:16:24] \"\u001b[37mPOST /nineoneone HTTP/1.1\u001b[0m\" 200 -\n",
      "127.0.0.1 - - [26/Nov/2020 21:16:24] \"\u001b[37mPOST /nineoneone HTTP/1.1\u001b[0m\" 200 -\n",
      "127.0.0.1 - - [26/Nov/2020 21:16:24] \"\u001b[37mPOST /nineoneone HTTP/1.1\u001b[0m\" 200 -\n",
      "127.0.0.1 - - [26/Nov/2020 21:16:24] \"\u001b[37mPOST /nineoneone HTTP/1.1\u001b[0m\" 200 -\n",
      "127.0.0.1 - - [26/Nov/2020 21:16:24] \"\u001b[37mPOST /nineoneone HTTP/1.1\u001b[0m\" 200 -\n",
      "127.0.0.1 - - [26/Nov/2020 21:16:24] \"\u001b[37mPOST /nineoneone HTTP/1.1\u001b[0m\" 200 -\n",
      "127.0.0.1 - - [26/Nov/2020 21:16:24] \"\u001b[37mPOST /nineoneone HTTP/1.1\u001b[0m\" 200 -\n",
      "127.0.0.1 - - [26/Nov/2020 21:16:24] \"\u001b[37mPOST /nineoneone HTTP/1.1\u001b[0m\" 200 -\n",
      "127.0.0.1 - - [26/Nov/2020 21:16:25] \"\u001b[37mPOST /nineoneone HTTP/1.1\u001b[0m\" 200 -\n",
      "127.0.0.1 - - [26/Nov/2020 21:16:25] \"\u001b[37mPOST /nineoneone HTTP/1.1\u001b[0m\" 200 -\n",
      "127.0.0.1 - - [26/Nov/2020 21:16:25] \"\u001b[37mPOST /nineoneone HTTP/1.1\u001b[0m\" 200 -\n",
      "127.0.0.1 - - [26/Nov/2020 21:16:25] \"\u001b[37mPOST /nineoneone HTTP/1.1\u001b[0m\" 200 -\n",
      "127.0.0.1 - - [26/Nov/2020 21:16:25] \"\u001b[37mPOST /nineoneone HTTP/1.1\u001b[0m\" 200 -\n",
      "127.0.0.1 - - [26/Nov/2020 21:16:25] \"\u001b[37mPOST /nineoneone HTTP/1.1\u001b[0m\" 200 -\n",
      "127.0.0.1 - - [26/Nov/2020 21:16:25] \"\u001b[37mPOST /nineoneone HTTP/1.1\u001b[0m\" 200 -\n",
      "127.0.0.1 - - [26/Nov/2020 21:16:25] \"\u001b[37mPOST /nineoneone HTTP/1.1\u001b[0m\" 200 -\n",
      "127.0.0.1 - - [26/Nov/2020 21:16:25] \"\u001b[37mPOST /nineoneone HTTP/1.1\u001b[0m\" 200 -\n",
      "127.0.0.1 - - [26/Nov/2020 21:16:25] \"\u001b[37mPOST /nineoneone HTTP/1.1\u001b[0m\" 200 -\n",
      "127.0.0.1 - - [26/Nov/2020 21:16:25] \"\u001b[37mPOST /nineoneone HTTP/1.1\u001b[0m\" 200 -\n",
      "127.0.0.1 - - [26/Nov/2020 21:16:25] \"\u001b[37mPOST /nineoneone HTTP/1.1\u001b[0m\" 200 -\n",
      "127.0.0.1 - - [26/Nov/2020 21:24:10] \"\u001b[37mPOST /nineoneone HTTP/1.1\u001b[0m\" 200 -\n",
      "127.0.0.1 - - [26/Nov/2020 21:24:10] \"\u001b[37mPOST /nineoneone HTTP/1.1\u001b[0m\" 200 -\n",
      "127.0.0.1 - - [26/Nov/2020 21:24:10] \"\u001b[37mPOST /nineoneone HTTP/1.1\u001b[0m\" 200 -\n",
      "127.0.0.1 - - [26/Nov/2020 21:24:10] \"\u001b[37mPOST /nineoneone HTTP/1.1\u001b[0m\" 200 -\n",
      "127.0.0.1 - - [26/Nov/2020 21:24:11] \"\u001b[37mPOST /nineoneone HTTP/1.1\u001b[0m\" 200 -\n",
      "127.0.0.1 - - [26/Nov/2020 21:24:11] \"\u001b[37mPOST /nineoneone HTTP/1.1\u001b[0m\" 200 -\n",
      "127.0.0.1 - - [26/Nov/2020 21:24:11] \"\u001b[37mPOST /nineoneone HTTP/1.1\u001b[0m\" 200 -\n",
      "127.0.0.1 - - [26/Nov/2020 21:24:11] \"\u001b[37mPOST /nineoneone HTTP/1.1\u001b[0m\" 200 -\n",
      "127.0.0.1 - - [26/Nov/2020 21:24:11] \"\u001b[37mPOST /nineoneone HTTP/1.1\u001b[0m\" 200 -\n",
      "127.0.0.1 - - [26/Nov/2020 21:24:11] \"\u001b[37mPOST /nineoneone HTTP/1.1\u001b[0m\" 200 -\n",
      "127.0.0.1 - - [26/Nov/2020 21:24:11] \"\u001b[37mPOST /nineoneone HTTP/1.1\u001b[0m\" 200 -\n",
      "127.0.0.1 - - [26/Nov/2020 21:24:11] \"\u001b[37mPOST /nineoneone HTTP/1.1\u001b[0m\" 200 -\n",
      "127.0.0.1 - - [26/Nov/2020 21:24:12] \"\u001b[37mPOST /nineoneone HTTP/1.1\u001b[0m\" 200 -\n",
      "127.0.0.1 - - [26/Nov/2020 21:24:12] \"\u001b[37mPOST /nineoneone HTTP/1.1\u001b[0m\" 200 -\n",
      "127.0.0.1 - - [26/Nov/2020 21:24:12] \"\u001b[37mPOST /nineoneone HTTP/1.1\u001b[0m\" 200 -\n",
      "127.0.0.1 - - [26/Nov/2020 21:24:12] \"\u001b[37mPOST /nineoneone HTTP/1.1\u001b[0m\" 200 -\n",
      "127.0.0.1 - - [26/Nov/2020 21:24:12] \"\u001b[37mPOST /nineoneone HTTP/1.1\u001b[0m\" 200 -\n",
      "127.0.0.1 - - [26/Nov/2020 21:24:12] \"\u001b[37mPOST /nineoneone HTTP/1.1\u001b[0m\" 200 -\n",
      "127.0.0.1 - - [26/Nov/2020 21:24:12] \"\u001b[37mPOST /nineoneone HTTP/1.1\u001b[0m\" 200 -\n",
      "127.0.0.1 - - [26/Nov/2020 21:24:12] \"\u001b[37mPOST /nineoneone HTTP/1.1\u001b[0m\" 200 -\n",
      "127.0.0.1 - - [26/Nov/2020 21:24:12] \"\u001b[37mPOST /nineoneone HTTP/1.1\u001b[0m\" 200 -\n",
      "127.0.0.1 - - [26/Nov/2020 21:24:12] \"\u001b[37mPOST /nineoneone HTTP/1.1\u001b[0m\" 200 -\n",
      "127.0.0.1 - - [26/Nov/2020 21:24:12] \"\u001b[37mPOST /nineoneone HTTP/1.1\u001b[0m\" 200 -\n",
      "127.0.0.1 - - [26/Nov/2020 21:24:12] \"\u001b[37mPOST /nineoneone HTTP/1.1\u001b[0m\" 200 -\n",
      "127.0.0.1 - - [26/Nov/2020 21:24:12] \"\u001b[37mPOST /nineoneone HTTP/1.1\u001b[0m\" 200 -\n",
      "127.0.0.1 - - [26/Nov/2020 21:25:59] \"\u001b[37mPOST /nineoneone HTTP/1.1\u001b[0m\" 200 -\n",
      "127.0.0.1 - - [26/Nov/2020 21:25:59] \"\u001b[37mPOST /nineoneone HTTP/1.1\u001b[0m\" 200 -\n",
      "127.0.0.1 - - [26/Nov/2020 21:26:00] \"\u001b[37mPOST /nineoneone HTTP/1.1\u001b[0m\" 200 -\n",
      "127.0.0.1 - - [26/Nov/2020 21:26:00] \"\u001b[37mPOST /nineoneone HTTP/1.1\u001b[0m\" 200 -\n",
      "127.0.0.1 - - [26/Nov/2020 21:26:00] \"\u001b[37mPOST /nineoneone HTTP/1.1\u001b[0m\" 200 -\n",
      "127.0.0.1 - - [26/Nov/2020 21:26:00] \"\u001b[37mPOST /nineoneone HTTP/1.1\u001b[0m\" 200 -\n",
      "127.0.0.1 - - [26/Nov/2020 21:26:00] \"\u001b[37mPOST /nineoneone HTTP/1.1\u001b[0m\" 200 -\n",
      "127.0.0.1 - - [26/Nov/2020 21:26:01] \"\u001b[37mPOST /nineoneone HTTP/1.1\u001b[0m\" 200 -\n",
      "127.0.0.1 - - [26/Nov/2020 21:26:01] \"\u001b[37mPOST /nineoneone HTTP/1.1\u001b[0m\" 200 -\n",
      "127.0.0.1 - - [26/Nov/2020 21:26:01] \"\u001b[37mPOST /nineoneone HTTP/1.1\u001b[0m\" 200 -\n",
      "127.0.0.1 - - [26/Nov/2020 21:26:01] \"\u001b[37mPOST /nineoneone HTTP/1.1\u001b[0m\" 200 -\n",
      "127.0.0.1 - - [26/Nov/2020 21:26:01] \"\u001b[37mPOST /nineoneone HTTP/1.1\u001b[0m\" 200 -\n",
      "127.0.0.1 - - [26/Nov/2020 21:26:01] \"\u001b[37mPOST /nineoneone HTTP/1.1\u001b[0m\" 200 -\n",
      "127.0.0.1 - - [26/Nov/2020 21:26:01] \"\u001b[37mPOST /nineoneone HTTP/1.1\u001b[0m\" 200 -\n",
      "127.0.0.1 - - [26/Nov/2020 21:26:01] \"\u001b[37mPOST /nineoneone HTTP/1.1\u001b[0m\" 200 -\n",
      "127.0.0.1 - - [26/Nov/2020 21:26:01] \"\u001b[37mPOST /nineoneone HTTP/1.1\u001b[0m\" 200 -\n",
      "127.0.0.1 - - [26/Nov/2020 21:26:01] \"\u001b[37mPOST /nineoneone HTTP/1.1\u001b[0m\" 200 -\n",
      "127.0.0.1 - - [26/Nov/2020 21:26:01] \"\u001b[37mPOST /nineoneone HTTP/1.1\u001b[0m\" 200 -\n",
      "127.0.0.1 - - [26/Nov/2020 21:26:01] \"\u001b[37mPOST /nineoneone HTTP/1.1\u001b[0m\" 200 -\n",
      "127.0.0.1 - - [26/Nov/2020 21:26:01] \"\u001b[37mPOST /nineoneone HTTP/1.1\u001b[0m\" 200 -\n",
      "127.0.0.1 - - [26/Nov/2020 21:26:02] \"\u001b[37mPOST /nineoneone HTTP/1.1\u001b[0m\" 200 -\n",
      "127.0.0.1 - - [26/Nov/2020 21:26:02] \"\u001b[37mPOST /nineoneone HTTP/1.1\u001b[0m\" 200 -\n",
      "127.0.0.1 - - [26/Nov/2020 21:26:02] \"\u001b[37mPOST /nineoneone HTTP/1.1\u001b[0m\" 200 -\n",
      "127.0.0.1 - - [26/Nov/2020 21:26:02] \"\u001b[37mPOST /nineoneone HTTP/1.1\u001b[0m\" 200 -\n",
      "127.0.0.1 - - [26/Nov/2020 21:26:02] \"\u001b[37mPOST /nineoneone HTTP/1.1\u001b[0m\" 200 -\n"
     ]
    }
   ],
   "source": [
    "import json\n",
    "from flask import Flask, request\n",
    "from kafka import KafkaProducer\n",
    "from IPython.display import clear_output\n",
    "\n",
    "producer = KafkaProducer(\n",
    "    bootstrap_servers= ['localhost:9092'],\n",
    "    value_serializer = lambda v: json.dumps(v).encode('utf-8')\n",
    ")\n",
    "\n",
    "i = 0\n",
    "\n",
    "app = Flask(__name__)\n",
    "\n",
    "@app.route('/nineoneone', methods=['POST'])\n",
    "def nineoneone():\n",
    "    global i\n",
    "    if i > 100:\n",
    "        clear_output()\n",
    "        i = 0\n",
    "    i = i+1\n",
    "    \n",
    "    rjson = request.json\n",
    "\n",
    "    # Check if JSON is valid\n",
    "    if not rjson:\n",
    "        return (\n",
    "            json.dumps({'success':False, 'message' : 'could not decode json'}),\n",
    "            400,\n",
    "            {'ContentType':'application/json'}      \n",
    "        )\n",
    "\n",
    "    # Producer puts data on Kafka topic 'ingest'\n",
    "    producer.send('ingest', rjson).get(timeout=30)\n",
    "    return (\n",
    "        json.dumps({'success': True}),\n",
    "        200,\n",
    "        {'ContentType': 'application/json'}     \n",
    "    )\n",
    "\n",
    "# Run the app on localhost\n",
    "app.run(host='0.0.0.0')\n"
   ]
  },
  {
   "cell_type": "code",
   "execution_count": null,
   "metadata": {},
   "outputs": [],
   "source": []
  }
 ]
}