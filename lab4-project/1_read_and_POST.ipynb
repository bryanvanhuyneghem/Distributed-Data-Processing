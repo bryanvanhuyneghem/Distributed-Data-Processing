{
 "metadata": {
  "language_info": {
   "codemirror_mode": {
    "name": "ipython",
    "version": 3
   },
   "file_extension": ".py",
   "mimetype": "text/x-python",
   "name": "python",
   "nbconvert_exporter": "python",
   "pygments_lexer": "ipython3",
   "version": "3.8.6-final"
  },
  "orig_nbformat": 2,
  "kernelspec": {
   "name": "python3",
   "display_name": "Python 3"
  }
 },
 "nbformat": 4,
 "nbformat_minor": 2,
 "cells": [
  {
   "source": [
    "# Read and POST"
   ],
   "cell_type": "markdown",
   "metadata": {}
  },
  {
   "source": [
    "This notebook reads the dataset from a file and sends HTTP POST requests to the endpoint API. Code is based on the `2a-fake-website.ipynb` notebook."
   ],
   "cell_type": "markdown",
   "metadata": {}
  },
  {
   "cell_type": "code",
   "execution_count": 1,
   "metadata": {},
   "outputs": [
    {
     "output_type": "stream",
     "name": "stdout",
     "text": [
      "Requirement already satisfied: kafka-python in /opt/conda/lib/python3.8/site-packages (2.0.2)\n"
     ]
    }
   ],
   "source": [
    "%%bash\n",
    "python3 -m pip install kafka-python"
   ]
  },
  {
   "cell_type": "code",
   "execution_count": 6,
   "metadata": {},
   "outputs": [
    {
     "output_type": "stream",
     "name": "stdout",
     "text": [
      "Creating topic: ingest\nCreating topic: ingest-test\nCreating topic: ingest-cleaned-oef2\nCreating topic: ingest-cleaned\n"
     ]
    }
   ],
   "source": [
    "# Initialize Kafka Topics\n",
    "from kafka.admin import KafkaAdminClient, NewTopic\n",
    "from kafka.errors import TopicAlreadyExistsError\n",
    "\n",
    "TOPICS = [\"ingest\", \"ingest-test\", \"ingest-cleaned-oef2\", \"ingest-cleaned\"]\n",
    "\n",
    "admin_client = KafkaAdminClient(bootstrap_servers=\"localhost:9092\")\n",
    "topic_list = []\n",
    "for topicname in TOPICS:\n",
    "    print(\"Creating topic: {}\".format(topicname))\n",
    "    topic_list.append(NewTopic(name=topicname, num_partitions=1, replication_factor=1))\n",
    "try:\n",
    "    admin_client.create_topics(new_topics=topic_list, validate_only=False)\n",
    "except TopicAlreadyExistsError:\n",
    "    pass"
   ]
  },
  {
   "cell_type": "code",
   "execution_count": 7,
   "metadata": {},
   "outputs": [
    {
     "output_type": "execute_result",
     "data": {
      "text/plain": [
       "              lat        lng  \\\n",
       "2       40.121182 -75.351975   \n",
       "5       40.253473 -75.283245   \n",
       "7       40.217286 -75.405182   \n",
       "11      40.084161 -75.308386   \n",
       "6       40.182111 -75.127795   \n",
       "...           ...        ...   \n",
       "663517  40.157956 -75.348060   \n",
       "663518  40.136306 -75.428697   \n",
       "663521  40.015046 -75.299674   \n",
       "663519  40.013779 -75.300835   \n",
       "663520  40.121603 -75.351437   \n",
       "\n",
       "                                                     desc      zip  \\\n",
       "2       HAWS AVE; NORRISTOWN; 2015-12-10 @ 14:39:21-St...  19401.0   \n",
       "5       CANNON AVE & W 9TH ST;  LANSDALE; Station 345;...  19446.0   \n",
       "7       COLLEGEVILLE RD & LYWISKI RD;  SKIPPACK; Stati...  19426.0   \n",
       "11      BROOK RD & COLWELL LN; PLYMOUTH; 2015-12-10 @ ...  19428.0   \n",
       "6       LAUREL AVE & OAKDALE AVE;  HORSHAM; Station 35...  19044.0   \n",
       "...                                                   ...      ...   \n",
       "663517  SUNSET AVE & WOODLAND AVE; EAST NORRITON; 2020...  19403.0   \n",
       "663518  EAGLEVILLE RD & BUNTING CIR;  LOWER PROVIDENCE...  19403.0   \n",
       "663521  HAVERFORD STATION RD & W MONTGOMERY AVE; LOWER...  19041.0   \n",
       "663519  HAVERFORD STATION RD;  LOWER MERION; Station 3...  19041.0   \n",
       "663520  MARSHALL ST & HAWS AVE; NORRISTOWN; 2020-07-29...  19401.0   \n",
       "\n",
       "                              title            timeStamp               twp  \\\n",
       "2               Fire: GAS-ODOR/LEAK  2015-12-10 14:39:21        NORRISTOWN   \n",
       "5                  EMS: HEAD INJURY  2015-12-10 15:39:04          LANSDALE   \n",
       "7        EMS: RESPIRATORY EMERGENCY  2015-12-10 16:17:05          SKIPPACK   \n",
       "11      Traffic: VEHICLE ACCIDENT -  2015-12-10 16:32:10          PLYMOUTH   \n",
       "6              EMS: NAUSEA/VOMITING  2015-12-10 16:46:48           HORSHAM   \n",
       "...                             ...                  ...               ...   \n",
       "663517  Traffic: VEHICLE ACCIDENT -  2020-07-29 15:46:51     EAST NORRITON   \n",
       "663518        EMS: GENERAL WEAKNESS  2020-07-29 15:52:19  LOWER PROVIDENCE   \n",
       "663521  Traffic: VEHICLE ACCIDENT -  2020-07-29 15:52:46      LOWER MERION   \n",
       "663519        EMS: VEHICLE ACCIDENT  2020-07-29 15:52:52      LOWER MERION   \n",
       "663520          Fire: BUILDING FIRE  2020-07-29 15:54:08        NORRISTOWN   \n",
       "\n",
       "                                           addr  e  \n",
       "2                                      HAWS AVE  1  \n",
       "5                         CANNON AVE & W 9TH ST  1  \n",
       "7                  COLLEGEVILLE RD & LYWISKI RD  1  \n",
       "11                        BROOK RD & COLWELL LN  1  \n",
       "6                      LAUREL AVE & OAKDALE AVE  1  \n",
       "...                                         ... ..  \n",
       "663517                SUNSET AVE & WOODLAND AVE  1  \n",
       "663518              EAGLEVILLE RD & BUNTING CIR  1  \n",
       "663521  HAVERFORD STATION RD & W MONTGOMERY AVE  1  \n",
       "663519                     HAVERFORD STATION RD  1  \n",
       "663520                   MARSHALL ST & HAWS AVE  1  \n",
       "\n",
       "[663522 rows x 9 columns]"
      ],
      "text/html": "<div>\n<style scoped>\n    .dataframe tbody tr th:only-of-type {\n        vertical-align: middle;\n    }\n\n    .dataframe tbody tr th {\n        vertical-align: top;\n    }\n\n    .dataframe thead th {\n        text-align: right;\n    }\n</style>\n<table border=\"1\" class=\"dataframe\">\n  <thead>\n    <tr style=\"text-align: right;\">\n      <th></th>\n      <th>lat</th>\n      <th>lng</th>\n      <th>desc</th>\n      <th>zip</th>\n      <th>title</th>\n      <th>timeStamp</th>\n      <th>twp</th>\n      <th>addr</th>\n      <th>e</th>\n    </tr>\n  </thead>\n  <tbody>\n    <tr>\n      <th>2</th>\n      <td>40.121182</td>\n      <td>-75.351975</td>\n      <td>HAWS AVE; NORRISTOWN; 2015-12-10 @ 14:39:21-St...</td>\n      <td>19401.0</td>\n      <td>Fire: GAS-ODOR/LEAK</td>\n      <td>2015-12-10 14:39:21</td>\n      <td>NORRISTOWN</td>\n      <td>HAWS AVE</td>\n      <td>1</td>\n    </tr>\n    <tr>\n      <th>5</th>\n      <td>40.253473</td>\n      <td>-75.283245</td>\n      <td>CANNON AVE &amp; W 9TH ST;  LANSDALE; Station 345;...</td>\n      <td>19446.0</td>\n      <td>EMS: HEAD INJURY</td>\n      <td>2015-12-10 15:39:04</td>\n      <td>LANSDALE</td>\n      <td>CANNON AVE &amp; W 9TH ST</td>\n      <td>1</td>\n    </tr>\n    <tr>\n      <th>7</th>\n      <td>40.217286</td>\n      <td>-75.405182</td>\n      <td>COLLEGEVILLE RD &amp; LYWISKI RD;  SKIPPACK; Stati...</td>\n      <td>19426.0</td>\n      <td>EMS: RESPIRATORY EMERGENCY</td>\n      <td>2015-12-10 16:17:05</td>\n      <td>SKIPPACK</td>\n      <td>COLLEGEVILLE RD &amp; LYWISKI RD</td>\n      <td>1</td>\n    </tr>\n    <tr>\n      <th>11</th>\n      <td>40.084161</td>\n      <td>-75.308386</td>\n      <td>BROOK RD &amp; COLWELL LN; PLYMOUTH; 2015-12-10 @ ...</td>\n      <td>19428.0</td>\n      <td>Traffic: VEHICLE ACCIDENT -</td>\n      <td>2015-12-10 16:32:10</td>\n      <td>PLYMOUTH</td>\n      <td>BROOK RD &amp; COLWELL LN</td>\n      <td>1</td>\n    </tr>\n    <tr>\n      <th>6</th>\n      <td>40.182111</td>\n      <td>-75.127795</td>\n      <td>LAUREL AVE &amp; OAKDALE AVE;  HORSHAM; Station 35...</td>\n      <td>19044.0</td>\n      <td>EMS: NAUSEA/VOMITING</td>\n      <td>2015-12-10 16:46:48</td>\n      <td>HORSHAM</td>\n      <td>LAUREL AVE &amp; OAKDALE AVE</td>\n      <td>1</td>\n    </tr>\n    <tr>\n      <th>...</th>\n      <td>...</td>\n      <td>...</td>\n      <td>...</td>\n      <td>...</td>\n      <td>...</td>\n      <td>...</td>\n      <td>...</td>\n      <td>...</td>\n      <td>...</td>\n    </tr>\n    <tr>\n      <th>663517</th>\n      <td>40.157956</td>\n      <td>-75.348060</td>\n      <td>SUNSET AVE &amp; WOODLAND AVE; EAST NORRITON; 2020...</td>\n      <td>19403.0</td>\n      <td>Traffic: VEHICLE ACCIDENT -</td>\n      <td>2020-07-29 15:46:51</td>\n      <td>EAST NORRITON</td>\n      <td>SUNSET AVE &amp; WOODLAND AVE</td>\n      <td>1</td>\n    </tr>\n    <tr>\n      <th>663518</th>\n      <td>40.136306</td>\n      <td>-75.428697</td>\n      <td>EAGLEVILLE RD &amp; BUNTING CIR;  LOWER PROVIDENCE...</td>\n      <td>19403.0</td>\n      <td>EMS: GENERAL WEAKNESS</td>\n      <td>2020-07-29 15:52:19</td>\n      <td>LOWER PROVIDENCE</td>\n      <td>EAGLEVILLE RD &amp; BUNTING CIR</td>\n      <td>1</td>\n    </tr>\n    <tr>\n      <th>663521</th>\n      <td>40.015046</td>\n      <td>-75.299674</td>\n      <td>HAVERFORD STATION RD &amp; W MONTGOMERY AVE; LOWER...</td>\n      <td>19041.0</td>\n      <td>Traffic: VEHICLE ACCIDENT -</td>\n      <td>2020-07-29 15:52:46</td>\n      <td>LOWER MERION</td>\n      <td>HAVERFORD STATION RD &amp; W MONTGOMERY AVE</td>\n      <td>1</td>\n    </tr>\n    <tr>\n      <th>663519</th>\n      <td>40.013779</td>\n      <td>-75.300835</td>\n      <td>HAVERFORD STATION RD;  LOWER MERION; Station 3...</td>\n      <td>19041.0</td>\n      <td>EMS: VEHICLE ACCIDENT</td>\n      <td>2020-07-29 15:52:52</td>\n      <td>LOWER MERION</td>\n      <td>HAVERFORD STATION RD</td>\n      <td>1</td>\n    </tr>\n    <tr>\n      <th>663520</th>\n      <td>40.121603</td>\n      <td>-75.351437</td>\n      <td>MARSHALL ST &amp; HAWS AVE; NORRISTOWN; 2020-07-29...</td>\n      <td>19401.0</td>\n      <td>Fire: BUILDING FIRE</td>\n      <td>2020-07-29 15:54:08</td>\n      <td>NORRISTOWN</td>\n      <td>MARSHALL ST &amp; HAWS AVE</td>\n      <td>1</td>\n    </tr>\n  </tbody>\n</table>\n<p>663522 rows × 9 columns</p>\n</div>"
     },
     "metadata": {},
     "execution_count": 7
    }
   ],
   "source": [
    "import pandas as pd\n",
    "from datetime import datetime\n",
    "\n",
    "df = pd.read_csv(\"../911.csv\")\n",
    "df.sort_values(by=\"timeStamp\") # sort the rows so it seems like the data is streaming into our API in realtime"
   ]
  },
  {
   "cell_type": "code",
   "execution_count": 8,
   "metadata": {
    "tags": []
   },
   "outputs": [
    {
     "output_type": "stream",
     "name": "stdout",
     "text": [
      "All rows sent to API.\n"
     ]
    }
   ],
   "source": [
    "import random\n",
    "import time\n",
    "import requests\n",
    "from IPython.display import clear_output\n",
    "\n",
    "# Send rating data to API\n",
    "# Using the same seed will result in the same \"random\" sequence\n",
    "random.seed(\"GDV2020\") \n",
    "for index, row in df.head(10000).iterrows(): # change this to `df.head(n).iterrows()` to only read first n entries\n",
    "    time.sleep(random.randint(0, 10)/1000)\n",
    "    #print(row[[\"lat\", \"lng\", \"desc\", \"zip\", \"title\", \"timeStamp\", \"twp\", \"addr\", \"e\"]].to_dict())\n",
    "    requests.post(\n",
    "        'http://localhost:5000/nineoneone',\n",
    "        json=row[[\"lat\", \"lng\", \"desc\", \"zip\", \"title\", \"timeStamp\", \"twp\", \"addr\", \"e\"]].to_dict(),\n",
    "    )\n",
    "    if index % 5 == 0:\n",
    "        clear_output()\n",
    "\n",
    "clear_output()\n",
    "print(\"All rows sent to API.\")"
   ]
  },
  {
   "source": [
    "When you're finished with this notebook, _turn off the endpoint_ you just created and proceed open `3_cleanup.ipynb` to create a cleanup pipeline using Spark Structured Streaming."
   ],
   "cell_type": "markdown",
   "metadata": {}
  }
 ]
}