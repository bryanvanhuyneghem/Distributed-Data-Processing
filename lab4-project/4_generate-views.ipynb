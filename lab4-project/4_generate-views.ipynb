{
 "metadata": {
  "language_info": {
   "codemirror_mode": {
    "name": "ipython",
    "version": 3
   },
   "file_extension": ".py",
   "mimetype": "text/x-python",
   "name": "python",
   "nbconvert_exporter": "python",
   "pygments_lexer": "ipython3",
   "version": "3.8.6-final"
  },
  "orig_nbformat": 2,
  "kernelspec": {
   "name": "python3",
   "display_name": "Python 3"
  }
 },
 "nbformat": 4,
 "nbformat_minor": 2,
 "cells": [
  {
   "source": [
    "# Emergency (911) calls: views"
   ],
   "cell_type": "markdown",
   "metadata": {}
  },
  {
   "source": [
    "We read in the first 10K entries from our dataset (size:  ~660K). We have shown the functionality of our code using these 10K entries rather than 600K entries. All output will work with these 10K entries."
   ],
   "cell_type": "markdown",
   "metadata": {}
  },
  {
   "source": [
    "This cell contains two helper functions: one to delete a Kafka topic and one to test a streaming query and show the output."
   ],
   "cell_type": "markdown",
   "metadata": {}
  },
  {
   "cell_type": "code",
   "execution_count": 134,
   "metadata": {},
   "outputs": [],
   "source": [
    "from kafka.admin import KafkaAdminClient, NewTopic\n",
    "from kafka.errors import UnknownTopicOrPartitionError\n",
    "\n",
    "def delete_kafka_topic(name):\n",
    "    admin_client = KafkaAdminClient(bootstrap_servers=\"localhost:9092\")\n",
    "    try:\n",
    "        admin_client.delete_topics([name])\n",
    "    except UnknownTopicOrPartitionError:\n",
    "        pass\n",
    "\n",
    "\n",
    "def test_query(sdf, mode=\"append\", rows=None, wait=2, sort=None):\n",
    "    try:\n",
    "        tq = (\n",
    "            # Create an output stream\n",
    "            sdf.writeStream               \n",
    "            # Only write new rows to the output\n",
    "            .outputMode(mode)           \n",
    "            # Write output stream to an in-memory Spark table (a DataFrame)\n",
    "            .format(\"memory\")               \n",
    "            # The name of the output table will be the same as the name of the query\n",
    "            .queryName(\"test_query\")\n",
    "            # Submit the query to Spark and execute it\n",
    "            .start()\n",
    "        )\n",
    "\n",
    "        tq.processAllAvailable()\n",
    "\n",
    "        sleep(wait)\n",
    "        while(tq.status.get(\"isTriggerActive\") == True):\n",
    "            print(f\"DataAvailable: {tq.status['isDataAvailable']},\\tTriggerActive: {tq.status['isTriggerActive']}\\t{tq.status['message']}\")\n",
    "            sleep(wait)\n",
    "\n",
    "        # When the status says \"Waiting for data to arrive\", that means the query\n",
    "        # has finished its current iteration and is waiting for new messages from\n",
    "        # Kafka.\n",
    "        print(f\"DataAvailable: {tq.status['isDataAvailable']},\\tTriggerActive: {tq.status['isTriggerActive']}\\t{tq.status['message']}\")\n",
    "\n",
    "        memory_sink = spark.table(\"test_query\")\n",
    "\n",
    "        if sort:\n",
    "            memory_sink = memory_sink.sort(*sort)\n",
    "\n",
    "        # Show result table in Jupyter Notebook. Since Jupyter Notebooks have native support for showing pandas tables,\n",
    "        # we convert the Spark DataFrame.\n",
    "        if rows:\n",
    "            display(memory_sink)\n",
    "            display(memory_sink.take(10))\n",
    "        else:\n",
    "            display(memory_sink)\n",
    "            display(memory_sink.toPandas())\n",
    "\n",
    "    finally:\n",
    "        # Always try to stop the query but it doesn't matter if it fails.\n",
    "        try:\n",
    "            tq.stop()\n",
    "        except:\n",
    "            pass\n"
   ]
  },
  {
   "source": [
    "Create a Spark session."
   ],
   "cell_type": "markdown",
   "metadata": {}
  },
  {
   "cell_type": "code",
   "execution_count": 135,
   "metadata": {},
   "outputs": [],
   "source": [
    "from IPython.display import display, clear_output\n",
    "from time import sleep\n",
    "\n",
    "import os\n",
    "os.environ['PYSPARK_SUBMIT_ARGS'] = '--packages org.apache.spark:spark-sql-kafka-0-10_2.12:3.0.0 pyspark-shell'\n",
    "\n",
    "import pyspark \n",
    "from pyspark import SparkContext\n",
    "from pyspark.sql.session import SparkSession\n",
    "from pyspark.sql.types import *\n",
    "from pyspark.sql.functions import *\n",
    "\n",
    "# Create a local Spark cluster with two executors (if it doesn't already exist)\n",
    "spark = SparkSession.builder.master('local[2]').getOrCreate()\n",
    "sc = spark.sparkContext\n"
   ]
  },
  {
   "source": [
    "The first step is to read the cleaned data from Kafka. This is very similar to the code reading the uncleaned data, with the single exception that `timestamp` is now part of the json struct.\n",
    "\n",
    "We read the `ingest-cleaned` topic from kafka and decode the json in the following cell."
   ],
   "cell_type": "markdown",
   "metadata": {}
  },
  {
   "cell_type": "code",
   "execution_count": 136,
   "metadata": {},
   "outputs": [
    {
     "output_type": "stream",
     "name": "stdout",
     "text": [
      "DataAvailable: False,\tTriggerActive: False\tWaiting for data to arrive\n"
     ]
    },
    {
     "output_type": "display_data",
     "data": {
      "text/plain": "DataFrame[lat: double, lng: double, desc: string, zip: int, title: string, timeStamp: timestamp, twp: string, addr: string, majorTitle: string, minorTitle: string, hour: int, date: date]"
     },
     "metadata": {}
    },
    {
     "output_type": "display_data",
     "data": {
      "text/plain": "            lat        lng                                               desc  \\\n0     40.297876 -75.581294  REINDEER CT & DEAD END;  NEW HANOVER; Station ...   \n1     40.258061 -75.264680  BRIAR PATH & WHITEMARSH LN;  HATFIELD TOWNSHIP...   \n2     40.121182 -75.351975  HAWS AVE; NORRISTOWN; 2015-12-10 @ 14:39:21-St...   \n3     40.116153 -75.343513  AIRY ST & SWEDE ST;  NORRISTOWN; Station 308A;...   \n4     40.251492 -75.603350  CHERRYWOOD CT & DEAD END;  LOWER POTTSGROVE; S...   \n...         ...        ...                                                ...   \n9995  40.075536 -75.304635  3RD AVE & FAYETTE ST; CONSHOHOCKEN; 2016-01-06...   \n9996  40.211663 -75.275969  3RD ST & E MONTGOMERY AVE;  NORTH WALES; Stati...   \n9997  40.069013 -75.134458  OLD YORK RD & ACADEMY LN; CHELTENHAM; 2016-01-...   \n9998  40.312619 -75.312583  SCHOOL LN & LINCOLN AVE;  SOUDERTON; Station 3...   \n9999  40.371453 -75.484076  3RD ST & JEFFERSON ST;  RED HILL; Station 369;...   \n\n          zip                        title           timeStamp  \\\n0     19525.0       EMS: BACK PAINS/INJURY 2015-12-10 17:10:52   \n1     19446.0      EMS: DIABETIC EMERGENCY 2015-12-10 17:29:21   \n2     19401.0          Fire: GAS-ODOR/LEAK 2015-12-10 14:39:21   \n3     19401.0       EMS: CARDIAC EMERGENCY 2015-12-10 16:47:36   \n4         NaN               EMS: DIZZINESS 2015-12-10 16:56:52   \n...       ...                          ...                 ...   \n9995  19428.0             Fire: FIRE ALARM 2016-01-06 17:22:10   \n9996  19454.0                EMS: SEIZURES 2016-01-06 17:23:43   \n9997  19027.0  Traffic: VEHICLE ACCIDENT - 2016-01-06 17:24:15   \n9998  18964.0      EMS: DIABETIC EMERGENCY 2016-01-06 17:30:57   \n9999  18076.0                EMS: OVERDOSE 2016-01-06 17:27:35   \n\n                    twp                        addr majorTitle  \\\n0           NEW HANOVER      REINDEER CT & DEAD END        EMS   \n1     HATFIELD TOWNSHIP  BRIAR PATH & WHITEMARSH LN        EMS   \n2            NORRISTOWN                    HAWS AVE       Fire   \n3            NORRISTOWN          AIRY ST & SWEDE ST        EMS   \n4      LOWER POTTSGROVE    CHERRYWOOD CT & DEAD END        EMS   \n...                 ...                         ...        ...   \n9995       CONSHOHOCKEN        3RD AVE & FAYETTE ST       Fire   \n9996        NORTH WALES   3RD ST & E MONTGOMERY AVE        EMS   \n9997         CHELTENHAM    OLD YORK RD & ACADEMY LN    Traffic   \n9998          SOUDERTON     SCHOOL LN & LINCOLN AVE        EMS   \n9999           RED HILL       3RD ST & JEFFERSON ST        EMS   \n\n               minorTitle  hour        date  \n0       BACK PAINS/INJURY    17  2015-12-10  \n1      DIABETIC EMERGENCY    17  2015-12-10  \n2           GAS-ODOR/LEAK    14  2015-12-10  \n3       CARDIAC EMERGENCY    16  2015-12-10  \n4               DIZZINESS    16  2015-12-10  \n...                   ...   ...         ...  \n9995           FIRE ALARM    17  2016-01-06  \n9996             SEIZURES    17  2016-01-06  \n9997   VEHICLE ACCIDENT -    17  2016-01-06  \n9998   DIABETIC EMERGENCY    17  2016-01-06  \n9999             OVERDOSE    17  2016-01-06  \n\n[10000 rows x 12 columns]",
      "text/html": "<div>\n<style scoped>\n    .dataframe tbody tr th:only-of-type {\n        vertical-align: middle;\n    }\n\n    .dataframe tbody tr th {\n        vertical-align: top;\n    }\n\n    .dataframe thead th {\n        text-align: right;\n    }\n</style>\n<table border=\"1\" class=\"dataframe\">\n  <thead>\n    <tr style=\"text-align: right;\">\n      <th></th>\n      <th>lat</th>\n      <th>lng</th>\n      <th>desc</th>\n      <th>zip</th>\n      <th>title</th>\n      <th>timeStamp</th>\n      <th>twp</th>\n      <th>addr</th>\n      <th>majorTitle</th>\n      <th>minorTitle</th>\n      <th>hour</th>\n      <th>date</th>\n    </tr>\n  </thead>\n  <tbody>\n    <tr>\n      <th>0</th>\n      <td>40.297876</td>\n      <td>-75.581294</td>\n      <td>REINDEER CT &amp; DEAD END;  NEW HANOVER; Station ...</td>\n      <td>19525.0</td>\n      <td>EMS: BACK PAINS/INJURY</td>\n      <td>2015-12-10 17:10:52</td>\n      <td>NEW HANOVER</td>\n      <td>REINDEER CT &amp; DEAD END</td>\n      <td>EMS</td>\n      <td>BACK PAINS/INJURY</td>\n      <td>17</td>\n      <td>2015-12-10</td>\n    </tr>\n    <tr>\n      <th>1</th>\n      <td>40.258061</td>\n      <td>-75.264680</td>\n      <td>BRIAR PATH &amp; WHITEMARSH LN;  HATFIELD TOWNSHIP...</td>\n      <td>19446.0</td>\n      <td>EMS: DIABETIC EMERGENCY</td>\n      <td>2015-12-10 17:29:21</td>\n      <td>HATFIELD TOWNSHIP</td>\n      <td>BRIAR PATH &amp; WHITEMARSH LN</td>\n      <td>EMS</td>\n      <td>DIABETIC EMERGENCY</td>\n      <td>17</td>\n      <td>2015-12-10</td>\n    </tr>\n    <tr>\n      <th>2</th>\n      <td>40.121182</td>\n      <td>-75.351975</td>\n      <td>HAWS AVE; NORRISTOWN; 2015-12-10 @ 14:39:21-St...</td>\n      <td>19401.0</td>\n      <td>Fire: GAS-ODOR/LEAK</td>\n      <td>2015-12-10 14:39:21</td>\n      <td>NORRISTOWN</td>\n      <td>HAWS AVE</td>\n      <td>Fire</td>\n      <td>GAS-ODOR/LEAK</td>\n      <td>14</td>\n      <td>2015-12-10</td>\n    </tr>\n    <tr>\n      <th>3</th>\n      <td>40.116153</td>\n      <td>-75.343513</td>\n      <td>AIRY ST &amp; SWEDE ST;  NORRISTOWN; Station 308A;...</td>\n      <td>19401.0</td>\n      <td>EMS: CARDIAC EMERGENCY</td>\n      <td>2015-12-10 16:47:36</td>\n      <td>NORRISTOWN</td>\n      <td>AIRY ST &amp; SWEDE ST</td>\n      <td>EMS</td>\n      <td>CARDIAC EMERGENCY</td>\n      <td>16</td>\n      <td>2015-12-10</td>\n    </tr>\n    <tr>\n      <th>4</th>\n      <td>40.251492</td>\n      <td>-75.603350</td>\n      <td>CHERRYWOOD CT &amp; DEAD END;  LOWER POTTSGROVE; S...</td>\n      <td>NaN</td>\n      <td>EMS: DIZZINESS</td>\n      <td>2015-12-10 16:56:52</td>\n      <td>LOWER POTTSGROVE</td>\n      <td>CHERRYWOOD CT &amp; DEAD END</td>\n      <td>EMS</td>\n      <td>DIZZINESS</td>\n      <td>16</td>\n      <td>2015-12-10</td>\n    </tr>\n    <tr>\n      <th>...</th>\n      <td>...</td>\n      <td>...</td>\n      <td>...</td>\n      <td>...</td>\n      <td>...</td>\n      <td>...</td>\n      <td>...</td>\n      <td>...</td>\n      <td>...</td>\n      <td>...</td>\n      <td>...</td>\n      <td>...</td>\n    </tr>\n    <tr>\n      <th>9995</th>\n      <td>40.075536</td>\n      <td>-75.304635</td>\n      <td>3RD AVE &amp; FAYETTE ST; CONSHOHOCKEN; 2016-01-06...</td>\n      <td>19428.0</td>\n      <td>Fire: FIRE ALARM</td>\n      <td>2016-01-06 17:22:10</td>\n      <td>CONSHOHOCKEN</td>\n      <td>3RD AVE &amp; FAYETTE ST</td>\n      <td>Fire</td>\n      <td>FIRE ALARM</td>\n      <td>17</td>\n      <td>2016-01-06</td>\n    </tr>\n    <tr>\n      <th>9996</th>\n      <td>40.211663</td>\n      <td>-75.275969</td>\n      <td>3RD ST &amp; E MONTGOMERY AVE;  NORTH WALES; Stati...</td>\n      <td>19454.0</td>\n      <td>EMS: SEIZURES</td>\n      <td>2016-01-06 17:23:43</td>\n      <td>NORTH WALES</td>\n      <td>3RD ST &amp; E MONTGOMERY AVE</td>\n      <td>EMS</td>\n      <td>SEIZURES</td>\n      <td>17</td>\n      <td>2016-01-06</td>\n    </tr>\n    <tr>\n      <th>9997</th>\n      <td>40.069013</td>\n      <td>-75.134458</td>\n      <td>OLD YORK RD &amp; ACADEMY LN; CHELTENHAM; 2016-01-...</td>\n      <td>19027.0</td>\n      <td>Traffic: VEHICLE ACCIDENT -</td>\n      <td>2016-01-06 17:24:15</td>\n      <td>CHELTENHAM</td>\n      <td>OLD YORK RD &amp; ACADEMY LN</td>\n      <td>Traffic</td>\n      <td>VEHICLE ACCIDENT -</td>\n      <td>17</td>\n      <td>2016-01-06</td>\n    </tr>\n    <tr>\n      <th>9998</th>\n      <td>40.312619</td>\n      <td>-75.312583</td>\n      <td>SCHOOL LN &amp; LINCOLN AVE;  SOUDERTON; Station 3...</td>\n      <td>18964.0</td>\n      <td>EMS: DIABETIC EMERGENCY</td>\n      <td>2016-01-06 17:30:57</td>\n      <td>SOUDERTON</td>\n      <td>SCHOOL LN &amp; LINCOLN AVE</td>\n      <td>EMS</td>\n      <td>DIABETIC EMERGENCY</td>\n      <td>17</td>\n      <td>2016-01-06</td>\n    </tr>\n    <tr>\n      <th>9999</th>\n      <td>40.371453</td>\n      <td>-75.484076</td>\n      <td>3RD ST &amp; JEFFERSON ST;  RED HILL; Station 369;...</td>\n      <td>18076.0</td>\n      <td>EMS: OVERDOSE</td>\n      <td>2016-01-06 17:27:35</td>\n      <td>RED HILL</td>\n      <td>3RD ST &amp; JEFFERSON ST</td>\n      <td>EMS</td>\n      <td>OVERDOSE</td>\n      <td>17</td>\n      <td>2016-01-06</td>\n    </tr>\n  </tbody>\n</table>\n<p>10000 rows × 12 columns</p>\n</div>"
     },
     "metadata": {}
    }
   ],
   "source": [
    "input = (\n",
    "    spark.readStream.format(\"kafka\")\n",
    "    .option(\"kafka.bootstrap.servers\", \"localhost:9092\")\n",
    "    .option(\"subscribe\", \"ingest-cleaned\")\n",
    "    .option(\"startingOffsets\", \"earliest\")\n",
    "    .load()\n",
    ")\n",
    "\n",
    "# decode JSON\n",
    "schema = StructType([\n",
    "    StructField(\"lat\", DoubleType()),\n",
    "    StructField(\"lng\", DoubleType()),\n",
    "    StructField(\"desc\", StringType()),\n",
    "    StructField(\"zip\", IntegerType()),\n",
    "    StructField(\"title\", StringType()),\n",
    "    StructField(\"timeStamp\", TimestampType()),\n",
    "    StructField(\"twp\", StringType()),\n",
    "    StructField(\"addr\", StringType()),\n",
    "    StructField(\"majorTitle\", StringType()),\n",
    "    StructField(\"minorTitle\", StringType()),\n",
    "    StructField(\"hour\", IntegerType()),\n",
    "    StructField(\"date\", DateType()),\n",
    "])\n",
    "\n",
    "decoded_json_stream = (\n",
    "    input\n",
    "    .withColumn(\"value\", input[\"value\"].cast(\"string\"))\n",
    "    .select(\"value\")\n",
    "    .withColumn(\"nineoneone\", from_json(col(\"value\"), schema))\n",
    "    .select(\"nineoneone.*\")\n",
    ")\n",
    "\n",
    "test_query(decoded_json_stream, mode=\"append\")"
   ]
  },
  {
   "source": [
    "## Oef 1"
   ],
   "cell_type": "markdown",
   "metadata": {}
  },
  {
   "source": [
    "DataFrame: Show the number of calls of each type (= majorTitle) in a day. This view shows results before the day is over (using update mode), but uses as little RAM as possible. We group by date and majorTitle (i.e. the type of call) and we create a watermarked window over 1 day. \n",
    "\n",
    "Watermarking helps a Stream Processing Engine to deal with lateness. It is a threshold to specify how long the system waits for late events. If an arriving event lies within our watermark, it gets used to update a query. Otherwise, if it’s older than the watermark, it will be dropped and not further processed by the Streaming Engine."
   ],
   "cell_type": "markdown",
   "metadata": {}
  },
  {
   "cell_type": "code",
   "execution_count": 137,
   "metadata": {},
   "outputs": [
    {
     "output_type": "stream",
     "name": "stdout",
     "text": [
      "DataAvailable: False,\tTriggerActive: True\tWaiting for data to arrive\n"
     ]
    },
    {
     "output_type": "display_data",
     "data": {
      "text/plain": "DataFrame[date: date, majorTitle: string, window: struct<start:timestamp,end:timestamp>, numMajorTypes: bigint]"
     },
     "metadata": {}
    },
    {
     "output_type": "display_data",
     "data": {
      "text/plain": "          date majorTitle                                      window  \\\n0   2015-12-10        EMS  (2015-12-10 00:00:00, 2015-12-11 00:00:00)   \n1   2015-12-10       Fire  (2015-12-10 00:00:00, 2015-12-11 00:00:00)   \n2   2015-12-10    Traffic  (2015-12-10 00:00:00, 2015-12-11 00:00:00)   \n3   2015-12-11        EMS  (2015-12-11 00:00:00, 2015-12-12 00:00:00)   \n4   2015-12-11       Fire  (2015-12-11 00:00:00, 2015-12-12 00:00:00)   \n..         ...        ...                                         ...   \n79  2016-01-05       Fire  (2016-01-05 00:00:00, 2016-01-06 00:00:00)   \n80  2016-01-05    Traffic  (2016-01-05 00:00:00, 2016-01-06 00:00:00)   \n81  2016-01-06        EMS  (2016-01-06 00:00:00, 2016-01-07 00:00:00)   \n82  2016-01-06       Fire  (2016-01-06 00:00:00, 2016-01-07 00:00:00)   \n83  2016-01-06    Traffic  (2016-01-06 00:00:00, 2016-01-07 00:00:00)   \n\n    numMajorTypes  \n0              58  \n1              15  \n2              41  \n3             186  \n4              68  \n..            ...  \n79             77  \n80            171  \n81            146  \n82             58  \n83            116  \n\n[84 rows x 4 columns]",
      "text/html": "<div>\n<style scoped>\n    .dataframe tbody tr th:only-of-type {\n        vertical-align: middle;\n    }\n\n    .dataframe tbody tr th {\n        vertical-align: top;\n    }\n\n    .dataframe thead th {\n        text-align: right;\n    }\n</style>\n<table border=\"1\" class=\"dataframe\">\n  <thead>\n    <tr style=\"text-align: right;\">\n      <th></th>\n      <th>date</th>\n      <th>majorTitle</th>\n      <th>window</th>\n      <th>numMajorTypes</th>\n    </tr>\n  </thead>\n  <tbody>\n    <tr>\n      <th>0</th>\n      <td>2015-12-10</td>\n      <td>EMS</td>\n      <td>(2015-12-10 00:00:00, 2015-12-11 00:00:00)</td>\n      <td>58</td>\n    </tr>\n    <tr>\n      <th>1</th>\n      <td>2015-12-10</td>\n      <td>Fire</td>\n      <td>(2015-12-10 00:00:00, 2015-12-11 00:00:00)</td>\n      <td>15</td>\n    </tr>\n    <tr>\n      <th>2</th>\n      <td>2015-12-10</td>\n      <td>Traffic</td>\n      <td>(2015-12-10 00:00:00, 2015-12-11 00:00:00)</td>\n      <td>41</td>\n    </tr>\n    <tr>\n      <th>3</th>\n      <td>2015-12-11</td>\n      <td>EMS</td>\n      <td>(2015-12-11 00:00:00, 2015-12-12 00:00:00)</td>\n      <td>186</td>\n    </tr>\n    <tr>\n      <th>4</th>\n      <td>2015-12-11</td>\n      <td>Fire</td>\n      <td>(2015-12-11 00:00:00, 2015-12-12 00:00:00)</td>\n      <td>68</td>\n    </tr>\n    <tr>\n      <th>...</th>\n      <td>...</td>\n      <td>...</td>\n      <td>...</td>\n      <td>...</td>\n    </tr>\n    <tr>\n      <th>79</th>\n      <td>2016-01-05</td>\n      <td>Fire</td>\n      <td>(2016-01-05 00:00:00, 2016-01-06 00:00:00)</td>\n      <td>77</td>\n    </tr>\n    <tr>\n      <th>80</th>\n      <td>2016-01-05</td>\n      <td>Traffic</td>\n      <td>(2016-01-05 00:00:00, 2016-01-06 00:00:00)</td>\n      <td>171</td>\n    </tr>\n    <tr>\n      <th>81</th>\n      <td>2016-01-06</td>\n      <td>EMS</td>\n      <td>(2016-01-06 00:00:00, 2016-01-07 00:00:00)</td>\n      <td>146</td>\n    </tr>\n    <tr>\n      <th>82</th>\n      <td>2016-01-06</td>\n      <td>Fire</td>\n      <td>(2016-01-06 00:00:00, 2016-01-07 00:00:00)</td>\n      <td>58</td>\n    </tr>\n    <tr>\n      <th>83</th>\n      <td>2016-01-06</td>\n      <td>Traffic</td>\n      <td>(2016-01-06 00:00:00, 2016-01-07 00:00:00)</td>\n      <td>116</td>\n    </tr>\n  </tbody>\n</table>\n<p>84 rows × 4 columns</p>\n</div>"
     },
     "metadata": {}
    }
   ],
   "source": [
    "# met watermark\n",
    "window_1day_wm = (\n",
    "    decoded_json_stream\n",
    "    .withWatermark(\"timeStamp\", \"2 hour\")\n",
    "    .groupBy(\n",
    "        'date', 'majorTitle',\n",
    "        window(col(\"timeStamp\"), \"1 day\") \n",
    "    )\n",
    "    .agg(\n",
    "        count(\"majorTitle\").alias(\"numMajorTypes\")\n",
    "    )\n",
    ")\n",
    "test_query(window_1day_wm, mode='update', sort=['window', 'majorTitle'])"
   ]
  },
  {
   "source": [
    "## Oef 2"
   ],
   "cell_type": "markdown",
   "metadata": {}
  },
  {
   "source": [
    "Kafka: For each hour of the day, record if there were more calls than on the previous day. Use a static DataFrame for the historical records.\n",
    "\n",
    "We will do this by joining a Streaming DataFrame with a static/regular DataFrame. The historical data will come from the static DataFrame."
   ],
   "cell_type": "markdown",
   "metadata": {}
  },
  {
   "cell_type": "code",
   "execution_count": 138,
   "metadata": {},
   "outputs": [
    {
     "output_type": "stream",
     "name": "stdout",
     "text": [
      "DataAvailable: False,\tTriggerActive: False\tWaiting for data to arrive\n"
     ]
    },
    {
     "output_type": "display_data",
     "data": {
      "text/plain": "DataFrame[date: date, hour: int, window: struct<start:timestamp,end:timestamp>, numCalls: bigint]"
     },
     "metadata": {}
    },
    {
     "output_type": "display_data",
     "data": {
      "text/plain": "           date  hour                                      window  numCalls\n0    2015-12-10    14  (2015-12-10 14:00:00, 2015-12-10 15:00:00)         1\n1    2015-12-10    15  (2015-12-10 15:00:00, 2015-12-10 16:00:00)         1\n2    2015-12-10    16  (2015-12-10 16:00:00, 2015-12-10 17:00:00)         6\n3    2015-12-10    17  (2015-12-10 17:00:00, 2015-12-10 18:00:00)        16\n4    2015-12-10    18  (2015-12-10 18:00:00, 2015-12-10 19:00:00)        26\n..          ...   ...                                         ...       ...\n633  2016-01-06    13  (2016-01-06 13:00:00, 2016-01-06 14:00:00)        27\n634  2016-01-06    14  (2016-01-06 14:00:00, 2016-01-06 15:00:00)        26\n635  2016-01-06    15  (2016-01-06 15:00:00, 2016-01-06 16:00:00)        29\n636  2016-01-06    16  (2016-01-06 16:00:00, 2016-01-06 17:00:00)        22\n637  2016-01-06    17  (2016-01-06 17:00:00, 2016-01-06 18:00:00)        20\n\n[638 rows x 4 columns]",
      "text/html": "<div>\n<style scoped>\n    .dataframe tbody tr th:only-of-type {\n        vertical-align: middle;\n    }\n\n    .dataframe tbody tr th {\n        vertical-align: top;\n    }\n\n    .dataframe thead th {\n        text-align: right;\n    }\n</style>\n<table border=\"1\" class=\"dataframe\">\n  <thead>\n    <tr style=\"text-align: right;\">\n      <th></th>\n      <th>date</th>\n      <th>hour</th>\n      <th>window</th>\n      <th>numCalls</th>\n    </tr>\n  </thead>\n  <tbody>\n    <tr>\n      <th>0</th>\n      <td>2015-12-10</td>\n      <td>14</td>\n      <td>(2015-12-10 14:00:00, 2015-12-10 15:00:00)</td>\n      <td>1</td>\n    </tr>\n    <tr>\n      <th>1</th>\n      <td>2015-12-10</td>\n      <td>15</td>\n      <td>(2015-12-10 15:00:00, 2015-12-10 16:00:00)</td>\n      <td>1</td>\n    </tr>\n    <tr>\n      <th>2</th>\n      <td>2015-12-10</td>\n      <td>16</td>\n      <td>(2015-12-10 16:00:00, 2015-12-10 17:00:00)</td>\n      <td>6</td>\n    </tr>\n    <tr>\n      <th>3</th>\n      <td>2015-12-10</td>\n      <td>17</td>\n      <td>(2015-12-10 17:00:00, 2015-12-10 18:00:00)</td>\n      <td>16</td>\n    </tr>\n    <tr>\n      <th>4</th>\n      <td>2015-12-10</td>\n      <td>18</td>\n      <td>(2015-12-10 18:00:00, 2015-12-10 19:00:00)</td>\n      <td>26</td>\n    </tr>\n    <tr>\n      <th>...</th>\n      <td>...</td>\n      <td>...</td>\n      <td>...</td>\n      <td>...</td>\n    </tr>\n    <tr>\n      <th>633</th>\n      <td>2016-01-06</td>\n      <td>13</td>\n      <td>(2016-01-06 13:00:00, 2016-01-06 14:00:00)</td>\n      <td>27</td>\n    </tr>\n    <tr>\n      <th>634</th>\n      <td>2016-01-06</td>\n      <td>14</td>\n      <td>(2016-01-06 14:00:00, 2016-01-06 15:00:00)</td>\n      <td>26</td>\n    </tr>\n    <tr>\n      <th>635</th>\n      <td>2016-01-06</td>\n      <td>15</td>\n      <td>(2016-01-06 15:00:00, 2016-01-06 16:00:00)</td>\n      <td>29</td>\n    </tr>\n    <tr>\n      <th>636</th>\n      <td>2016-01-06</td>\n      <td>16</td>\n      <td>(2016-01-06 16:00:00, 2016-01-06 17:00:00)</td>\n      <td>22</td>\n    </tr>\n    <tr>\n      <th>637</th>\n      <td>2016-01-06</td>\n      <td>17</td>\n      <td>(2016-01-06 17:00:00, 2016-01-06 18:00:00)</td>\n      <td>20</td>\n    </tr>\n  </tbody>\n</table>\n<p>638 rows × 4 columns</p>\n</div>"
     },
     "metadata": {}
    }
   ],
   "source": [
    "# met watermark\n",
    "window_wm = (\n",
    "    decoded_json_stream\n",
    "    .withWatermark(\"timeStamp\", \"2 hour\") \n",
    "    .groupBy(\n",
    "        'date', 'hour',\n",
    "        window(col(\"timeStamp\"), \"1 hour\")\n",
    "    )\n",
    "    .agg(\n",
    "        count(\"title\").alias(\"numCalls\")\n",
    "    )\n",
    ")\n",
    "test_query(window_wm, mode=\"update\", sort=[\"date\", \"window\"])"
   ]
  },
  {
   "source": [
    "Create static historical dataframe:"
   ],
   "cell_type": "markdown",
   "metadata": {}
  },
  {
   "cell_type": "code",
   "execution_count": 139,
   "metadata": {},
   "outputs": [
    {
     "output_type": "execute_result",
     "data": {
      "text/plain": [
       "    historicalDate  historicalHour  historicalNumCalls\n",
       "0       2015-12-10              14                   1\n",
       "1       2015-12-10              15                   1\n",
       "2       2015-12-10              16                   6\n",
       "3       2015-12-10              17                  16\n",
       "4       2015-12-10              18                  26\n",
       "..             ...             ...                 ...\n",
       "633     2016-01-06              13                  27\n",
       "634     2016-01-06              14                  26\n",
       "635     2016-01-06              15                  29\n",
       "636     2016-01-06              16                  22\n",
       "637     2016-01-06              17                  20\n",
       "\n",
       "[638 rows x 3 columns]"
      ],
      "text/html": "<div>\n<style scoped>\n    .dataframe tbody tr th:only-of-type {\n        vertical-align: middle;\n    }\n\n    .dataframe tbody tr th {\n        vertical-align: top;\n    }\n\n    .dataframe thead th {\n        text-align: right;\n    }\n</style>\n<table border=\"1\" class=\"dataframe\">\n  <thead>\n    <tr style=\"text-align: right;\">\n      <th></th>\n      <th>historicalDate</th>\n      <th>historicalHour</th>\n      <th>historicalNumCalls</th>\n    </tr>\n  </thead>\n  <tbody>\n    <tr>\n      <th>0</th>\n      <td>2015-12-10</td>\n      <td>14</td>\n      <td>1</td>\n    </tr>\n    <tr>\n      <th>1</th>\n      <td>2015-12-10</td>\n      <td>15</td>\n      <td>1</td>\n    </tr>\n    <tr>\n      <th>2</th>\n      <td>2015-12-10</td>\n      <td>16</td>\n      <td>6</td>\n    </tr>\n    <tr>\n      <th>3</th>\n      <td>2015-12-10</td>\n      <td>17</td>\n      <td>16</td>\n    </tr>\n    <tr>\n      <th>4</th>\n      <td>2015-12-10</td>\n      <td>18</td>\n      <td>26</td>\n    </tr>\n    <tr>\n      <th>...</th>\n      <td>...</td>\n      <td>...</td>\n      <td>...</td>\n    </tr>\n    <tr>\n      <th>633</th>\n      <td>2016-01-06</td>\n      <td>13</td>\n      <td>27</td>\n    </tr>\n    <tr>\n      <th>634</th>\n      <td>2016-01-06</td>\n      <td>14</td>\n      <td>26</td>\n    </tr>\n    <tr>\n      <th>635</th>\n      <td>2016-01-06</td>\n      <td>15</td>\n      <td>29</td>\n    </tr>\n    <tr>\n      <th>636</th>\n      <td>2016-01-06</td>\n      <td>16</td>\n      <td>22</td>\n    </tr>\n    <tr>\n      <th>637</th>\n      <td>2016-01-06</td>\n      <td>17</td>\n      <td>20</td>\n    </tr>\n  </tbody>\n</table>\n<p>638 rows × 3 columns</p>\n</div>"
     },
     "metadata": {},
     "execution_count": 139
    }
   ],
   "source": [
    "nineoneonedf = spark.read.format(\"csv\").option(\"header\", \"true\").load(\"../911.csv\").limit(10000)\n",
    "nineoneonedf = nineoneonedf.withColumn('historicalHour', pyspark.sql.functions.hour(col(\"timeStamp\")).cast(IntegerType()))\n",
    "nineoneonedf = nineoneonedf.withColumn('historicalDate', pyspark.sql.functions.to_date(col(\"timeStamp\")))\n",
    "\n",
    "static_prev = (\n",
    "    nineoneonedf\n",
    "    .groupBy('historicalDate', 'historicalHour')\n",
    "    .agg(\n",
    "        count(\"title\").alias(\"historicalNumCalls\")\n",
    "    )\n",
    ")\n",
    "\n",
    "static_prev.toPandas().sort_values(by=['historicalDate', 'historicalHour'], ignore_index=True)"
   ]
  },
  {
   "source": [
    "The first day will not be included in our output, because there is no previous day to compare it with. One can include this day using a left join instead, but this will produce NaNs for the values of the historical columns. Thus, we will use a simple inner join instead."
   ],
   "cell_type": "markdown",
   "metadata": {}
  },
  {
   "cell_type": "code",
   "execution_count": 140,
   "metadata": {},
   "outputs": [
    {
     "output_type": "stream",
     "name": "stdout",
     "text": [
      "DataAvailable: False,\tTriggerActive: False\tWaiting for data to arrive\n"
     ]
    },
    {
     "output_type": "display_data",
     "data": {
      "text/plain": "DataFrame[date: date, hour: int, window: struct<start:timestamp,end:timestamp>, numCalls: bigint, historicalDate: date, historicalHour: int, historicalNumCalls: bigint]"
     },
     "metadata": {}
    },
    {
     "output_type": "display_data",
     "data": {
      "text/plain": "           date  hour                                      window  numCalls  \\\n0    2015-12-11    17  (2015-12-11 17:00:00, 2015-12-11 18:00:00)        39   \n1    2015-12-11    14  (2015-12-11 14:00:00, 2015-12-11 15:00:00)        23   \n2    2015-12-11    16  (2015-12-11 16:00:00, 2015-12-11 17:00:00)        27   \n3    2015-12-11    15  (2015-12-11 15:00:00, 2015-12-11 16:00:00)        28   \n4    2015-12-11    18  (2015-12-11 18:00:00, 2015-12-11 19:00:00)        24   \n..          ...   ...                                         ...       ...   \n598  2016-01-06    10  (2016-01-06 10:00:00, 2016-01-06 11:00:00)        22   \n599  2016-01-06    11  (2016-01-06 11:00:00, 2016-01-06 12:00:00)        17   \n600  2016-01-06    12  (2016-01-06 12:00:00, 2016-01-06 13:00:00)        30   \n601  2016-01-06    13  (2016-01-06 13:00:00, 2016-01-06 14:00:00)        27   \n602  2016-01-06    14  (2016-01-06 14:00:00, 2016-01-06 15:00:00)        26   \n\n    historicalDate  historicalHour  historicalNumCalls  \n0       2015-12-10              17                  16  \n1       2015-12-10              14                   1  \n2       2015-12-10              16                   6  \n3       2015-12-10              15                   1  \n4       2015-12-10              18                  26  \n..             ...             ...                 ...  \n598     2016-01-05              10                  19  \n599     2016-01-05              11                  20  \n600     2016-01-05              12                  37  \n601     2016-01-05              13                  37  \n602     2016-01-05              14                  27  \n\n[603 rows x 7 columns]",
      "text/html": "<div>\n<style scoped>\n    .dataframe tbody tr th:only-of-type {\n        vertical-align: middle;\n    }\n\n    .dataframe tbody tr th {\n        vertical-align: top;\n    }\n\n    .dataframe thead th {\n        text-align: right;\n    }\n</style>\n<table border=\"1\" class=\"dataframe\">\n  <thead>\n    <tr style=\"text-align: right;\">\n      <th></th>\n      <th>date</th>\n      <th>hour</th>\n      <th>window</th>\n      <th>numCalls</th>\n      <th>historicalDate</th>\n      <th>historicalHour</th>\n      <th>historicalNumCalls</th>\n    </tr>\n  </thead>\n  <tbody>\n    <tr>\n      <th>0</th>\n      <td>2015-12-11</td>\n      <td>17</td>\n      <td>(2015-12-11 17:00:00, 2015-12-11 18:00:00)</td>\n      <td>39</td>\n      <td>2015-12-10</td>\n      <td>17</td>\n      <td>16</td>\n    </tr>\n    <tr>\n      <th>1</th>\n      <td>2015-12-11</td>\n      <td>14</td>\n      <td>(2015-12-11 14:00:00, 2015-12-11 15:00:00)</td>\n      <td>23</td>\n      <td>2015-12-10</td>\n      <td>14</td>\n      <td>1</td>\n    </tr>\n    <tr>\n      <th>2</th>\n      <td>2015-12-11</td>\n      <td>16</td>\n      <td>(2015-12-11 16:00:00, 2015-12-11 17:00:00)</td>\n      <td>27</td>\n      <td>2015-12-10</td>\n      <td>16</td>\n      <td>6</td>\n    </tr>\n    <tr>\n      <th>3</th>\n      <td>2015-12-11</td>\n      <td>15</td>\n      <td>(2015-12-11 15:00:00, 2015-12-11 16:00:00)</td>\n      <td>28</td>\n      <td>2015-12-10</td>\n      <td>15</td>\n      <td>1</td>\n    </tr>\n    <tr>\n      <th>4</th>\n      <td>2015-12-11</td>\n      <td>18</td>\n      <td>(2015-12-11 18:00:00, 2015-12-11 19:00:00)</td>\n      <td>24</td>\n      <td>2015-12-10</td>\n      <td>18</td>\n      <td>26</td>\n    </tr>\n    <tr>\n      <th>...</th>\n      <td>...</td>\n      <td>...</td>\n      <td>...</td>\n      <td>...</td>\n      <td>...</td>\n      <td>...</td>\n      <td>...</td>\n    </tr>\n    <tr>\n      <th>598</th>\n      <td>2016-01-06</td>\n      <td>10</td>\n      <td>(2016-01-06 10:00:00, 2016-01-06 11:00:00)</td>\n      <td>22</td>\n      <td>2016-01-05</td>\n      <td>10</td>\n      <td>19</td>\n    </tr>\n    <tr>\n      <th>599</th>\n      <td>2016-01-06</td>\n      <td>11</td>\n      <td>(2016-01-06 11:00:00, 2016-01-06 12:00:00)</td>\n      <td>17</td>\n      <td>2016-01-05</td>\n      <td>11</td>\n      <td>20</td>\n    </tr>\n    <tr>\n      <th>600</th>\n      <td>2016-01-06</td>\n      <td>12</td>\n      <td>(2016-01-06 12:00:00, 2016-01-06 13:00:00)</td>\n      <td>30</td>\n      <td>2016-01-05</td>\n      <td>12</td>\n      <td>37</td>\n    </tr>\n    <tr>\n      <th>601</th>\n      <td>2016-01-06</td>\n      <td>13</td>\n      <td>(2016-01-06 13:00:00, 2016-01-06 14:00:00)</td>\n      <td>27</td>\n      <td>2016-01-05</td>\n      <td>13</td>\n      <td>37</td>\n    </tr>\n    <tr>\n      <th>602</th>\n      <td>2016-01-06</td>\n      <td>14</td>\n      <td>(2016-01-06 14:00:00, 2016-01-06 15:00:00)</td>\n      <td>26</td>\n      <td>2016-01-05</td>\n      <td>14</td>\n      <td>27</td>\n    </tr>\n  </tbody>\n</table>\n<p>603 rows × 7 columns</p>\n</div>"
     },
     "metadata": {}
    }
   ],
   "source": [
    "# Je kan streams met streams joinen\n",
    "from datetime import datetime, timedelta\n",
    "\n",
    "windows_and_historical = (\n",
    "    window_wm\n",
    "    .join(static_prev, (static_prev.historicalDate == (date_sub(window_wm.date,1))) & (static_prev.historicalHour == (window_wm.hour)) , \"inner\")\n",
    ")\n",
    "\n",
    "test_query(windows_and_historical, mode=\"append\", sort=[\"date\"])"
   ]
  },
  {
   "source": [
    "We now add a boolean column, where the value for a row will be True if the day has more calls than the same hour of the previous day."
   ],
   "cell_type": "markdown",
   "metadata": {}
  },
  {
   "cell_type": "code",
   "execution_count": 141,
   "metadata": {},
   "outputs": [],
   "source": [
    "windows_and_historical = windows_and_historical.withColumn('hasMoreCalls', when(col('numcalls') > col('historicalNumCalls'), True).otherwise(False))"
   ]
  },
  {
   "cell_type": "code",
   "execution_count": 142,
   "metadata": {},
   "outputs": [
    {
     "output_type": "stream",
     "name": "stdout",
     "text": [
      "DataAvailable: False,\tTriggerActive: False\tWaiting for data to arrive\n"
     ]
    },
    {
     "output_type": "display_data",
     "data": {
      "text/plain": "DataFrame[date: date, hour: int, window: struct<start:timestamp,end:timestamp>, numCalls: bigint, historicalDate: date, historicalHour: int, historicalNumCalls: bigint, hasMoreCalls: boolean]"
     },
     "metadata": {}
    },
    {
     "output_type": "display_data",
     "data": {
      "text/plain": "           date  hour                                      window  numCalls  \\\n0    2015-12-11    17  (2015-12-11 17:00:00, 2015-12-11 18:00:00)        39   \n1    2015-12-11    14  (2015-12-11 14:00:00, 2015-12-11 15:00:00)        23   \n2    2015-12-11    16  (2015-12-11 16:00:00, 2015-12-11 17:00:00)        27   \n3    2015-12-11    15  (2015-12-11 15:00:00, 2015-12-11 16:00:00)        28   \n4    2015-12-11    18  (2015-12-11 18:00:00, 2015-12-11 19:00:00)        24   \n..          ...   ...                                         ...       ...   \n598  2016-01-06    10  (2016-01-06 10:00:00, 2016-01-06 11:00:00)        22   \n599  2016-01-06    11  (2016-01-06 11:00:00, 2016-01-06 12:00:00)        17   \n600  2016-01-06    12  (2016-01-06 12:00:00, 2016-01-06 13:00:00)        30   \n601  2016-01-06    13  (2016-01-06 13:00:00, 2016-01-06 14:00:00)        27   \n602  2016-01-06    14  (2016-01-06 14:00:00, 2016-01-06 15:00:00)        26   \n\n    historicalDate  historicalHour  historicalNumCalls  hasMoreCalls  \n0       2015-12-10              17                  16          True  \n1       2015-12-10              14                   1          True  \n2       2015-12-10              16                   6          True  \n3       2015-12-10              15                   1          True  \n4       2015-12-10              18                  26         False  \n..             ...             ...                 ...           ...  \n598     2016-01-05              10                  19          True  \n599     2016-01-05              11                  20         False  \n600     2016-01-05              12                  37         False  \n601     2016-01-05              13                  37         False  \n602     2016-01-05              14                  27         False  \n\n[603 rows x 8 columns]",
      "text/html": "<div>\n<style scoped>\n    .dataframe tbody tr th:only-of-type {\n        vertical-align: middle;\n    }\n\n    .dataframe tbody tr th {\n        vertical-align: top;\n    }\n\n    .dataframe thead th {\n        text-align: right;\n    }\n</style>\n<table border=\"1\" class=\"dataframe\">\n  <thead>\n    <tr style=\"text-align: right;\">\n      <th></th>\n      <th>date</th>\n      <th>hour</th>\n      <th>window</th>\n      <th>numCalls</th>\n      <th>historicalDate</th>\n      <th>historicalHour</th>\n      <th>historicalNumCalls</th>\n      <th>hasMoreCalls</th>\n    </tr>\n  </thead>\n  <tbody>\n    <tr>\n      <th>0</th>\n      <td>2015-12-11</td>\n      <td>17</td>\n      <td>(2015-12-11 17:00:00, 2015-12-11 18:00:00)</td>\n      <td>39</td>\n      <td>2015-12-10</td>\n      <td>17</td>\n      <td>16</td>\n      <td>True</td>\n    </tr>\n    <tr>\n      <th>1</th>\n      <td>2015-12-11</td>\n      <td>14</td>\n      <td>(2015-12-11 14:00:00, 2015-12-11 15:00:00)</td>\n      <td>23</td>\n      <td>2015-12-10</td>\n      <td>14</td>\n      <td>1</td>\n      <td>True</td>\n    </tr>\n    <tr>\n      <th>2</th>\n      <td>2015-12-11</td>\n      <td>16</td>\n      <td>(2015-12-11 16:00:00, 2015-12-11 17:00:00)</td>\n      <td>27</td>\n      <td>2015-12-10</td>\n      <td>16</td>\n      <td>6</td>\n      <td>True</td>\n    </tr>\n    <tr>\n      <th>3</th>\n      <td>2015-12-11</td>\n      <td>15</td>\n      <td>(2015-12-11 15:00:00, 2015-12-11 16:00:00)</td>\n      <td>28</td>\n      <td>2015-12-10</td>\n      <td>15</td>\n      <td>1</td>\n      <td>True</td>\n    </tr>\n    <tr>\n      <th>4</th>\n      <td>2015-12-11</td>\n      <td>18</td>\n      <td>(2015-12-11 18:00:00, 2015-12-11 19:00:00)</td>\n      <td>24</td>\n      <td>2015-12-10</td>\n      <td>18</td>\n      <td>26</td>\n      <td>False</td>\n    </tr>\n    <tr>\n      <th>...</th>\n      <td>...</td>\n      <td>...</td>\n      <td>...</td>\n      <td>...</td>\n      <td>...</td>\n      <td>...</td>\n      <td>...</td>\n      <td>...</td>\n    </tr>\n    <tr>\n      <th>598</th>\n      <td>2016-01-06</td>\n      <td>10</td>\n      <td>(2016-01-06 10:00:00, 2016-01-06 11:00:00)</td>\n      <td>22</td>\n      <td>2016-01-05</td>\n      <td>10</td>\n      <td>19</td>\n      <td>True</td>\n    </tr>\n    <tr>\n      <th>599</th>\n      <td>2016-01-06</td>\n      <td>11</td>\n      <td>(2016-01-06 11:00:00, 2016-01-06 12:00:00)</td>\n      <td>17</td>\n      <td>2016-01-05</td>\n      <td>11</td>\n      <td>20</td>\n      <td>False</td>\n    </tr>\n    <tr>\n      <th>600</th>\n      <td>2016-01-06</td>\n      <td>12</td>\n      <td>(2016-01-06 12:00:00, 2016-01-06 13:00:00)</td>\n      <td>30</td>\n      <td>2016-01-05</td>\n      <td>12</td>\n      <td>37</td>\n      <td>False</td>\n    </tr>\n    <tr>\n      <th>601</th>\n      <td>2016-01-06</td>\n      <td>13</td>\n      <td>(2016-01-06 13:00:00, 2016-01-06 14:00:00)</td>\n      <td>27</td>\n      <td>2016-01-05</td>\n      <td>13</td>\n      <td>37</td>\n      <td>False</td>\n    </tr>\n    <tr>\n      <th>602</th>\n      <td>2016-01-06</td>\n      <td>14</td>\n      <td>(2016-01-06 14:00:00, 2016-01-06 15:00:00)</td>\n      <td>26</td>\n      <td>2016-01-05</td>\n      <td>14</td>\n      <td>27</td>\n      <td>False</td>\n    </tr>\n  </tbody>\n</table>\n<p>603 rows × 8 columns</p>\n</div>"
     },
     "metadata": {}
    }
   ],
   "source": [
    "# as an example to show that the above works:\n",
    "test_query(windows_and_historical, mode=\"append\", sort=[\"date\"])"
   ]
  },
  {
   "source": [
    "Finally, we want to write our results to the `ingest-cleaned-oef2` Kafka topic. This Kafka output stream expects a dataframe, a value and an optional key column.\n",
    "\n",
    "To create the `value` column, we first create a struct from all columns in the dataframe by using the `struct` function, serialize the result to json using `to_json`, and keep only the value column using `select` and `alias`."
   ],
   "cell_type": "markdown",
   "metadata": {}
  },
  {
   "cell_type": "code",
   "execution_count": 147,
   "metadata": {},
   "outputs": [],
   "source": [
    "output_stream = windows_and_historical.select(to_json(struct(\"*\")).alias(\"value\"))"
   ]
  },
  {
   "cell_type": "code",
   "execution_count": 148,
   "metadata": {},
   "outputs": [],
   "source": [
    "import shutil\n",
    "shutil.rmtree('checkpoints-cleanup')"
   ]
  },
  {
   "cell_type": "code",
   "execution_count": 149,
   "metadata": {},
   "outputs": [
    {
     "output_type": "display_data",
     "data": {
      "text/plain": "{'message': 'Processing new data',\n 'isDataAvailable': True,\n 'isTriggerActive': True}"
     },
     "metadata": {}
    }
   ],
   "source": [
    "try:\n",
    "    # In case the previous query wasn't stopped\n",
    "    tq.stop()\n",
    "    # Remove old checkpoint dir, otherwise you'll get weird runtime faults\n",
    "    os.rmdir(\"checkpoints-cleanup\")\n",
    "except:\n",
    "    pass\n",
    "\n",
    "# Prepare df for Kafka and write to kafka\n",
    "tq = (\n",
    "    output_stream\n",
    "    .writeStream.format(\"kafka\")\n",
    "    .option(\"kafka.bootstrap.servers\", \"localhost:9092\")\n",
    "    .option(\"topic\", \"ingest-cleaned-oef2\")\n",
    "    .option(\"checkpointLocation\", \"checkpoints-cleanup\")\n",
    "    .start()\n",
    ")\n",
    "\n",
    "sleep(2)\n",
    "display(tq.status)\n"
   ]
  },
  {
   "source": [
    "## Oef 3"
   ],
   "cell_type": "markdown",
   "metadata": {}
  },
  {
   "source": [
    "DataFrame: recreate the data for one of the graphs you created in the lab 1 project task\n",
    "\n",
    "\n",
    "This graph would show how many EMS calls with minorTitle 'ASSAULT VICTIM' there were per week."
   ],
   "cell_type": "markdown",
   "metadata": {}
  },
  {
   "source": [
    "decoded_json_stream = decoded_json_stream.withColumn('year', year(to_timestamp(col('timeStamp'), 'dd/MM/yyyy')).cast(IntegerType()))\n",
    "\n",
    "window_oef3_wm = (\n",
    "    decoded_json_stream\n",
    "    .withWatermark(\"timeStamp\", \"2 hour\") \n",
    "    .where(col('majorTitle') == 'EMS')\n",
    "    .where(col('minorTitle') == ' ASSAULT VICTIM')\n",
    "    .groupBy(\n",
    "        'year',\n",
    "        window(col(\"timeStamp\"), \"1 week\")\n",
    "    )\n",
    "    .agg(\n",
    "        count(\"minorTitle\").alias(\"numAssaultCallsPerWeek\")\n",
    "    )\n",
    ")\n",
    "\n",
    "test_query(window_oef3_wm, mode=\"append\", sort=[\"year\", \"window\"])"
   ],
   "cell_type": "code",
   "metadata": {},
   "execution_count": 157,
   "outputs": [
    {
     "output_type": "stream",
     "name": "stdout",
     "text": [
      "DataAvailable: False,\tTriggerActive: False\tWaiting for data to arrive\n"
     ]
    },
    {
     "output_type": "display_data",
     "data": {
      "text/plain": "DataFrame[year: int, window: struct<start:timestamp,end:timestamp>, numAssaultCallsPerWeek: bigint]"
     },
     "metadata": {}
    },
    {
     "output_type": "display_data",
     "data": {
      "text/plain": "   year                                      window  numAssaultCallsPerWeek\n0  2015  (2015-12-10 00:00:00, 2015-12-17 00:00:00)                      16\n1  2015  (2015-12-17 00:00:00, 2015-12-24 00:00:00)                      14\n2  2015  (2015-12-24 00:00:00, 2015-12-31 00:00:00)                      18",
      "text/html": "<div>\n<style scoped>\n    .dataframe tbody tr th:only-of-type {\n        vertical-align: middle;\n    }\n\n    .dataframe tbody tr th {\n        vertical-align: top;\n    }\n\n    .dataframe thead th {\n        text-align: right;\n    }\n</style>\n<table border=\"1\" class=\"dataframe\">\n  <thead>\n    <tr style=\"text-align: right;\">\n      <th></th>\n      <th>year</th>\n      <th>window</th>\n      <th>numAssaultCallsPerWeek</th>\n    </tr>\n  </thead>\n  <tbody>\n    <tr>\n      <th>0</th>\n      <td>2015</td>\n      <td>(2015-12-10 00:00:00, 2015-12-17 00:00:00)</td>\n      <td>16</td>\n    </tr>\n    <tr>\n      <th>1</th>\n      <td>2015</td>\n      <td>(2015-12-17 00:00:00, 2015-12-24 00:00:00)</td>\n      <td>14</td>\n    </tr>\n    <tr>\n      <th>2</th>\n      <td>2015</td>\n      <td>(2015-12-24 00:00:00, 2015-12-31 00:00:00)</td>\n      <td>18</td>\n    </tr>\n  </tbody>\n</table>\n</div>"
     },
     "metadata": {}
    }
   ]
  },
  {
   "cell_type": "code",
   "execution_count": null,
   "metadata": {},
   "outputs": [],
   "source": []
  }
 ]
}